{
 "cells": [
  {
   "cell_type": "markdown",
   "metadata": {},
   "source": [
    "# Pet Food Review Classifier "
   ]
  },
  {
   "cell_type": "markdown",
   "metadata": {},
   "source": [
    "The problem at hand is whether we can classify critical reviews on pet food online into different topics, for instance health, quality and customer service.\n",
    "\n",
    "We'll start by using \"Amazon Customer Reviews Dataset\" for pet products available here (https://s3.amazonaws.com/amazon-reviews-pds/readme.html), as well as scraping critical pet food reviews (those with 3 stars or less) from Chewy's website.\n",
    "\n",
    "The dataset then needs to be pre-processed before feeding it to any model.\n",
    "\n",
    "Two approaches are taken to this problem:\n",
    "1. **Unsupervised learning**, for which [LDA and TF-IDF](#LDA) have been adopted.\n",
    "2. **Supervised Learning**, where each review is first given a label using a dictionary of key words for each topic, and then used in [classifiers](#train)."
   ]
  },
  {
   "cell_type": "markdown",
   "metadata": {},
   "source": [
    "Let's start by loading the required libraries, as well as setting up a project and bucket configuration on GCP."
   ]
  },
  {
   "cell_type": "code",
   "execution_count": 19,
   "metadata": {},
   "outputs": [],
   "source": [
    "BUCKET = 'petfood_review'  \n",
    "PROJECT = 'petfoodrecommend'    \n",
    "REGION = 'us-central1'  "
   ]
  },
  {
   "cell_type": "code",
   "execution_count": 20,
   "metadata": {},
   "outputs": [],
   "source": [
    "import os\n",
    "os.environ['BUCKET'] = BUCKET\n",
    "os.environ['PROJECT'] = PROJECT\n",
    "os.environ['REGION'] = REGION"
   ]
  },
  {
   "cell_type": "code",
   "execution_count": 21,
   "metadata": {},
   "outputs": [
    {
     "name": "stdout",
     "output_type": "stream",
     "text": [
      "TensorFlow Version: 1.15.2\n"
     ]
    }
   ],
   "source": [
    "import matplotlib.pyplot as plt\n",
    "import pandas as pd\n",
    "import numpy as np\n",
    "import tensorflow as tf\n",
    "import re\n",
    "from nltk.corpus import stopwords\n",
    "import time\n",
    "from tensorflow.python.layers.core import Dense\n",
    "from tensorflow.python.ops.rnn_cell_impl import _zero_state_tensors\n",
    "print('TensorFlow Version: {}'.format(tf.__version__))\n",
    "\n",
    "import warnings\n",
    "warnings.filterwarnings('ignore')\n",
    "import datetime, os\n",
    "\n",
    "from google.cloud import storage"
   ]
  },
  {
   "cell_type": "code",
   "execution_count": 374,
   "metadata": {},
   "outputs": [],
   "source": [
    "import chart_studio\n",
    "# *fill in username and API Key for plotly here*\n",
    "chart_studio.tools.set_credentials_file(username='MelissaKR', api_key='rpgCYqSrBtBrTIbbMaV8')\n",
    "import chart_studio.plotly as py\n",
    "import plotly.graph_objs as go"
   ]
  },
  {
   "cell_type": "markdown",
   "metadata": {},
   "source": [
    "## Americans Are Spending More on Pets Than Ever Before: $72 Billion\n",
    "(https://www.americanpetproducts.org/press_releasedetail.asp?id=191)"
   ]
  },
  {
   "cell_type": "code",
   "execution_count": 378,
   "metadata": {},
   "outputs": [],
   "source": [
    "APPA = {'Pet Food':[29.07, 30.32, 31.68],\n",
    "'Veterinary Care':[17.07, 18.11, 18.98],\n",
    "'Year':['2017','2018','2019']}\n",
    "\n",
    "APPA_df = pd.DataFrame.from_dict(APPA)"
   ]
  },
  {
   "cell_type": "code",
   "execution_count": 379,
   "metadata": {},
   "outputs": [
    {
     "data": {
      "text/html": [
       "<div>\n",
       "<style scoped>\n",
       "    .dataframe tbody tr th:only-of-type {\n",
       "        vertical-align: middle;\n",
       "    }\n",
       "\n",
       "    .dataframe tbody tr th {\n",
       "        vertical-align: top;\n",
       "    }\n",
       "\n",
       "    .dataframe thead th {\n",
       "        text-align: right;\n",
       "    }\n",
       "</style>\n",
       "<table border=\"1\" class=\"dataframe\">\n",
       "  <thead>\n",
       "    <tr style=\"text-align: right;\">\n",
       "      <th></th>\n",
       "      <th>Pet Food</th>\n",
       "      <th>Veterinary Care</th>\n",
       "      <th>Year</th>\n",
       "    </tr>\n",
       "  </thead>\n",
       "  <tbody>\n",
       "    <tr>\n",
       "      <th>0</th>\n",
       "      <td>29.07</td>\n",
       "      <td>17.07</td>\n",
       "      <td>2017</td>\n",
       "    </tr>\n",
       "    <tr>\n",
       "      <th>1</th>\n",
       "      <td>30.32</td>\n",
       "      <td>18.11</td>\n",
       "      <td>2018</td>\n",
       "    </tr>\n",
       "    <tr>\n",
       "      <th>2</th>\n",
       "      <td>31.68</td>\n",
       "      <td>18.98</td>\n",
       "      <td>2019</td>\n",
       "    </tr>\n",
       "  </tbody>\n",
       "</table>\n",
       "</div>"
      ],
      "text/plain": [
       "   Pet Food  Veterinary Care  Year\n",
       "0     29.07            17.07  2017\n",
       "1     30.32            18.11  2018\n",
       "2     31.68            18.98  2019"
      ]
     },
     "execution_count": 379,
     "metadata": {},
     "output_type": "execute_result"
    }
   ],
   "source": [
    "APPA_df"
   ]
  },
  {
   "cell_type": "code",
   "execution_count": 1225,
   "metadata": {},
   "outputs": [
    {
     "data": {
      "text/html": [
       "\n",
       "        <iframe\n",
       "            width=\"100%\"\n",
       "            height=\"525px\"\n",
       "            src=\"https://plot.ly/~MelissaKR/109.embed\"\n",
       "            frameborder=\"0\"\n",
       "            allowfullscreen\n",
       "        ></iframe>\n",
       "        "
      ],
      "text/plain": [
       "<IPython.lib.display.IFrame at 0x7f9fb5592080>"
      ]
     },
     "execution_count": 1225,
     "metadata": {},
     "output_type": "execute_result"
    }
   ],
   "source": [
    "import plotly.graph_objects as go\n",
    "\n",
    "Years = [\"2017\",\"2018\",\"2019\"]\n",
    "food = APPA_df['Pet Food']\n",
    "fig1 = go.Figure()\n",
    "fig1.add_trace(go.Bar(\n",
    " #   x=Years,\n",
    "    y=food,\n",
    "    name='Pet Expense',\n",
    "    marker_color='steelblue',\n",
    "    width = 0.5\n",
    "))\n",
    "#fig.add_trace(go.Bar(\n",
    "#    x=Years,\n",
    "#    y=[17.07, 18.11, 18.98],\n",
    "#    name='Veterinary Care',\n",
    "#    marker_color='steelblue'\n",
    "#))\n",
    "\n",
    "# Here we modify the tickangle of the xaxis, resulting in rotated labels.\n",
    "fig1.update_layout(uniformtext_minsize=12,\n",
    "                  yaxis_title=\"$ Billion\",\n",
    "                  xaxis = dict(\n",
    "                      tickmode = 'array',\n",
    "                      tickvals = [0,1,2],\n",
    "                      ticktext = ['2017','2018','2019']),\n",
    "                  font=dict(\n",
    "                      family=\"sans-serif, monospace\",\n",
    "                      size=18,\n",
    "                      color=\"black\")\n",
    "                 )\n",
    "py.iplot(fig1)\n",
    "#py.image.save_as(fig, 'APPA.png')"
   ]
  },
  {
   "cell_type": "markdown",
   "metadata": {},
   "source": [
    "## Amazon Customer Reviews Dataset for Pet Products"
   ]
  },
  {
   "cell_type": "markdown",
   "metadata": {},
   "source": [
    "After transferring the dataset from an S3 bucket on AWS to GCS(Google Cloud Storage), we'll need to separate pet food from the rest of the pet products and critical reviews from the rest."
   ]
  },
  {
   "cell_type": "code",
   "execution_count": 105,
   "metadata": {},
   "outputs": [],
   "source": [
    "filename = 'gs://{0}/amazon_reviews_us_Pet_Products_v1_00.tsv'.format(BUCKET)"
   ]
  },
  {
   "cell_type": "code",
   "execution_count": 106,
   "metadata": {},
   "outputs": [
    {
     "name": "stderr",
     "output_type": "stream",
     "text": [
      "b'Skipping line 21404: expected 15 fields, saw 22\\nSkipping line 31839: expected 15 fields, saw 22\\nSkipping line 37779: expected 15 fields, saw 22\\nSkipping line 38344: expected 15 fields, saw 22\\nSkipping line 61449: expected 15 fields, saw 22\\n'\n",
      "b'Skipping line 80975: expected 15 fields, saw 22\\nSkipping line 85603: expected 15 fields, saw 22\\nSkipping line 95950: expected 15 fields, saw 22\\nSkipping line 105132: expected 15 fields, saw 22\\nSkipping line 115378: expected 15 fields, saw 22\\n'\n",
      "b'Skipping line 152632: expected 15 fields, saw 22\\nSkipping line 159310: expected 15 fields, saw 22\\nSkipping line 162724: expected 15 fields, saw 22\\nSkipping line 168588: expected 15 fields, saw 22\\nSkipping line 170412: expected 15 fields, saw 22\\nSkipping line 187169: expected 15 fields, saw 22\\n'\n",
      "b'Skipping line 205461: expected 15 fields, saw 22\\nSkipping line 210928: expected 15 fields, saw 22\\nSkipping line 213691: expected 15 fields, saw 22\\nSkipping line 228697: expected 15 fields, saw 22\\nSkipping line 229383: expected 15 fields, saw 22\\nSkipping line 235713: expected 15 fields, saw 22\\nSkipping line 240421: expected 15 fields, saw 22\\nSkipping line 253547: expected 15 fields, saw 22\\n'\n",
      "b'Skipping line 303488: expected 15 fields, saw 22\\nSkipping line 306271: expected 15 fields, saw 22\\nSkipping line 307701: expected 15 fields, saw 22\\nSkipping line 317078: expected 15 fields, saw 22\\n'\n",
      "b'Skipping line 331770: expected 15 fields, saw 22\\nSkipping line 340030: expected 15 fields, saw 22\\nSkipping line 343111: expected 15 fields, saw 22\\nSkipping line 347725: expected 15 fields, saw 22\\nSkipping line 352032: expected 15 fields, saw 22\\nSkipping line 363562: expected 15 fields, saw 22\\nSkipping line 366541: expected 15 fields, saw 22\\n'\n",
      "b'Skipping line 411700: expected 15 fields, saw 22\\nSkipping line 422970: expected 15 fields, saw 22\\nSkipping line 452274: expected 15 fields, saw 22\\n'\n",
      "b'Skipping line 478751: expected 15 fields, saw 22\\nSkipping line 492268: expected 15 fields, saw 22\\nSkipping line 524242: expected 15 fields, saw 22\\n'\n",
      "b'Skipping line 529833: expected 15 fields, saw 22\\nSkipping line 557261: expected 15 fields, saw 22\\nSkipping line 573734: expected 15 fields, saw 22\\n'\n",
      "b'Skipping line 609630: expected 15 fields, saw 22\\nSkipping line 619803: expected 15 fields, saw 22\\nSkipping line 630276: expected 15 fields, saw 22\\n'\n",
      "b'Skipping line 660802: expected 15 fields, saw 22\\nSkipping line 665431: expected 15 fields, saw 22\\nSkipping line 684186: expected 15 fields, saw 22\\nSkipping line 709599: expected 15 fields, saw 22\\nSkipping line 717969: expected 15 fields, saw 22\\n'\n",
      "b'Skipping line 730455: expected 15 fields, saw 22\\nSkipping line 760019: expected 15 fields, saw 22\\nSkipping line 771682: expected 15 fields, saw 22\\nSkipping line 772685: expected 15 fields, saw 22\\nSkipping line 780429: expected 15 fields, saw 22\\n'\n",
      "b'Skipping line 794285: expected 15 fields, saw 22\\nSkipping line 794600: expected 15 fields, saw 22\\nSkipping line 814105: expected 15 fields, saw 22\\nSkipping line 821013: expected 15 fields, saw 22\\nSkipping line 821572: expected 15 fields, saw 22\\nSkipping line 838818: expected 15 fields, saw 22\\n'\n",
      "b'Skipping line 882484: expected 15 fields, saw 22\\nSkipping line 884285: expected 15 fields, saw 22\\nSkipping line 889122: expected 15 fields, saw 22\\nSkipping line 903263: expected 15 fields, saw 22\\nSkipping line 905909: expected 15 fields, saw 22\\n'\n",
      "b'Skipping line 942971: expected 15 fields, saw 22\\nSkipping line 974189: expected 15 fields, saw 22\\nSkipping line 974322: expected 15 fields, saw 22\\nSkipping line 976014: expected 15 fields, saw 22\\nSkipping line 979587: expected 15 fields, saw 22\\n'\n",
      "b'Skipping line 984046: expected 15 fields, saw 22\\nSkipping line 987303: expected 15 fields, saw 22\\nSkipping line 988454: expected 15 fields, saw 22\\nSkipping line 1022324: expected 15 fields, saw 22\\nSkipping line 1040163: expected 15 fields, saw 22\\nSkipping line 1041725: expected 15 fields, saw 22\\nSkipping line 1042582: expected 15 fields, saw 22\\n'\n",
      "b'Skipping line 1050288: expected 15 fields, saw 22\\nSkipping line 1050916: expected 15 fields, saw 22\\nSkipping line 1058744: expected 15 fields, saw 22\\nSkipping line 1083177: expected 15 fields, saw 22\\nSkipping line 1100258: expected 15 fields, saw 22\\nSkipping line 1107278: expected 15 fields, saw 22\\nSkipping line 1111345: expected 15 fields, saw 22\\nSkipping line 1111479: expected 15 fields, saw 22\\n'\n",
      "b'Skipping line 1125823: expected 15 fields, saw 22\\nSkipping line 1129482: expected 15 fields, saw 22\\nSkipping line 1131952: expected 15 fields, saw 22\\nSkipping line 1155388: expected 15 fields, saw 22\\nSkipping line 1169389: expected 15 fields, saw 22\\nSkipping line 1173501: expected 15 fields, saw 22\\nSkipping line 1176301: expected 15 fields, saw 22\\n'\n",
      "b'Skipping line 1186651: expected 15 fields, saw 22\\nSkipping line 1195294: expected 15 fields, saw 22\\nSkipping line 1196071: expected 15 fields, saw 22\\nSkipping line 1203091: expected 15 fields, saw 22\\nSkipping line 1205015: expected 15 fields, saw 22\\nSkipping line 1217204: expected 15 fields, saw 22\\nSkipping line 1220082: expected 15 fields, saw 22\\nSkipping line 1231204: expected 15 fields, saw 22\\nSkipping line 1231448: expected 15 fields, saw 22\\nSkipping line 1238917: expected 15 fields, saw 22\\n'\n",
      "b'Skipping line 1255057: expected 15 fields, saw 22\\nSkipping line 1285411: expected 15 fields, saw 22\\nSkipping line 1287752: expected 15 fields, saw 22\\nSkipping line 1292711: expected 15 fields, saw 22\\nSkipping line 1299584: expected 15 fields, saw 22\\nSkipping line 1302522: expected 15 fields, saw 22\\nSkipping line 1304105: expected 15 fields, saw 22\\n'\n",
      "b'Skipping line 1332110: expected 15 fields, saw 22\\nSkipping line 1340500: expected 15 fields, saw 22\\nSkipping line 1343112: expected 15 fields, saw 22\\nSkipping line 1343246: expected 15 fields, saw 22\\nSkipping line 1343848: expected 15 fields, saw 22\\nSkipping line 1351907: expected 15 fields, saw 22\\nSkipping line 1355456: expected 15 fields, saw 22\\nSkipping line 1364074: expected 15 fields, saw 22\\nSkipping line 1365046: expected 15 fields, saw 22\\nSkipping line 1375358: expected 15 fields, saw 22\\n'\n",
      "b'Skipping line 1469126: expected 15 fields, saw 22\\nSkipping line 1480057: expected 15 fields, saw 22\\nSkipping line 1506711: expected 15 fields, saw 22\\n'\n",
      "b'Skipping line 1616037: expected 15 fields, saw 22\\n'\n",
      "b'Skipping line 1773884: expected 15 fields, saw 22\\nSkipping line 1825979: expected 15 fields, saw 22\\n'\n"
     ]
    }
   ],
   "source": [
    "df = pd.read_csv(filename, delimiter = '\\t', error_bad_lines=False)"
   ]
  },
  {
   "cell_type": "markdown",
   "metadata": {},
   "source": [
    "Let's take a look at what we have:"
   ]
  },
  {
   "cell_type": "code",
   "execution_count": 194,
   "metadata": {},
   "outputs": [
    {
     "data": {
      "text/html": [
       "<div>\n",
       "<style scoped>\n",
       "    .dataframe tbody tr th:only-of-type {\n",
       "        vertical-align: middle;\n",
       "    }\n",
       "\n",
       "    .dataframe tbody tr th {\n",
       "        vertical-align: top;\n",
       "    }\n",
       "\n",
       "    .dataframe thead th {\n",
       "        text-align: right;\n",
       "    }\n",
       "</style>\n",
       "<table border=\"1\" class=\"dataframe\">\n",
       "  <thead>\n",
       "    <tr style=\"text-align: right;\">\n",
       "      <th></th>\n",
       "      <th>marketplace</th>\n",
       "      <th>customer_id</th>\n",
       "      <th>review_id</th>\n",
       "      <th>product_id</th>\n",
       "      <th>product_parent</th>\n",
       "      <th>product_title</th>\n",
       "      <th>product_category</th>\n",
       "      <th>star_rating</th>\n",
       "      <th>helpful_votes</th>\n",
       "      <th>total_votes</th>\n",
       "      <th>vine</th>\n",
       "      <th>verified_purchase</th>\n",
       "      <th>review_headline</th>\n",
       "      <th>review_body</th>\n",
       "      <th>review_date</th>\n",
       "    </tr>\n",
       "  </thead>\n",
       "  <tbody>\n",
       "    <tr>\n",
       "      <th>0</th>\n",
       "      <td>US</td>\n",
       "      <td>28794885</td>\n",
       "      <td>REAKC26P07MDN</td>\n",
       "      <td>B00Q0K9604</td>\n",
       "      <td>510387886</td>\n",
       "      <td>(8-Pack) EZwhelp Belly Band/Wrap</td>\n",
       "      <td>Pet Products</td>\n",
       "      <td>5.0</td>\n",
       "      <td>0.0</td>\n",
       "      <td>0.0</td>\n",
       "      <td>N</td>\n",
       "      <td>Y</td>\n",
       "      <td>A great purchase for \"dribbly\" dogs</td>\n",
       "      <td>Best belly bands on the market!  These are a g...</td>\n",
       "      <td>2015-08-31</td>\n",
       "    </tr>\n",
       "    <tr>\n",
       "      <th>1</th>\n",
       "      <td>US</td>\n",
       "      <td>11488901</td>\n",
       "      <td>R3NU7OMZ4HQIEG</td>\n",
       "      <td>B00MBW5O9W</td>\n",
       "      <td>912374672</td>\n",
       "      <td>Warren Eckstein's Hugs &amp; Kisses Vitamin Minera...</td>\n",
       "      <td>Pet Products</td>\n",
       "      <td>2.0</td>\n",
       "      <td>0.0</td>\n",
       "      <td>1.0</td>\n",
       "      <td>N</td>\n",
       "      <td>Y</td>\n",
       "      <td>My dogs love Hugs and Kisses</td>\n",
       "      <td>My dogs love Hugs and Kisses.  However, the la...</td>\n",
       "      <td>2015-08-31</td>\n",
       "    </tr>\n",
       "    <tr>\n",
       "      <th>2</th>\n",
       "      <td>US</td>\n",
       "      <td>43214993</td>\n",
       "      <td>R14QJW3XF8QO1P</td>\n",
       "      <td>B0084OHUIO</td>\n",
       "      <td>902215727</td>\n",
       "      <td>Tyson's True Chews Premium Jerky - 12 ounce Ch...</td>\n",
       "      <td>Pet Products</td>\n",
       "      <td>5.0</td>\n",
       "      <td>0.0</td>\n",
       "      <td>0.0</td>\n",
       "      <td>N</td>\n",
       "      <td>Y</td>\n",
       "      <td>I have been purchasing these for a long time. ...</td>\n",
       "      <td>I have been purchasing these for a long time. ...</td>\n",
       "      <td>2015-08-31</td>\n",
       "    </tr>\n",
       "    <tr>\n",
       "      <th>3</th>\n",
       "      <td>US</td>\n",
       "      <td>12835065</td>\n",
       "      <td>R2HB7AX0394ZGY</td>\n",
       "      <td>B001GS71K2</td>\n",
       "      <td>568880110</td>\n",
       "      <td>Soft Side Pet Crate, Navy/Tan</td>\n",
       "      <td>Pet Products</td>\n",
       "      <td>5.0</td>\n",
       "      <td>0.0</td>\n",
       "      <td>0.0</td>\n",
       "      <td>N</td>\n",
       "      <td>Y</td>\n",
       "      <td>it is easy to open and close</td>\n",
       "      <td>It is extremely well constructed, it is easy t...</td>\n",
       "      <td>2015-08-31</td>\n",
       "    </tr>\n",
       "    <tr>\n",
       "      <th>4</th>\n",
       "      <td>US</td>\n",
       "      <td>26334022</td>\n",
       "      <td>RGKMPDQGSAHR3</td>\n",
       "      <td>B004ABH1LG</td>\n",
       "      <td>692846826</td>\n",
       "      <td>EliteField 3-Door Folding Soft Dog Crate, Indo...</td>\n",
       "      <td>Pet Products</td>\n",
       "      <td>5.0</td>\n",
       "      <td>0.0</td>\n",
       "      <td>0.0</td>\n",
       "      <td>N</td>\n",
       "      <td>Y</td>\n",
       "      <td>Dog crate</td>\n",
       "      <td>Worked really well.  Very pleased with my purc...</td>\n",
       "      <td>2015-08-31</td>\n",
       "    </tr>\n",
       "  </tbody>\n",
       "</table>\n",
       "</div>"
      ],
      "text/plain": [
       "  marketplace  customer_id       review_id  product_id  product_parent  \\\n",
       "0          US     28794885   REAKC26P07MDN  B00Q0K9604       510387886   \n",
       "1          US     11488901  R3NU7OMZ4HQIEG  B00MBW5O9W       912374672   \n",
       "2          US     43214993  R14QJW3XF8QO1P  B0084OHUIO       902215727   \n",
       "3          US     12835065  R2HB7AX0394ZGY  B001GS71K2       568880110   \n",
       "4          US     26334022   RGKMPDQGSAHR3  B004ABH1LG       692846826   \n",
       "\n",
       "                                       product_title product_category  \\\n",
       "0                   (8-Pack) EZwhelp Belly Band/Wrap     Pet Products   \n",
       "1  Warren Eckstein's Hugs & Kisses Vitamin Minera...     Pet Products   \n",
       "2  Tyson's True Chews Premium Jerky - 12 ounce Ch...     Pet Products   \n",
       "3                      Soft Side Pet Crate, Navy/Tan     Pet Products   \n",
       "4  EliteField 3-Door Folding Soft Dog Crate, Indo...     Pet Products   \n",
       "\n",
       "   star_rating  helpful_votes  total_votes vine verified_purchase  \\\n",
       "0          5.0            0.0          0.0    N                 Y   \n",
       "1          2.0            0.0          1.0    N                 Y   \n",
       "2          5.0            0.0          0.0    N                 Y   \n",
       "3          5.0            0.0          0.0    N                 Y   \n",
       "4          5.0            0.0          0.0    N                 Y   \n",
       "\n",
       "                                     review_headline  \\\n",
       "0                A great purchase for \"dribbly\" dogs   \n",
       "1                       My dogs love Hugs and Kisses   \n",
       "2  I have been purchasing these for a long time. ...   \n",
       "3                       it is easy to open and close   \n",
       "4                                          Dog crate   \n",
       "\n",
       "                                         review_body review_date  \n",
       "0  Best belly bands on the market!  These are a g...  2015-08-31  \n",
       "1  My dogs love Hugs and Kisses.  However, the la...  2015-08-31  \n",
       "2  I have been purchasing these for a long time. ...  2015-08-31  \n",
       "3  It is extremely well constructed, it is easy t...  2015-08-31  \n",
       "4  Worked really well.  Very pleased with my purc...  2015-08-31  "
      ]
     },
     "execution_count": 194,
     "metadata": {},
     "output_type": "execute_result"
    }
   ],
   "source": [
    "df.head()"
   ]
  },
  {
   "cell_type": "markdown",
   "metadata": {},
   "source": [
    "## Preprocess Data"
   ]
  },
  {
   "cell_type": "code",
   "execution_count": 107,
   "metadata": {},
   "outputs": [],
   "source": [
    "def clean_df(df):\n",
    "    print('The original length of the dataframe is {}'.format(len(df)))\n",
    "    df.dropna(inplace=True)\n",
    "    df = df.loc[df['verified_purchase']=='Y']\n",
    "    df['star_rating'] = df['star_rating'].astype('int64')\n",
    "    \n",
    "    df['product_title'] = df['product_title'].str.lower()\n",
    "    df_new = df[df['product_title'].str.contains(\"friskies|treat|\\\n",
    "    food|purina|royal canin|meow mix|pro plan|gourmet|fancy feast|\\\n",
    "    blue buffalo|nutrition|science hill|diet\")==True]\n",
    "    df_new.drop_duplicates(inplace=True)\n",
    "    df_new.reset_index(inplace = True)\n",
    "    df_new.drop('index', axis=1)\n",
    "    print('The final length of the dataframe is {}'.format(len(df_new)))\n",
    "    return df_new"
   ]
  },
  {
   "cell_type": "code",
   "execution_count": 108,
   "metadata": {},
   "outputs": [
    {
     "name": "stdout",
     "output_type": "stream",
     "text": [
      "The original length of the dataframe is 2639853\n",
      "The final length of the dataframe is 200204\n"
     ]
    }
   ],
   "source": [
    "df_new = clean_df(df)"
   ]
  },
  {
   "cell_type": "code",
   "execution_count": 109,
   "metadata": {},
   "outputs": [],
   "source": [
    "def clean_text(text, remove_stopwords = False):\n",
    "    '''Remove unwanted characters, stopwords, and format the text to create fewer nulls word embeddings'''\n",
    "    contractions = { \n",
    "    \"ain't\": \"am not\",\"aint\": \"am not\",\n",
    "    \"aren't\": \"are not\",\"arent\": \"are not\",\n",
    "    \"can't\": \"cannot\",\"cant\": \"cannot\",\n",
    "    \"can't've\": \"cannot have\",\"cant've\": \"cannot have\",\n",
    "    \"'cause\": \"because\",\n",
    "    \"could've\": \"could have\",\"couldve\": \"could have\",\n",
    "    \"couldn't\": \"could not\",\"couldnt\": \"could not\",\n",
    "    \"couldn't've\": \"could not have\",\"couldnt've\": \"could not have\",\n",
    "    \"didn't\": \"did not\",\"didnt\": \"did not\",\n",
    "    \"doesn't\": \"does not\",\"doesnt\": \"does not\",\n",
    "    \"don't\": \"do not\",\"dont\": \"do not\",\n",
    "    \"hadn't\": \"had not\",\"hadnt\": \"had not\",\n",
    "    \"hadn't've\": \"had not have\",\"hadnt've\": \"had not have\",\n",
    "    \"hasn't\": \"has not\",\"hasnt\": \"has not\",\n",
    "    \"haven't\": \"have not\",\"havent\": \"have not\",\n",
    "    \"he'd\": \"he would\",\n",
    "    \"he'd've\": \"he would have\",\n",
    "    \"he'll\": \"he will\",\n",
    "    \"he's\": \"he is\",\n",
    "    \"how'd\": \"how did\",\n",
    "    \"how'll\": \"how will\",\n",
    "    \"how's\": \"how is\",\n",
    "    \"i'd\": \"i would\",\"id\": \"i would\",\n",
    "    \"i'll\": \"i will\",\n",
    "    \"i'm\": \"i am\",\"im\": \"i am\",\n",
    "    \"i've\": \"i have\",\"ive\": \"i have\",\n",
    "    \"isn't\": \"is not\",\"isnt\": \"is not\",\n",
    "    \"it'd\": \"it would\",\n",
    "    \"it'll\": \"it will\",\n",
    "    \"it's\": \"it is\",\n",
    "    \"let's\": \"let us\",\n",
    "    \"ma'am\": \"madam\",\n",
    "    \"mayn't\": \"may not\",\n",
    "    \"might've\": \"might have\",\n",
    "    \"mightn't\": \"might not\",\n",
    "    \"must've\": \"must have\",\n",
    "    \"mustn't\": \"must not\",\"mustnt\": \"must not\",\n",
    "    \"needn't\": \"need not\",\n",
    "    \"oughtn't\": \"ought not\",\n",
    "    \"shan't\": \"shall not\",\n",
    "    \"sha'n't\": \"shall not\",\n",
    "    \"she'd\": \"she would\",\n",
    "    \"she'll\": \"she will\",\n",
    "    \"she's\": \"she is\",\n",
    "    \"should've\": \"should have\",\n",
    "    \"shouldn't\": \"should not\",\n",
    "    \"that'd\": \"that would\",\n",
    "    \"that's\": \"that is\",\"thats\": \"that is\",\n",
    "    \"there'd\": \"there had\",\n",
    "    \"there's\": \"there is\",\"theres\": \"there is\",\n",
    "    \"they'd\": \"they would\",\n",
    "    \"they'll\": \"they will\",\n",
    "    \"they're\": \"they are\",\n",
    "    \"they've\": \"they have\",\n",
    "    \"wasn't\": \"was not\",\n",
    "    \"we'd\": \"we would\",\n",
    "    \"we'll\": \"we will\",\n",
    "    \"we're\": \"we are\",\n",
    "    \"we've\": \"we have\",\n",
    "    \"weren't\": \"were not\",\n",
    "    \"what'll\": \"what will\",\n",
    "    \"what're\": \"what are\",\n",
    "    \"what's\": \"what is\",\n",
    "    \"what've\": \"what have\",\n",
    "    \"where'd\": \"where did\",\n",
    "    \"where's\": \"where is\",\n",
    "    \"who'll\": \"who will\",\n",
    "    \"who's\": \"who is\",\n",
    "    \"won't\": \"will not\",\n",
    "    \"wouldn't\": \"would not\",\n",
    "    \"you'd\": \"you would\",\n",
    "    \"you'll\": \"you will\",\n",
    "    \"you're\": \"you are\"\n",
    "    }\n",
    "    text = text.lower()\n",
    "    \n",
    "    # Replace contractions with their longer forms \n",
    "    if True:\n",
    "        text = text.split()\n",
    "        new_text = []\n",
    "        for word in text:\n",
    "            if word in contractions:\n",
    "                new_text.append(contractions[word])\n",
    "            else:\n",
    "                new_text.append(word)\n",
    "        text = \" \".join(new_text)\n",
    "    \n",
    "    # Format words and remove unwanted characters\n",
    "    text = re.sub(r'https?:\\/\\/.*[\\r\\n]*', '', text, flags=re.MULTILINE)\n",
    "    text = re.sub(r'\\<a href', ' ', text)\n",
    "    text = re.sub(r'&amp;', '', text) \n",
    "    text = re.sub(r'[_\"\\-;%()|+&=*%.,!?:#$@\\[\\]/]', ' ', text)\n",
    "    text = re.sub(r'<br />', ' ', text)\n",
    "    text = re.sub(r'\\'', ' ', text)\n",
    "    \n",
    "    # Optionally, remove stop words\n",
    "    if remove_stopwords:\n",
    "        text = text.split()\n",
    "        stops = set(stopwords.words(\"english\"))\n",
    "        text = [w for w in text if not w in stops]\n",
    "        text = \" \".join(text)\n",
    "\n",
    "    return text"
   ]
  },
  {
   "cell_type": "markdown",
   "metadata": {},
   "source": [
    "Since we are focusing on negative reviews, let's separate those with 3 stars or less."
   ]
  },
  {
   "cell_type": "code",
   "execution_count": 1060,
   "metadata": {},
   "outputs": [],
   "source": [
    "df_neg = df_new[df_new['star_rating']<4]\n",
    "df_neg['process_review'] = df_neg['review_body'].apply(clean_text)\n",
    "df_neg.reset_index(inplace=True)\n",
    "df_neg.drop('index', axis=1, inplace=True)"
   ]
  },
  {
   "cell_type": "markdown",
   "metadata": {},
   "source": [
    "## Chewy Reviews Dataset"
   ]
  },
  {
   "cell_type": "markdown",
   "metadata": {},
   "source": [
    "Let's scrape critical reviews for pet food from Chewy's website to augment our dataset."
   ]
  },
  {
   "cell_type": "code",
   "execution_count": 1092,
   "metadata": {},
   "outputs": [],
   "source": [
    "def get_soup(url):\n",
    "   # nap_time_sec = 1\n",
    "\n",
    "   # sleep(nap_time_sec)\n",
    "\n",
    "    out = requests.get(url) #, headers=header)\n",
    "    soup = BeautifulSoup(out.content, 'lxml')\n",
    "\n",
    "    return soup\n",
    "\n",
    "def get_products(pet_url):\n",
    "    href_list = []\n",
    " #  max_page_number = so.find(attrs={\"class\":\"results-count\"}).text.strip().split()[4]    \n",
    " #  max_page_number = int(max_page_number) if max_page_number else 1\n",
    " #  max_page_number *= (1/36)  # displaying 10 results per page. So if 663 results then ~66 pages.\n",
    " #  max_page_number = math.ceil(max_page_number)\n",
    "    \n",
    "    for page_number in range(11,12):\n",
    "        if page_number == 1:\n",
    "            so = get_soup(pet_url)\n",
    "        else:\n",
    "            pet_url_page = pet_url + \"&page={}\".format(page_number)\n",
    "            so = get_soup(pet_url_page)\n",
    "\n",
    "        product_list = so.find_all('article', {'class': 'product-holder js-tracked-product cw-card cw-card-hover'})\n",
    "\n",
    "        for product in product_list:\n",
    "            href = product.find(attrs={'class':'product'})\n",
    "            link = href.get('href')\n",
    "            href_list.append(link)\n",
    "    \n",
    "    return href_list\n",
    "\n",
    "def get_item_id(url):\n",
    "    item_id = re.findall(\"/dp/(\\d+)\", url)\n",
    "    product_name = re.findall(\"/(.*)/dp\", url)\n",
    "    \n",
    "    return item_id[0], product_name[0].split('/')[0]\n",
    "\n",
    "def get_product_reviews_url(item_id, product_name, page_number=None):\n",
    "    if not page_number:\n",
    "        page_number = 1\n",
    "    BASE_URL = 'https://www.chewy.com'\n",
    "\n",
    "    return BASE_URL + '/{}/product-reviews/{}'\\\n",
    "                    '?reviewSort=NEWEST&reviewFilter=NEGATIVE&pageNumber={}'.format(product_name,item_id, page_number)\n",
    "\n",
    "\n",
    "def get_reviews(request_url):\n",
    "    \n",
    "    products = get_products(request_url)\n",
    "    \n",
    "    total_reviews = []\n",
    "  #  num=0\n",
    "    for link in products:\n",
    "   #     num += 1\n",
    "   #     print(num)\n",
    "        item_id, product_name = get_item_id(link)\n",
    "        reviews = list()\n",
    "        if item_id is None:\n",
    "            return reviews\n",
    "    \n",
    "        product_reviews_link = get_product_reviews_url(item_id, product_name)\n",
    "\n",
    "        so = get_soup(product_reviews_link)\n",
    "    \n",
    "        max_page_number = so.find(attrs={\"class\":\"ugc-list__content--pagination\"})\n",
    "        if max_page_number is None:\n",
    "            break\n",
    "        else:\n",
    "            if len(max_page_number.text.strip().split()) < 4:\n",
    "                break\n",
    "            else:\n",
    "                max_page_number = max_page_number.text.strip().split()[3]\n",
    "\n",
    "    \n",
    "        if max_page_number is None:\n",
    "            return reviews\n",
    "    \n",
    "        max_page_number = int(max_page_number) if max_page_number else 1\n",
    "        max_page_number *= 0.1  # displaying 10 results per page. So if 663 results then ~66 pages.\n",
    "        max_page_number = math.ceil(max_page_number)\n",
    "\n",
    "    \n",
    "        for page_number in range(1, max_page_number + 1):\n",
    "\n",
    "            if page_number >=1:\n",
    "                product_reviews_link = get_product_reviews_url(item_id,product_name,page_number)\n",
    "                so = get_soup(product_reviews_link)\n",
    "\n",
    "            reviews_list = so.find_all('li', {'itemprop': 'review'})\n",
    "        \n",
    "            if len(reviews_list) == 0:\n",
    "                break\n",
    "            \n",
    "            for review in reviews_list:\n",
    "\n",
    "                body = review.find(attrs={'class':'ugc-list__review__display'}).text.strip()\n",
    "                rev_id = review.get('data-content-id')\n",
    "                try:\n",
    "                    helpful = review.find(attrs={'data-ga-action':'like'}).text.strip()\n",
    "                except:\n",
    "                    helpful = '0'\n",
    "                \n",
    "                reviews.append({'id':rev_id, 'body': body, 'helpful_votes':helpful})\n",
    "            total_reviews.extend(reviews)\n",
    "\n",
    "    return total_reviews"
   ]
  },
  {
   "cell_type": "code",
   "execution_count": 1093,
   "metadata": {},
   "outputs": [],
   "source": [
    "total_reviews = get_reviews('https://www.chewy.com/s?rh=c%3A288%2Cc%3A332')"
   ]
  },
  {
   "cell_type": "code",
   "execution_count": 1034,
   "metadata": {},
   "outputs": [],
   "source": [
    "chewy_df = pd.DataFrame(total_reviews)"
   ]
  },
  {
   "cell_type": "code",
   "execution_count": 1038,
   "metadata": {},
   "outputs": [
    {
     "name": "stdout",
     "output_type": "stream",
     "text": [
      "A total of 14679 reviews were scraped from Chewy\n"
     ]
    }
   ],
   "source": [
    "print(\"A total of {} reviews were scraped from Chewy\".format(len(chewy_df)))"
   ]
  },
  {
   "cell_type": "markdown",
   "metadata": {},
   "source": [
    "Let's process the body of the reviews:"
   ]
  },
  {
   "cell_type": "code",
   "execution_count": 1039,
   "metadata": {},
   "outputs": [],
   "source": [
    "chewy_df['process_review'] = chewy_df['body'].apply(clean_text)\n",
    "chewy_df.reset_index(inplace=True)\n",
    "chewy_df.drop('index', axis=1, inplace=True)"
   ]
  },
  {
   "cell_type": "code",
   "execution_count": 1041,
   "metadata": {},
   "outputs": [],
   "source": [
    "chewy_df.to_csv('chewy_df.tsv',header=1,index=False, encoding='utf-8', sep='\\t')"
   ]
  },
  {
   "cell_type": "code",
   "execution_count": 1042,
   "metadata": {},
   "outputs": [],
   "source": [
    "chewy_df = pd.read_csv('chewy_df.tsv',sep = '\\t', error_bad_lines=False)"
   ]
  },
  {
   "cell_type": "markdown",
   "metadata": {},
   "source": [
    "### Merging Amazon and Chewy Dataset"
   ]
  },
  {
   "cell_type": "code",
   "execution_count": 1062,
   "metadata": {},
   "outputs": [],
   "source": [
    "rev_df = df_neg['process_review']"
   ]
  },
  {
   "cell_type": "code",
   "execution_count": 1064,
   "metadata": {},
   "outputs": [],
   "source": [
    "chewy_revs = chewy_df['process_review']"
   ]
  },
  {
   "cell_type": "code",
   "execution_count": 1066,
   "metadata": {},
   "outputs": [],
   "source": [
    "rev_df = rev_df.append(chewy_revs)"
   ]
  },
  {
   "cell_type": "code",
   "execution_count": 1071,
   "metadata": {},
   "outputs": [],
   "source": [
    "rev_df = rev_df.to_frame()"
   ]
  },
  {
   "cell_type": "code",
   "execution_count": 1072,
   "metadata": {},
   "outputs": [],
   "source": [
    "rev_df.reset_index(inplace=True)\n",
    "rev_df.drop('index', axis=1, inplace=True)"
   ]
  },
  {
   "cell_type": "markdown",
   "metadata": {},
   "source": [
    "<a id=\"LDA\">"
   ]
  },
  {
   "cell_type": "markdown",
   "metadata": {},
   "source": [
    "# Unsupervised Learning"
   ]
  },
  {
   "cell_type": "markdown",
   "metadata": {},
   "source": [
    "## LDA (Latent Dirichlet Allocation)"
   ]
  },
  {
   "cell_type": "markdown",
   "metadata": {},
   "source": [
    "Latent Dirichlet Allocation (LDA) is a popular topic modelling technique. It's a probabilistic model for discovering the bastract topics in a word document by estimating probability distributions for topics in the document and words in topics."
   ]
  },
  {
   "cell_type": "code",
   "execution_count": 365,
   "metadata": {},
   "outputs": [
    {
     "name": "stdout",
     "output_type": "stream",
     "text": [
      "Collecting gensim\n",
      "  Downloading gensim-3.8.1-cp35-cp35m-manylinux1_x86_64.whl (24.2 MB)\n",
      "Requirement already satisfied: scipy>=0.18.1 in /usr/local/lib/python3.5/dist-packages (from gensim) (1.4.1)\n",
      "Requirement already satisfied: six>=1.5.0 in /usr/local/lib/python3.5/dist-packages (from gensim) (1.14.0)\n",
      "Requirement already satisfied: numpy>=1.11.3 in /usr/local/lib/python3.5/dist-packages (from gensim) (1.18.1)\n",
      "Collecting smart-open>=1.8.1\n",
      "  Downloading smart_open-1.9.0.tar.gz (70 kB)\n",
      "Collecting boto>=2.32\n",
      "  Downloading boto-2.49.0-py2.py3-none-any.whl (1.4 MB)\n",
      "Requirement already satisfied: requests in /usr/local/lib/python3.5/dist-packages (from smart-open>=1.8.1->gensim) (2.22.0)\n",
      "Collecting boto3\n",
      "  Downloading boto3-1.11.9-py2.py3-none-any.whl (128 kB)\n",
      "Requirement already satisfied: chardet<3.1.0,>=3.0.2 in /usr/local/lib/python3.5/dist-packages (from requests->smart-open>=1.8.1->gensim) (3.0.4)\n",
      "Requirement already satisfied: urllib3!=1.25.0,!=1.25.1,<1.26,>=1.21.1 in /usr/local/lib/python3.5/dist-packages (from requests->smart-open>=1.8.1->gensim) (1.24.2)\n",
      "Requirement already satisfied: certifi>=2017.4.17 in /usr/local/lib/python3.5/dist-packages (from requests->smart-open>=1.8.1->gensim) (2019.11.28)\n",
      "Requirement already satisfied: idna<2.9,>=2.5 in /usr/local/lib/python3.5/dist-packages (from requests->smart-open>=1.8.1->gensim) (2.8)\n",
      "Collecting jmespath<1.0.0,>=0.7.1\n",
      "  Downloading jmespath-0.9.4-py2.py3-none-any.whl (24 kB)\n",
      "Collecting botocore<1.15.0,>=1.14.9\n",
      "  Downloading botocore-1.14.9-py2.py3-none-any.whl (5.9 MB)\n",
      "Collecting s3transfer<0.4.0,>=0.3.0\n",
      "  Downloading s3transfer-0.3.2-py2.py3-none-any.whl (69 kB)\n",
      "Collecting docutils<0.16,>=0.10\n",
      "  Downloading docutils-0.15.2-py3-none-any.whl (547 kB)\n",
      "Requirement already satisfied: python-dateutil<3.0.0,>=2.1 in /usr/local/lib/python3.5/dist-packages (from botocore<1.15.0,>=1.14.9->boto3->smart-open>=1.8.1->gensim) (2.8.1)\n",
      "Building wheels for collected packages: smart-open\n",
      "  Building wheel for smart-open (setup.py): started\n",
      "  Building wheel for smart-open (setup.py): finished with status 'done'\n",
      "  Created wheel for smart-open: filename=smart_open-1.9.0-py3-none-any.whl size=79331 sha256=2b2b97cfadc1047446b52f7dcaa7f945c37be76432e2b0c46acbf09ccbda0a3e\n",
      "  Stored in directory: /home/jupyter/.cache/pip/wheels/f7/c1/b6/def65cc506745a941801731671c916008886aa5202faa21992\n",
      "Successfully built smart-open\n",
      "Installing collected packages: boto, jmespath, docutils, botocore, s3transfer, boto3, smart-open, gensim\n",
      "Successfully installed boto-2.49.0 boto3-1.11.9 botocore-1.14.9 docutils-0.15.2 gensim-3.8.1 jmespath-0.9.4 s3transfer-0.3.2 smart-open-1.9.0\n"
     ]
    }
   ],
   "source": [
    "%%bash\n",
    "pip install gensim --user"
   ]
  },
  {
   "cell_type": "code",
   "execution_count": 102,
   "metadata": {},
   "outputs": [
    {
     "name": "stderr",
     "output_type": "stream",
     "text": [
      "[nltk_data] Downloading package wordnet to /home/jupyter/nltk_data...\n",
      "[nltk_data]   Package wordnet is already up-to-date!\n"
     ]
    },
    {
     "data": {
      "text/plain": [
       "True"
      ]
     },
     "execution_count": 102,
     "metadata": {},
     "output_type": "execute_result"
    }
   ],
   "source": [
    "import gensim\n",
    "from gensim.utils import simple_preprocess\n",
    "from gensim.parsing.preprocessing import STOPWORDS\n",
    "from nltk.stem import WordNetLemmatizer, SnowballStemmer\n",
    "from nltk.stem.porter import *\n",
    "import numpy as np\n",
    "np.random.seed(2020)\n",
    "\n",
    "import nltk\n",
    "nltk.download('wordnet')"
   ]
  },
  {
   "cell_type": "markdown",
   "metadata": {},
   "source": [
    "As always, we need to preporcess the text. We first lemmatize each word, i.e. strip it down to its root, and omit stop words from each review."
   ]
  },
  {
   "cell_type": "code",
   "execution_count": 112,
   "metadata": {},
   "outputs": [],
   "source": [
    "def lemmatize_stemming(text):\n",
    "    stemmer = SnowballStemmer('english')\n",
    "    return stemmer.stem(WordNetLemmatizer().lemmatize(text, pos='v'))\n",
    "\n",
    "def preprocess(text):\n",
    "    result = []\n",
    "    for token in gensim.utils.simple_preprocess(text):\n",
    "        if token not in gensim.parsing.preprocessing.STOPWORDS and len(token) > 3:\n",
    "            result.append(lemmatize_stemming(token))\n",
    "    return result"
   ]
  },
  {
   "cell_type": "code",
   "execution_count": 113,
   "metadata": {},
   "outputs": [],
   "source": [
    "processed_reviews = rev_df['process_review'].map(preprocess)"
   ]
  },
  {
   "cell_type": "markdown",
   "metadata": {},
   "source": [
    "## Bag of words on the dataset\n",
    "\n",
    "LDA does not care about the order of the words in the document. Usually, LDA use the bag-of-words feature representation to represent a document.\n",
    "\n",
    "We'll create a dictionary of words using **gensim**, and generate a corpus of words that indicate what word appeared how many times in a text."
   ]
  },
  {
   "cell_type": "code",
   "execution_count": 114,
   "metadata": {},
   "outputs": [],
   "source": [
    "dictionary = gensim.corpora.Dictionary(processed_reviews)\n",
    "dictionary.filter_extremes(no_below=15, no_above=0.5, keep_n=100000)"
   ]
  },
  {
   "cell_type": "code",
   "execution_count": 115,
   "metadata": {},
   "outputs": [],
   "source": [
    "bow_corpus = [dictionary.doc2bow(doc) for doc in processed_reviews]"
   ]
  },
  {
   "cell_type": "code",
   "execution_count": 116,
   "metadata": {},
   "outputs": [
    {
     "name": "stdout",
     "output_type": "stream",
     "text": [
      "Word 2 (\"buy\") appears 1 time.\n",
      "Word 4 (\"love\") appears 1 time.\n",
      "Word 12 (\"disappoint\") appears 1 time.\n",
      "Word 40 (\"break\") appears 1 time.\n",
      "Word 55 (\"eventu\") appears 1 time.\n",
      "Word 68 (\"littl\") appears 1 time.\n",
      "Word 130 (\"long\") appears 1 time.\n",
      "Word 154 (\"nice\") appears 1 time.\n",
      "Word 179 (\"work\") appears 1 time.\n",
      "Word 269 (\"insid\") appears 1 time.\n",
      "Word 338 (\"last\") appears 1 time.\n",
      "Word 339 (\"longer\") appears 2 time.\n",
      "Word 437 (\"cost\") appears 1 time.\n"
     ]
    }
   ],
   "source": [
    "example = bow_corpus[2000]\n",
    "\n",
    "for i in range(len(example)):\n",
    "    print(\"Word {} (\\\"{}\\\") appears {} time.\".format(example[i][0], \n",
    "                                                     dictionary[example[i][0]], \n",
    "                                                     example[i][1]))"
   ]
  },
  {
   "cell_type": "markdown",
   "metadata": {},
   "source": [
    "## TF-IDF (Term Frequency-Inverse Document Frequency)\n",
    "\n",
    "TF-IDF is a statistical measure that is used to evaluate the importance of a given word to a document in a corpus. A word is more important if the number of times a word appears in the document increases but deemed less important if it has a high frequency of appearing in the corpus. We can use this metric in conjuction with the LDA bag of words dictionary."
   ]
  },
  {
   "cell_type": "code",
   "execution_count": 117,
   "metadata": {},
   "outputs": [],
   "source": [
    "from gensim import corpora, models\n",
    "\n",
    "tfidf = models.TfidfModel(bow_corpus)"
   ]
  },
  {
   "cell_type": "code",
   "execution_count": 118,
   "metadata": {},
   "outputs": [],
   "source": [
    "corpus_tfidf = tfidf[bow_corpus]"
   ]
  },
  {
   "cell_type": "markdown",
   "metadata": {},
   "source": [
    "## Running LDA using TF-IDF\n",
    "\n",
    "Let's assume there are 3 latent topics in the text and find out what words are most associated with each topic."
   ]
  },
  {
   "cell_type": "code",
   "execution_count": 119,
   "metadata": {},
   "outputs": [],
   "source": [
    "lda_model_tfidf = gensim.models.LdaMulticore(corpus_tfidf, \n",
    "                                             num_topics=3, \n",
    "                                             id2word=dictionary, \n",
    "                                             passes=2, \n",
    "                                             workers=4)"
   ]
  },
  {
   "cell_type": "code",
   "execution_count": 120,
   "metadata": {},
   "outputs": [
    {
     "name": "stdout",
     "output_type": "stream",
     "text": [
      "Topic: 0 Word: 0.008*\"like\" + 0.008*\"treat\" + 0.008*\"product\" + 0.008*\"chew\" + 0.008*\"dog\" + 0.007*\"smell\" + 0.006*\"love\" + 0.006*\"small\" + 0.006*\"order\" + 0.006*\"food\"\n",
      "Topic: 1 Word: 0.012*\"treat\" + 0.009*\"like\" + 0.009*\"work\" + 0.008*\"food\" + 0.007*\"product\" + 0.007*\"dog\" + 0.007*\"small\" + 0.007*\"hard\" + 0.007*\"cat\" + 0.006*\"love\"\n",
      "Topic: 2 Word: 0.015*\"like\" + 0.012*\"dog\" + 0.010*\"cat\" + 0.010*\"food\" + 0.009*\"treat\" + 0.008*\"product\" + 0.007*\"love\" + 0.007*\"flea\" + 0.006*\"good\" + 0.006*\"time\"\n"
     ]
    }
   ],
   "source": [
    "for idx, topic in lda_model_tfidf.print_topics(-1):\n",
    "    print('Topic: {} Word: {}'.format(idx, topic))"
   ]
  },
  {
   "cell_type": "markdown",
   "metadata": {},
   "source": [
    "Unfortunately, the associated words with each topic are not as descriptive as one hopes. Words like cat, dog, like, love, and treat don't really do a good job of distinguishing each topic from the rest.\n",
    "\n",
    "One potential problem with LDA is that it does not take word association in a sentence into account, and since we are focusing on a very particular topic, i.e. negative reviews on pet products, it is too specific for LDA to be able to pick out more granular topics in the document."
   ]
  },
  {
   "cell_type": "markdown",
   "metadata": {},
   "source": [
    "## Performance evaluation by classifying sample document using LDA TF-IDF model"
   ]
  },
  {
   "cell_type": "code",
   "execution_count": 398,
   "metadata": {},
   "outputs": [
    {
     "name": "stdout",
     "output_type": "stream",
     "text": [
      "They changed the formula and now the treats are too big for my kitty to eat. If you have male cats or larger females, they might work for you, but my kitty just spits them out because she can't bite into them.\n",
      "\n",
      "Score: 0.620562732219696\t \n",
      "Topic: 0.023*\"like\" + 0.018*\"cat\" + 0.014*\"work\" + 0.010*\"food\" + 0.008*\"treat\" + 0.008*\"touch\" + 0.008*\"product\" + 0.008*\"picki\" + 0.008*\"dog\" + 0.006*\"eat\"\n",
      "\n",
      "Score: 0.3320426642894745\t \n",
      "Topic: 0.010*\"food\" + 0.010*\"like\" + 0.010*\"product\" + 0.008*\"treat\" + 0.008*\"order\" + 0.007*\"price\" + 0.007*\"expens\" + 0.007*\"love\" + 0.006*\"dog\" + 0.006*\"good\"\n",
      "\n",
      "Score: 0.015841612592339516\t \n",
      "Topic: 0.009*\"treat\" + 0.009*\"money\" + 0.008*\"food\" + 0.008*\"wast\" + 0.007*\"product\" + 0.007*\"dog\" + 0.007*\"love\" + 0.007*\"chew\" + 0.006*\"bone\" + 0.006*\"like\"\n",
      "\n",
      "Score: 0.015820886939764023\t \n",
      "Topic: 0.011*\"treat\" + 0.011*\"small\" + 0.010*\"minut\" + 0.010*\"chew\" + 0.009*\"dog\" + 0.008*\"like\" + 0.008*\"ball\" + 0.007*\"good\" + 0.007*\"puppi\" + 0.007*\"pill\"\n",
      "\n",
      "Score: 0.01573212444782257\t \n",
      "Topic: 0.015*\"dog\" + 0.012*\"like\" + 0.012*\"treat\" + 0.010*\"flea\" + 0.010*\"product\" + 0.009*\"cat\" + 0.008*\"love\" + 0.008*\"china\" + 0.007*\"work\" + 0.006*\"good\"\n"
     ]
    }
   ],
   "source": [
    "print(rev_df['review_body'][10000])\n",
    "for index, score in sorted(lda_model_tfidf[bow_corpus[10000]], key=lambda tup: -1*tup[1]):\n",
    "    print(\"\\nScore: {}\\t \\nTopic: {}\".format(score, lda_model_tfidf.print_topic(index, 10)))"
   ]
  },
  {
   "cell_type": "markdown",
   "metadata": {},
   "source": [
    "<a id=\"train\">"
   ]
  },
  {
   "cell_type": "markdown",
   "metadata": {},
   "source": [
    "## Supervised Learning"
   ]
  },
  {
   "cell_type": "markdown",
   "metadata": {},
   "source": [
    "Since we had no luck with the unsupervised learning approach, let's turn our attention to supervised learning. \n",
    "\n",
    "In order to train the model, we'd need labels for each review. Normally, with regards to pet food, there are three major categories of problems consumers talk about in their reviews:\n",
    "1. Health related issues, for instance digestive problems or other caused by the food\n",
    "2. Problems related to the quality of the food\n",
    "3. Problems associated with shipping and handling of the item, which we'll call service.\n",
    "\n",
    "Therefore, we need to create a dictionary with a library of key words that have higher associations with each category."
   ]
  },
  {
   "cell_type": "code",
   "execution_count": 1045,
   "metadata": {},
   "outputs": [],
   "source": [
    "def topic_dict(df):\n",
    "\n",
    "    quality = ['poor quality','low quality','bad quality','horrible smell','bad smell','bad ingredient',\n",
    "               'worst ingredient','not eat','refusing to eat','refuses to eat','refused to eat',\n",
    "               'refuse to eat','stopped eat','changed formula','changed ingredient','contaminat',\n",
    "               'recall','turned nose','turns nose','unusable','smells horrible','smelled horrible',\n",
    "               'threw away','throw away','pungent','was stale','bad texture','runny','not high value',\n",
    "               'weird smell','never ate','impossible to eat','overdry','not fresh','not the quality',\n",
    "               'not fond','not very fond','avoided to eat','avoid eat','avoids eat','avoid to eat',\n",
    "               'too hard','stink','not go near','not touch','not even touch','even go near','rock hard',\n",
    "               'solid hard','walked away','has grain','have grain','has carrageenan','not care for',\n",
    "               'care less','turned their nose','turned her nose','turned his nose','turn their nose',\n",
    "               'turns her nose','turns his nose','not very interested','not have interest',\n",
    "               'not have any interest','not interested','have no interest','have absolutely no interest',\n",
    "               'not like the smell','smelled so bad','smells so bad','smells bad','smelled bad',\n",
    "               'does not like','does not even like','do not like','do not even like','dried out','not soft',\n",
    "              'no nutrition value','hated taste','hated the taste','not even look','jaged edge']\n",
    "\n",
    "    health = ['urinary tract', 'infect', 'disease','loss of appetite','lost appetit','sick','unhealthy',\n",
    "              'skin irrit','choke','choking','harm','weight loss','weight lost','lost weight','appetit',\n",
    "              'stomach issue','sensitive stomach','diarrhea','constipation','blood','digestive disorder',\n",
    "              'caused health issue','caused issue','sensitive stomach','digestion disorder','obese','obesity',\n",
    "              'digestive issue','digestion issue','vomit','threw up','throwing up','throw up','food poison',\n",
    "              'stomachache','stomach irritation','stomach pain','abdominal pain','hospital','emergency',\n",
    "              'danger','allergy','allergie','hairball','infest','hazard','cancer','tumor','not safe',\n",
    "              'health problem', 'health issue','not cure','sharp bone shard','bone chip','bone shard',\n",
    "              'sharp bone','could not poop','in pain','in some pain','in a lot of pain','zero effect',\n",
    "             'loose stool','suffered period','broke a tooth','broke her tooth','broke his tooth','urgent care',\n",
    "             'has started losing weight','is losing weight']\n",
    "  \n",
    "    service = ['scam','damage','expensive','not worth','changes price','never shipped','not waste money',\n",
    "               'refund','not buy','never buy','fake','not real','terrible experience','horrible experience',\n",
    "               'bad experience','poor packag','packag','overprice','worst product','broken pieces','dented',\n",
    "               'had dents','bad batch','saving my money','offensive','dental issue','delivery','ripoff',\n",
    "               'embaras','annoy','not enjoy','demolish','costly','not resistant','frustrat','flimsy',\n",
    "               'waste of money','disappoint','pricey','useless','too much money','not cool','rip off',\n",
    "               'price is outrageous','price was outrageous','crushed','price has climb','bag was open',\n",
    "               'ineligible for return','made in china','overpriced','over priced']\n",
    "    \n",
    "\n",
    "    quality_rows = []\n",
    "    health_rows = []\n",
    "    service_rows = []\n",
    "    \n",
    "    issues = ['quality', 'health', 'service']\n",
    "    \n",
    "\n",
    "    for issue in issues:   \n",
    "        if issue=='health':\n",
    "            for prob in health:\n",
    "                for i in range(len(df)):\n",
    "                    if prob in df.iloc[i]['process_review']:\n",
    "                        if i not in health_rows:\n",
    "                            health_rows.append(i)\n",
    "        \n",
    "        elif issue=='quality':\n",
    "            for prob in quality:\n",
    "                for i in range(len(df)):\n",
    "                    if prob in df.iloc[i]['process_review']:\n",
    "                        if i not in quality_rows+health_rows:\n",
    "                            quality_rows.append(i)     \n",
    "        elif issue=='service':\n",
    "            for prob in service:\n",
    "                for i in range(len(df)):\n",
    "                    if prob in df.iloc[i]['process_review']:\n",
    "                        if i not in service_rows+quality_rows+health_rows:\n",
    "                            service_rows.append(i)                        \n",
    "    return health_rows, quality_rows, service_rows"
   ]
  },
  {
   "cell_type": "code",
   "execution_count": 1075,
   "metadata": {},
   "outputs": [],
   "source": [
    "health_rows, quality_rows, product_rows = topic_dict(rev_df)"
   ]
  },
  {
   "cell_type": "markdown",
   "metadata": {},
   "source": [
    "Now, we need to go through our dataframe and assign labels to each review based on occurrance of words in each category."
   ]
  },
  {
   "cell_type": "code",
   "execution_count": 1076,
   "metadata": {},
   "outputs": [
    {
     "name": "stdout",
     "output_type": "stream",
     "text": [
      "21921\n"
     ]
    }
   ],
   "source": [
    "import itertools\n",
    "total = itertools.chain(health_rows, quality_rows, product_rows)\n",
    "print(len(set(total)))\n",
    "\n",
    "rev_df['topic']='NaN'\n",
    "for i in range(len(rev_df)):\n",
    "    if i in health_rows:\n",
    "        rev_df.loc[rev_df.index==i, 'topic'] = 'health'\n",
    "    elif i in quality_rows:\n",
    "        rev_df.loc[rev_df.index==i, 'topic'] = 'quality'\n",
    "    elif i in product_rows:\n",
    "        rev_df.loc[rev_df.index == i,'topic'] = 'product'"
   ]
  },
  {
   "cell_type": "code",
   "execution_count": 1095,
   "metadata": {},
   "outputs": [
    {
     "data": {
      "text/html": [
       "<div>\n",
       "<style scoped>\n",
       "    .dataframe tbody tr th:only-of-type {\n",
       "        vertical-align: middle;\n",
       "    }\n",
       "\n",
       "    .dataframe tbody tr th {\n",
       "        vertical-align: top;\n",
       "    }\n",
       "\n",
       "    .dataframe thead th {\n",
       "        text-align: right;\n",
       "    }\n",
       "</style>\n",
       "<table border=\"1\" class=\"dataframe\">\n",
       "  <thead>\n",
       "    <tr style=\"text-align: right;\">\n",
       "      <th></th>\n",
       "      <th>process_review</th>\n",
       "      <th>topic</th>\n",
       "    </tr>\n",
       "  </thead>\n",
       "  <tbody>\n",
       "    <tr>\n",
       "      <th>0</th>\n",
       "      <td>my dogs love hugs and kisses  however  the las...</td>\n",
       "      <td>NaN</td>\n",
       "    </tr>\n",
       "    <tr>\n",
       "      <th>1</th>\n",
       "      <td>i used to love these treats  but they must hav...</td>\n",
       "      <td>health</td>\n",
       "    </tr>\n",
       "    <tr>\n",
       "      <th>2</th>\n",
       "      <td>my dog does not like them that much  and i wil...</td>\n",
       "      <td>quality</td>\n",
       "    </tr>\n",
       "    <tr>\n",
       "      <th>3</th>\n",
       "      <td>very hard treat and the worst product from yum...</td>\n",
       "      <td>product</td>\n",
       "    </tr>\n",
       "    <tr>\n",
       "      <th>4</th>\n",
       "      <td>i live in a tiny studio apartment  so i absolu...</td>\n",
       "      <td>NaN</td>\n",
       "    </tr>\n",
       "  </tbody>\n",
       "</table>\n",
       "</div>"
      ],
      "text/plain": [
       "                                      process_review    topic\n",
       "0  my dogs love hugs and kisses  however  the las...      NaN\n",
       "1  i used to love these treats  but they must hav...   health\n",
       "2  my dog does not like them that much  and i wil...  quality\n",
       "3  very hard treat and the worst product from yum...  product\n",
       "4  i live in a tiny studio apartment  so i absolu...      NaN"
      ]
     },
     "execution_count": 1095,
     "metadata": {},
     "output_type": "execute_result"
    }
   ],
   "source": [
    "rev_df.head()"
   ]
  },
  {
   "cell_type": "code",
   "execution_count": 1094,
   "metadata": {},
   "outputs": [
    {
     "data": {
      "image/png": "[encoded data removed]",
      "text/plain": [
       "<Figure size 864x432 with 1 Axes>"
      ]
     },
     "metadata": {
      "needs_background": "light"
     },
     "output_type": "display_data"
    }
   ],
   "source": [
    "fig1 = plt.figure(figsize = (6,8))\n",
    "ax = fig1.add_subplot(111)\n",
    "ax.spines[\"top\"].set_visible(False)    \n",
    "ax.spines[\"bottom\"].set_visible(True)    \n",
    "ax.spines[\"right\"].set_visible(False)    \n",
    "ax.spines[\"left\"].set_visible(True)    \n",
    "\n",
    "\n",
    "groups = ['quality','health','product','other']\n",
    "\n",
    "plt.yticks(range(0, 20001, 5000), fontsize=12)  \n",
    "plt.xticks(fontsize=12)  \n",
    "plt.rc('font', family='serif')\n",
    "ax = rev_df['topic'].value_counts().plot(kind='bar',\n",
    "                                    figsize=(12,6),\n",
    "                                    title=\"Distribution of Topics among Reviews\",\n",
    "                                    color = 'steelblue')\n",
    "ax.set_ylabel(\"Number o Reviews\")\n",
    "for label in ax.get_xticklabels():\n",
    "    label.set_rotation(0)"
   ]
  },
  {
   "cell_type": "markdown",
   "metadata": {},
   "source": [
    "Let's create a new dataframe with the processed reviews and their labels:"
   ]
  },
  {
   "cell_type": "code",
   "execution_count": 1096,
   "metadata": {},
   "outputs": [],
   "source": [
    "df_group = rev_df[rev_df['topic'] != 'NaN']\n",
    "df_group.reset_index(inplace=True)\n",
    "df_group.drop('index', axis=1, inplace=True)"
   ]
  },
  {
   "cell_type": "code",
   "execution_count": 1097,
   "metadata": {},
   "outputs": [
    {
     "data": {
      "text/html": [
       "<div>\n",
       "<style scoped>\n",
       "    .dataframe tbody tr th:only-of-type {\n",
       "        vertical-align: middle;\n",
       "    }\n",
       "\n",
       "    .dataframe tbody tr th {\n",
       "        vertical-align: top;\n",
       "    }\n",
       "\n",
       "    .dataframe thead th {\n",
       "        text-align: right;\n",
       "    }\n",
       "</style>\n",
       "<table border=\"1\" class=\"dataframe\">\n",
       "  <thead>\n",
       "    <tr style=\"text-align: right;\">\n",
       "      <th></th>\n",
       "      <th>process_review</th>\n",
       "      <th>topic</th>\n",
       "    </tr>\n",
       "  </thead>\n",
       "  <tbody>\n",
       "    <tr>\n",
       "      <th>0</th>\n",
       "      <td>i used to love these treats  but they must hav...</td>\n",
       "      <td>health</td>\n",
       "    </tr>\n",
       "    <tr>\n",
       "      <th>1</th>\n",
       "      <td>my dog does not like them that much  and i wil...</td>\n",
       "      <td>quality</td>\n",
       "    </tr>\n",
       "    <tr>\n",
       "      <th>2</th>\n",
       "      <td>very hard treat and the worst product from yum...</td>\n",
       "      <td>product</td>\n",
       "    </tr>\n",
       "    <tr>\n",
       "      <th>3</th>\n",
       "      <td>my dog loves these  but package i received was...</td>\n",
       "      <td>product</td>\n",
       "    </tr>\n",
       "    <tr>\n",
       "      <th>4</th>\n",
       "      <td>product ordered for my cat who has recurrent u...</td>\n",
       "      <td>quality</td>\n",
       "    </tr>\n",
       "  </tbody>\n",
       "</table>\n",
       "</div>"
      ],
      "text/plain": [
       "                                      process_review    topic\n",
       "0  i used to love these treats  but they must hav...   health\n",
       "1  my dog does not like them that much  and i wil...  quality\n",
       "2  very hard treat and the worst product from yum...  product\n",
       "3  my dog loves these  but package i received was...  product\n",
       "4  product ordered for my cat who has recurrent u...  quality"
      ]
     },
     "execution_count": 1097,
     "metadata": {},
     "output_type": "execute_result"
    }
   ],
   "source": [
    "df_group.head()"
   ]
  },
  {
   "cell_type": "code",
   "execution_count": 1098,
   "metadata": {},
   "outputs": [
    {
     "data": {
      "image/png": "[encoded data removed]",
      "text/plain": [
       "<Figure size 864x432 with 1 Axes>"
      ]
     },
     "metadata": {
      "needs_background": "light"
     },
     "output_type": "display_data"
    }
   ],
   "source": [
    "fig1 = plt.figure(figsize = (6,8))\n",
    "ax = fig1.add_subplot(111)\n",
    "ax.spines[\"top\"].set_visible(False)    \n",
    "ax.spines[\"bottom\"].set_visible(True)    \n",
    "ax.spines[\"right\"].set_visible(False)    \n",
    "ax.spines[\"left\"].set_visible(True)    \n",
    "\n",
    "\n",
    " \n",
    "plt.rc('font', family='serif', size=20)\n",
    "count = df_group['topic'].value_counts()\n",
    "percent = 100*count/len(df_group)\n",
    "ax = percent.plot(kind='bar',figsize=(12,6),\n",
    "                  title=\"Distribution of Topics Among Reviews\",\n",
    "                  color = 'steelblue')\n",
    "\n",
    "ax.set_yticks(range(0, 51, 10))  \n",
    "ax.set_xticklabels(['Quality','Service','Health']) \n",
    "ax.set_ylabel(\"Percent of Reviews\")\n",
    "for label in ax.get_xticklabels():\n",
    "    label.set_rotation(0)\n",
    "    \n",
    "plt.savefig('label_dist.png')"
   ]
  },
  {
   "cell_type": "code",
   "execution_count": 1156,
   "metadata": {},
   "outputs": [],
   "source": [
    "Topics=['Quality','Service','Health']\n",
    "count = df_group['topic'].value_counts()\n",
    "percent = 100*count/len(df_group)\n",
    "\n",
    "fig = go.Figure()\n",
    "fig.add_trace(go.Bar(\n",
    "    x=Topics,\n",
    "    y=percent,\n",
    "    name='Pet Food',\n",
    "    marker_color='steelblue',\n",
    "    width = 0.5\n",
    "))\n",
    "\n",
    "\n",
    "# Here we modify the tickangle of the xaxis, resulting in rotated labels.\n",
    "fig.update_layout(barmode='group', uniformtext_minsize=12,\n",
    "                  title={\n",
    "                      'text': \"Distribution of Topics Among Reviews\",\n",
    "                      'y':0.9,\n",
    "                      'x':0.4,\n",
    "                      'xanchor': 'center',\n",
    "                      'yanchor': 'top'},\n",
    "                  yaxis_title=\"Percent of Reviews\",\n",
    "                  font=dict(\n",
    "                      family=\"sans-serif, monospace\",\n",
    "                      size=18,\n",
    "                      color=\"black\")\n",
    "                 )\n",
    "#py.iplot(fig)\n",
    "py.image.save_as(fig, 'APPA.png')"
   ]
  },
  {
   "cell_type": "markdown",
   "metadata": {},
   "source": [
    "We're going to focus on reviews that are longer than 10 words in order to make each comment as descriptive as possible."
   ]
  },
  {
   "cell_type": "code",
   "execution_count": 1101,
   "metadata": {},
   "outputs": [],
   "source": [
    "def word_count(text):\n",
    "    counts = len(text.split())\n",
    "    return counts"
   ]
  },
  {
   "cell_type": "code",
   "execution_count": 1102,
   "metadata": {},
   "outputs": [],
   "source": [
    "df_group['word_count'] = df_group['process_review'].apply(word_count)"
   ]
  },
  {
   "cell_type": "code",
   "execution_count": 1103,
   "metadata": {},
   "outputs": [],
   "source": [
    "df_group = df_group[df_group['word_count']>10]\n",
    "df_group.reset_index(inplace=True)\n",
    "df_group.drop('index', axis=1,inplace=True)"
   ]
  },
  {
   "cell_type": "code",
   "execution_count": 1104,
   "metadata": {},
   "outputs": [
    {
     "data": {
      "text/html": [
       "<div>\n",
       "<style scoped>\n",
       "    .dataframe tbody tr th:only-of-type {\n",
       "        vertical-align: middle;\n",
       "    }\n",
       "\n",
       "    .dataframe tbody tr th {\n",
       "        vertical-align: top;\n",
       "    }\n",
       "\n",
       "    .dataframe thead th {\n",
       "        text-align: right;\n",
       "    }\n",
       "</style>\n",
       "<table border=\"1\" class=\"dataframe\">\n",
       "  <thead>\n",
       "    <tr style=\"text-align: right;\">\n",
       "      <th></th>\n",
       "      <th>process_review</th>\n",
       "      <th>topic</th>\n",
       "      <th>word_count</th>\n",
       "    </tr>\n",
       "  </thead>\n",
       "  <tbody>\n",
       "    <tr>\n",
       "      <th>0</th>\n",
       "      <td>i used to love these treats  but they must hav...</td>\n",
       "      <td>health</td>\n",
       "      <td>75</td>\n",
       "    </tr>\n",
       "    <tr>\n",
       "      <th>1</th>\n",
       "      <td>my dog does not like them that much  and i wil...</td>\n",
       "      <td>quality</td>\n",
       "      <td>511</td>\n",
       "    </tr>\n",
       "    <tr>\n",
       "      <th>2</th>\n",
       "      <td>very hard treat and the worst product from yum...</td>\n",
       "      <td>product</td>\n",
       "      <td>18</td>\n",
       "    </tr>\n",
       "    <tr>\n",
       "      <th>3</th>\n",
       "      <td>my dog loves these  but package i received was...</td>\n",
       "      <td>product</td>\n",
       "      <td>13</td>\n",
       "    </tr>\n",
       "    <tr>\n",
       "      <th>4</th>\n",
       "      <td>product ordered for my cat who has recurrent u...</td>\n",
       "      <td>quality</td>\n",
       "      <td>35</td>\n",
       "    </tr>\n",
       "  </tbody>\n",
       "</table>\n",
       "</div>"
      ],
      "text/plain": [
       "                                      process_review    topic  word_count\n",
       "0  i used to love these treats  but they must hav...   health          75\n",
       "1  my dog does not like them that much  and i wil...  quality         511\n",
       "2  very hard treat and the worst product from yum...  product          18\n",
       "3  my dog loves these  but package i received was...  product          13\n",
       "4  product ordered for my cat who has recurrent u...  quality          35"
      ]
     },
     "execution_count": 1104,
     "metadata": {},
     "output_type": "execute_result"
    }
   ],
   "source": [
    "df_group.head()"
   ]
  },
  {
   "cell_type": "code",
   "execution_count": 1105,
   "metadata": {},
   "outputs": [],
   "source": [
    "df_group.to_csv('df_group.tsv',header=1,index=False, encoding='utf-8', sep='\\t')"
   ]
  },
  {
   "cell_type": "code",
   "execution_count": 1106,
   "metadata": {},
   "outputs": [],
   "source": [
    "df_group = pd.read_csv('df_group.tsv',sep = '\\t', error_bad_lines=False)"
   ]
  },
  {
   "cell_type": "code",
   "execution_count": 1107,
   "metadata": {},
   "outputs": [
    {
     "data": {
      "text/html": [
       "<div>\n",
       "<style scoped>\n",
       "    .dataframe tbody tr th:only-of-type {\n",
       "        vertical-align: middle;\n",
       "    }\n",
       "\n",
       "    .dataframe tbody tr th {\n",
       "        vertical-align: top;\n",
       "    }\n",
       "\n",
       "    .dataframe thead th {\n",
       "        text-align: right;\n",
       "    }\n",
       "</style>\n",
       "<table border=\"1\" class=\"dataframe\">\n",
       "  <thead>\n",
       "    <tr style=\"text-align: right;\">\n",
       "      <th></th>\n",
       "      <th>process_review</th>\n",
       "      <th>topic</th>\n",
       "      <th>word_count</th>\n",
       "    </tr>\n",
       "  </thead>\n",
       "  <tbody>\n",
       "    <tr>\n",
       "      <th>0</th>\n",
       "      <td>i used to love these treats  but they must hav...</td>\n",
       "      <td>health</td>\n",
       "      <td>75</td>\n",
       "    </tr>\n",
       "    <tr>\n",
       "      <th>1</th>\n",
       "      <td>my dog does not like them that much  and i wil...</td>\n",
       "      <td>quality</td>\n",
       "      <td>511</td>\n",
       "    </tr>\n",
       "    <tr>\n",
       "      <th>2</th>\n",
       "      <td>very hard treat and the worst product from yum...</td>\n",
       "      <td>product</td>\n",
       "      <td>18</td>\n",
       "    </tr>\n",
       "    <tr>\n",
       "      <th>3</th>\n",
       "      <td>my dog loves these  but package i received was...</td>\n",
       "      <td>product</td>\n",
       "      <td>13</td>\n",
       "    </tr>\n",
       "    <tr>\n",
       "      <th>4</th>\n",
       "      <td>product ordered for my cat who has recurrent u...</td>\n",
       "      <td>quality</td>\n",
       "      <td>35</td>\n",
       "    </tr>\n",
       "  </tbody>\n",
       "</table>\n",
       "</div>"
      ],
      "text/plain": [
       "                                      process_review    topic  word_count\n",
       "0  i used to love these treats  but they must hav...   health          75\n",
       "1  my dog does not like them that much  and i wil...  quality         511\n",
       "2  very hard treat and the worst product from yum...  product          18\n",
       "3  my dog loves these  but package i received was...  product          13\n",
       "4  product ordered for my cat who has recurrent u...  quality          35"
      ]
     },
     "execution_count": 1107,
     "metadata": {},
     "output_type": "execute_result"
    }
   ],
   "source": [
    "df_group.head()"
   ]
  },
  {
   "cell_type": "code",
   "execution_count": 1109,
   "metadata": {},
   "outputs": [
    {
     "data": {
      "image/png": "[encoded data removed]",
      "text/plain": [
       "<Figure size 720x432 with 1 Axes>"
      ]
     },
     "metadata": {
      "needs_background": "light"
     },
     "output_type": "display_data"
    }
   ],
   "source": [
    "fig2 = plt.figure(figsize = (10,6))\n",
    "ax = fig2.add_subplot(111)\n",
    "ax.spines[\"top\"].set_visible(False)    \n",
    "ax.spines[\"bottom\"].set_visible(True)    \n",
    "ax.spines[\"right\"].set_visible(False)    \n",
    "ax.spines[\"left\"].set_visible(True)    \n",
    "\n",
    "ax.get_xaxis().tick_bottom()    \n",
    "ax.get_yaxis().tick_left()    \n",
    "\n",
    "\n",
    "ax.set_yticks(range(0, 5001, 1000))    \n",
    "ax.set_yticklabels(range(0, 5001, 1000))\n",
    "ax.set_xticks(range(0, 2001, 500))    \n",
    "ax.set_xticklabels(range(0, 2001, 500))\n",
    "plt.yticks(fontsize=12) \n",
    "plt.xticks(fontsize=12)  \n",
    "plt.rc('font', family='serif', size=20)\n",
    "\n",
    "df_group['word_count'].hist(bins=100, color = 'steelblue', grid=False)\n",
    "#ax.set_xlim(1,1000)\n",
    "ax.set_xlabel(\"Word Count\")\n",
    "ax.set_ylabel(\"Number of Reviews\")\n",
    "ax.set_title('Word Count Distribution of Reviews')\n",
    "plt.savefig('word_count.png')"
   ]
  },
  {
   "cell_type": "markdown",
   "metadata": {},
   "source": [
    "Let's also inspect the length of different reviews:"
   ]
  },
  {
   "cell_type": "code",
   "execution_count": 1110,
   "metadata": {},
   "outputs": [
    {
     "name": "stdout",
     "output_type": "stream",
     "text": [
      "127.0\n",
      "159.0\n",
      "310.0\n"
     ]
    }
   ],
   "source": [
    "print(np.percentile(df_group['word_count'], 90))\n",
    "print(np.percentile(df_group['word_count'], 95))\n",
    "print(np.percentile(df_group['word_count'], 99))"
   ]
  },
  {
   "cell_type": "code",
   "execution_count": 1111,
   "metadata": {},
   "outputs": [
    {
     "data": {
      "text/html": [
       "<div>\n",
       "<style scoped>\n",
       "    .dataframe tbody tr th:only-of-type {\n",
       "        vertical-align: middle;\n",
       "    }\n",
       "\n",
       "    .dataframe tbody tr th {\n",
       "        vertical-align: top;\n",
       "    }\n",
       "\n",
       "    .dataframe thead th {\n",
       "        text-align: right;\n",
       "    }\n",
       "</style>\n",
       "<table border=\"1\" class=\"dataframe\">\n",
       "  <thead>\n",
       "    <tr style=\"text-align: right;\">\n",
       "      <th></th>\n",
       "      <th>process_review</th>\n",
       "      <th>topic</th>\n",
       "    </tr>\n",
       "  </thead>\n",
       "  <tbody>\n",
       "    <tr>\n",
       "      <th>0</th>\n",
       "      <td>i used to love these treats  but they must hav...</td>\n",
       "      <td>health</td>\n",
       "    </tr>\n",
       "    <tr>\n",
       "      <th>1</th>\n",
       "      <td>my dog does not like them that much  and i wil...</td>\n",
       "      <td>quality</td>\n",
       "    </tr>\n",
       "    <tr>\n",
       "      <th>2</th>\n",
       "      <td>very hard treat and the worst product from yum...</td>\n",
       "      <td>product</td>\n",
       "    </tr>\n",
       "    <tr>\n",
       "      <th>3</th>\n",
       "      <td>my dog loves these  but package i received was...</td>\n",
       "      <td>product</td>\n",
       "    </tr>\n",
       "    <tr>\n",
       "      <th>4</th>\n",
       "      <td>product ordered for my cat who has recurrent u...</td>\n",
       "      <td>quality</td>\n",
       "    </tr>\n",
       "  </tbody>\n",
       "</table>\n",
       "</div>"
      ],
      "text/plain": [
       "                                      process_review    topic\n",
       "0  i used to love these treats  but they must hav...   health\n",
       "1  my dog does not like them that much  and i wil...  quality\n",
       "2  very hard treat and the worst product from yum...  product\n",
       "3  my dog loves these  but package i received was...  product\n",
       "4  product ordered for my cat who has recurrent u...  quality"
      ]
     },
     "execution_count": 1111,
     "metadata": {},
     "output_type": "execute_result"
    }
   ],
   "source": [
    "df_group.drop('word_count',axis=1, inplace=True)\n",
    "df_group.head()"
   ]
  },
  {
   "cell_type": "markdown",
   "metadata": {},
   "source": [
    "## Create Train and Eval Files"
   ]
  },
  {
   "cell_type": "markdown",
   "metadata": {},
   "source": [
    "In order to create train and eval datasets, we'll create hash groups for each review and use that to divide the dataset between the two groups."
   ]
  },
  {
   "cell_type": "code",
   "execution_count": 1112,
   "metadata": {},
   "outputs": [
    {
     "data": {
      "text/html": [
       "<div>\n",
       "<style scoped>\n",
       "    .dataframe tbody tr th:only-of-type {\n",
       "        vertical-align: middle;\n",
       "    }\n",
       "\n",
       "    .dataframe tbody tr th {\n",
       "        vertical-align: top;\n",
       "    }\n",
       "\n",
       "    .dataframe thead th {\n",
       "        text-align: right;\n",
       "    }\n",
       "</style>\n",
       "<table border=\"1\" class=\"dataframe\">\n",
       "  <thead>\n",
       "    <tr style=\"text-align: right;\">\n",
       "      <th></th>\n",
       "      <th>process_review</th>\n",
       "      <th>topic</th>\n",
       "      <th>hash</th>\n",
       "    </tr>\n",
       "  </thead>\n",
       "  <tbody>\n",
       "    <tr>\n",
       "      <th>0</th>\n",
       "      <td>i used to love these treats  but they must hav...</td>\n",
       "      <td>health</td>\n",
       "      <td>1411241852688926826</td>\n",
       "    </tr>\n",
       "    <tr>\n",
       "      <th>1</th>\n",
       "      <td>my dog does not like them that much  and i wil...</td>\n",
       "      <td>quality</td>\n",
       "      <td>9003616572848116650</td>\n",
       "    </tr>\n",
       "    <tr>\n",
       "      <th>2</th>\n",
       "      <td>very hard treat and the worst product from yum...</td>\n",
       "      <td>product</td>\n",
       "      <td>2869286342900444198</td>\n",
       "    </tr>\n",
       "    <tr>\n",
       "      <th>3</th>\n",
       "      <td>my dog loves these  but package i received was...</td>\n",
       "      <td>product</td>\n",
       "      <td>3958807147915836231</td>\n",
       "    </tr>\n",
       "    <tr>\n",
       "      <th>4</th>\n",
       "      <td>product ordered for my cat who has recurrent u...</td>\n",
       "      <td>quality</td>\n",
       "      <td>4769814995099392078</td>\n",
       "    </tr>\n",
       "  </tbody>\n",
       "</table>\n",
       "</div>"
      ],
      "text/plain": [
       "                                      process_review    topic  \\\n",
       "0  i used to love these treats  but they must hav...   health   \n",
       "1  my dog does not like them that much  and i wil...  quality   \n",
       "2  very hard treat and the worst product from yum...  product   \n",
       "3  my dog loves these  but package i received was...  product   \n",
       "4  product ordered for my cat who has recurrent u...  quality   \n",
       "\n",
       "                  hash  \n",
       "0  1411241852688926826  \n",
       "1  9003616572848116650  \n",
       "2  2869286342900444198  \n",
       "3  3958807147915836231  \n",
       "4  4769814995099392078  "
      ]
     },
     "execution_count": 1112,
     "metadata": {},
     "output_type": "execute_result"
    }
   ],
   "source": [
    "df_group['hash'] = pd.Series((abs(hash(tuple(row))) for _, row in df_group.iterrows()))\n",
    "df_group.head()"
   ]
  },
  {
   "cell_type": "code",
   "execution_count": 1113,
   "metadata": {},
   "outputs": [],
   "source": [
    "traindf = df_group[df_group['hash']%4 > 0][['topic','process_review']]\n",
    "evaldf  = df_group[df_group['hash']%4 ==0][['topic','process_review']]"
   ]
  },
  {
   "cell_type": "markdown",
   "metadata": {},
   "source": [
    "Since there wasn't a huge imbalance between the 3 classes, we'll divide the dataset between the train and eval class with a ratio of 3 to 1. Let's check if we've done just that:"
   ]
  },
  {
   "cell_type": "code",
   "execution_count": 1114,
   "metadata": {},
   "outputs": [
    {
     "data": {
      "text/plain": [
       "quality    6672\n",
       "product    5605\n",
       "health     3223\n",
       "Name: topic, dtype: int64"
      ]
     },
     "execution_count": 1114,
     "metadata": {},
     "output_type": "execute_result"
    }
   ],
   "source": [
    "traindf['topic'].value_counts()"
   ]
  },
  {
   "cell_type": "code",
   "execution_count": 1115,
   "metadata": {},
   "outputs": [
    {
     "data": {
      "text/plain": [
       "quality    2320\n",
       "product    1865\n",
       "health     1142\n",
       "Name: topic, dtype: int64"
      ]
     },
     "execution_count": 1115,
     "metadata": {},
     "output_type": "execute_result"
    }
   ],
   "source": [
    "evaldf['topic'].value_counts()"
   ]
  },
  {
   "cell_type": "markdown",
   "metadata": {},
   "source": [
    "Let's save these two file to our directory, and upload them to Google Cloud Storage:"
   ]
  },
  {
   "cell_type": "code",
   "execution_count": 1116,
   "metadata": {},
   "outputs": [],
   "source": [
    "import os, shutil\n",
    "DATADIR='data'\n",
    "shutil.rmtree(DATADIR, ignore_errors=True)\n",
    "os.makedirs(DATADIR)\n",
    "traindf.to_csv( os.path.join(DATADIR,'train.tsv'), header=False, index=False, encoding='utf-8', sep='\\t')\n",
    "evaldf.to_csv( os.path.join(DATADIR,'eval.tsv'), header=False, index=False, encoding='utf-8', sep='\\t')"
   ]
  },
  {
   "cell_type": "code",
   "execution_count": 1117,
   "metadata": {},
   "outputs": [
    {
     "name": "stderr",
     "output_type": "stream",
     "text": [
      "Copying file://data/eval.tsv [Content-Type=text/tab-separated-values]...\n",
      "Copying file://data/train.tsv [Content-Type=text/tab-separated-values]...       \n",
      "- [2 files][  6.7 MiB/  6.7 MiB]                                                \n",
      "Operation completed over 2 objects/6.7 MiB.                                      \n"
     ]
    }
   ],
   "source": [
    "%%bash\n",
    "gsutil cp data/*.tsv gs://${BUCKET}/"
   ]
  },
  {
   "cell_type": "markdown",
   "metadata": {},
   "source": [
    "# Create Python Package for Training the Model"
   ]
  },
  {
   "cell_type": "markdown",
   "metadata": {},
   "source": [
    "In order to deploy our model to GCP, we need to define a python package with our model and hyperparameters."
   ]
  },
  {
   "cell_type": "code",
   "execution_count": 1271,
   "metadata": {},
   "outputs": [
    {
     "name": "stdout",
     "output_type": "stream",
     "text": [
      "Overwriting Petfood_reviews/trainer/model.py\n"
     ]
    }
   ],
   "source": [
    "%%writefile Petfood_reviews/trainer/model.py\n",
    "\n",
    "from __future__ import absolute_import\n",
    "from __future__ import division\n",
    "from __future__ import print_function\n",
    "\n",
    "import tensorflow as tf\n",
    "import pandas as pd\n",
    "import numpy as np\n",
    "import re\n",
    "import os\n",
    "import datetime\n",
    "\n",
    "#import keras.backend as K\n",
    "from tensorflow.python.keras.preprocessing import text\n",
    "from tensorflow.python.keras import models\n",
    "from tensorflow.python.keras.layers import Dense\n",
    "from tensorflow.python.keras.layers import Dropout\n",
    "from tensorflow.python.keras.layers import SpatialDropout1D\n",
    "from tensorflow.python.keras.layers import Embedding\n",
    "from tensorflow.python.keras.layers import Conv1D\n",
    "from tensorflow.python.keras.layers import LSTM\n",
    "from tensorflow.python.keras.layers import Bidirectional\n",
    "from tensorflow.python.keras.layers import MaxPooling1D\n",
    "from tensorflow.python.keras.layers import GlobalAveragePooling1D\n",
    "from tensorflow.python.keras.layers import SimpleRNN\n",
    "\n",
    "from google.cloud import storage\n",
    "\n",
    "tf.logging.set_verbosity(tf.logging.INFO)\n",
    "\n",
    "    \n",
    "CLASSES = {'health': 0, 'quality': 1, 'product':2}  # label-to-int mapping\n",
    "TOP_K = 100000  # Limit on the number vocabulary size used for tokenization\n",
    "MAX_SEQUENCE_LENGTH = 150  # Sentences will be truncated/padded to this length\n",
    "VOCAB_FILE_PATH = None # where vocabulary is saved, dynamically set in train_and_eval function\n",
    "PADWORD = 'ZYXW'\n",
    "logs_base_dir= './logs'\n",
    "\n",
    "\"\"\"\n",
    "Download data from Google Cloud Storage to local disk\n",
    "    source: string, the GCS URL to download from (e.g. 'gs://bucket/file.csv')\n",
    "    destination: string, the filename to save as on local disk. MUST be filename\n",
    "    ONLY, doesn't support folders. (e.g. 'file.csv', NOT 'folder/file.csv')\n",
    "\"\"\"\n",
    "def download_from_gcs(source, destination):\n",
    "    search = re.search('gs://(.*?)/(.*)', source)\n",
    "    bucket_name = search.group(1)\n",
    "    blob_name = search.group(2)\n",
    "    storage_client = storage.Client()\n",
    "    bucket = storage_client.get_bucket(bucket_name)\n",
    "    bucket.blob(blob_name).download_to_filename(destination)\n",
    "\n",
    "\n",
    "\"\"\"\n",
    "Parses raw tsv containing body of reviews and returns (sentences, integer label) pairs\n",
    "    train_data_path: string, path to tsv containing training data.\n",
    "        can be a local path or a GCS url (gs://...)\n",
    "    eval_data_path: string, path to tsv containing eval data.\n",
    "        can be a local path or a GCS url (gs://...)\n",
    "  Returns:\n",
    "      ((train_sentences, train_labels), (test_sentences, test_labels)):  sentences\n",
    "        are lists of strings, labels are numpy integer arrays\n",
    "\"\"\"\n",
    "def load_review_data(train_data_path, eval_data_path):\n",
    "    if train_data_path.startswith('gs://'):\n",
    "        download_from_gcs(train_data_path, destination='train.tsv')\n",
    "        train_data_path = 'train.tsv'\n",
    "    if eval_data_path.startswith('gs://'):\n",
    "        download_from_gcs(eval_data_path, destination='eval.tsv')\n",
    "        eval_data_path = 'eval.tsv'\n",
    "\n",
    "    # Parse CSV using pandas\n",
    "    column_names = ('label', 'text')\n",
    "    df_train = pd.read_csv(train_data_path, names=column_names, sep='\\t')\n",
    "    df_eval = pd.read_csv(eval_data_path, names=column_names, sep='\\t')\n",
    "\n",
    "    return ((list(df_train['text']), np.array(df_train['label'].map(CLASSES))),\n",
    "            (list(df_eval['text']), np.array(df_eval['label'].map(CLASSES))))\n",
    "\n",
    "\n",
    "\"\"\"\n",
    "Create tf.estimator compatible input function\n",
    "    texts: [strings], list of sentences\n",
    "    labels: numpy int vector, integer labels for sentences\n",
    "    batch_size: int, number of records to use for each train batch\n",
    "      mode: tf.estimator.ModeKeys.TRAIN or tf.estimator.ModeKeys.EVAL \n",
    "  Returns:\n",
    "      tf.data.Dataset, produces feature and label tensors one batch at a time\n",
    "\"\"\"\n",
    "def input_fn(texts, labels, batch_size, mode):\n",
    "    # Convert texts from python strings to tensors\n",
    "    x = tf.constant(texts)\n",
    "\n",
    "    # Map text to sequence of word-integers and pad\n",
    "    x = vectorize_sentences(x)\n",
    "\n",
    "    # Create tf.data.Dataset from tensors\n",
    "    dataset = tf.data.Dataset.from_tensor_slices((x, labels))\n",
    "\n",
    "    # Pad to constant length\n",
    "    dataset = dataset.map(pad)\n",
    "\n",
    "    if mode == tf.estimator.ModeKeys.TRAIN:\n",
    "        num_epochs = None #loop indefinitley\n",
    "        dataset = dataset.shuffle(buffer_size=50000) \n",
    "    else:\n",
    "        num_epochs = 1\n",
    "\n",
    "    dataset = dataset.repeat(num_epochs).batch(batch_size)\n",
    "    return dataset\n",
    "\n",
    "\"\"\"\n",
    "Given an int tensor, remove 0s then pad to a fixed length representation. \n",
    "    feature: int tensor \n",
    "    label: int. not used in function, just passed through\n",
    "  Returns:\n",
    "    (int tensor, int) tuple.\n",
    "\"\"\"\n",
    "def pad(feature, label):\n",
    "    # 1. Remove 0s which represent out of vocabulary words\n",
    "    nonzero_indices = tf.where(tf.not_equal(feature, tf.zeros_like(feature)))\n",
    "    without_zeros = tf.gather(feature,nonzero_indices)\n",
    "    without_zeros = tf.squeeze(without_zeros, axis=1)\n",
    "\n",
    "    # 2. Prepend 0s till MAX_SEQUENCE_LENGTH\n",
    "    padded = tf.pad(without_zeros, [[MAX_SEQUENCE_LENGTH, 0]])  # pad out with zeros\n",
    "    padded = padded[-MAX_SEQUENCE_LENGTH:]  # slice to constant length\n",
    "    return (padded, label)\n",
    "\n",
    "\n",
    "\"\"\"\n",
    "Given sentences, return an integer representation\n",
    "    sentences: string tensor of shape (?,), contains sentences to vectorize\n",
    "    \n",
    "    Returns:\n",
    "      Integer representation of the sentence. Word-integer mapping is determined\n",
    "        by VOCAB_FILE_PATH. Words out of vocabulary will map to 0\n",
    "\"\"\"\n",
    "def vectorize_sentences(sentences):\n",
    "    # 1. Remove punctuation\n",
    "    sentences = tf.regex_replace(sentences, '[[:punct:]]', ' ')\n",
    "\n",
    "    # 2. Split string tensor into component words\n",
    "    words = tf.string_split(sentences)\n",
    "    words = tf.sparse_tensor_to_dense(words, default_value=PADWORD)\n",
    "\n",
    "    # 3. Map each word to respective integer\n",
    "    table = tf.contrib.lookup.index_table_from_file(\n",
    "        vocabulary_file=VOCAB_FILE_PATH,\n",
    "        num_oov_buckets=0,\n",
    "        vocab_size=None,\n",
    "        default_value=0,  # for words not in vocabulary (OOV)\n",
    "        key_column_index=0,\n",
    "        value_column_index=1,\n",
    "        delimiter=',')\n",
    "    numbers = table.lookup(words)\n",
    "\n",
    "    return numbers\n",
    "\n",
    "\n",
    "\"\"\"\n",
    "Builds a CNN model using keras and converts to tf.estimator.Estimator\n",
    "    model_dir: string, file path where training files will be written\n",
    "    config: tf.estimator.RunConfig, specifies properties of tf Estimator\n",
    "    filters: int, output dimension of the layers.\n",
    "    kernel_size: int, length of the convolution window.\n",
    "    mbedding_dim: int, dimension of the embedding vectors.\n",
    "    dropout_rate: float, percentage of input to drop at Dropout layers.\n",
    "    pool_size: int, factor by which to downscale input at MaxPooling layer.\n",
    "    embedding_path: string , file location of pre-trained embedding (if used)\n",
    "        defaults to None which will cause the model to train embedding from scratch\n",
    "    word_index: dictionary, mapping of vocabulary to integers. used only if\n",
    "        pre-trained embedding is provided\n",
    "\"\"\"\n",
    "def keras_CNN_estimator(model_dir,\n",
    "                    config,\n",
    "                    embedding_dim = 200,\n",
    "                    learning_rate = 0.001,\n",
    "                    dropout_rate = 0.2,\n",
    "                    filters= 64,\n",
    "                    kernel_size =3,\n",
    "                    pool_size=3,\n",
    "                    embedding_path = None,\n",
    "                    word_index = None):\n",
    "\n",
    "    model = models.Sequential()\n",
    "    num_features = min(len(word_index) + 1, TOP_K)\n",
    "\n",
    "    # If pre-trained embedding is used add weights to the embeddings layer\n",
    "    # and set trainable to input is_embedding_trainable flag.\n",
    "    if embedding_path != None:\n",
    "        embedding_matrix = get_embedding_matrix(word_index, embedding_path, embedding_dim)\n",
    "        is_embedding_trainable = True  # set to False to freeze embedding weights\n",
    "\n",
    "        model.add(Embedding(input_dim=num_features,\n",
    "                            output_dim=embedding_dim,\n",
    "                            input_length=MAX_SEQUENCE_LENGTH,\n",
    "                            weights=[embedding_matrix],\n",
    "                            trainable=is_embedding_trainable))\n",
    "    else:\n",
    "        model.add(Embedding(input_dim=num_features,\n",
    "                            output_dim=embedding_dim,\n",
    "                            input_length=MAX_SEQUENCE_LENGTH))\n",
    "\n",
    "    model.add(Dropout(rate=dropout_rate))\n",
    "    model.add(Conv1D(filters=filters,\n",
    "                              kernel_size=kernel_size,\n",
    "                              activation='relu',\n",
    "                              bias_initializer='random_uniform',\n",
    "                              padding='same'))\n",
    "\n",
    "    model.add(MaxPooling1D(pool_size=pool_size))\n",
    "    model.add(Conv1D(filters=filters * 2,\n",
    "                              kernel_size=kernel_size,\n",
    "                              activation='relu',\n",
    "                              bias_initializer='random_uniform',\n",
    "                              padding='same'))\n",
    "    model.add(GlobalAveragePooling1D())\n",
    "    model.add(Dropout(rate=dropout_rate))\n",
    "    model.add(Dense(len(CLASSES), \n",
    "                    kernel_regularizer=tf.keras.regularizers.l1(0.01),\n",
    "                    activation='softmax'))\n",
    "\n",
    "    # Compile model with learning parameters.\n",
    "    optimizer = tf.keras.optimizers.Adam(lr=learning_rate)\n",
    "    model.compile(optimizer=optimizer, loss=tf.keras.losses.SparseCategoricalCrossentropy(from_logits=True), \n",
    "                  metrics=[tf.keras.metrics.SparseCategoricalAccuracy()])\n",
    "    \n",
    "     \n",
    "    estimator = tf.keras.estimator.model_to_estimator(keras_model=model,\n",
    "                                                      model_dir=model_dir,\n",
    "                                                      config=config)\n",
    "\n",
    "    return estimator\n",
    "\n",
    "\"\"\"\n",
    "Builds an LSTM model using keras and converts to tf.estimator.Estimator\n",
    "    model_dir: string, file path where training files will be written\n",
    "    config: tf.estimator.RunConfig, specifies properties of tf Estimator\n",
    "    mbedding_dim: int, dimension of the embedding vectors.\n",
    "    dropout_rate: float, percentage of input to drop at Dropout layers.\n",
    "    embedding_path: string , file location of pre-trained embedding (if used)\n",
    "        defaults to None which will cause the model to train embedding from scratch\n",
    "    word_index: dictionary, mapping of vocabulary to integers. used only if\n",
    "        pre-trained embedding is provided\n",
    "\"\"\"\n",
    "\n",
    "def keras_LSTM_estimator(model_dir,\n",
    "                    config,\n",
    "                    learning_rate,\n",
    "                    dropout_rate,\n",
    "                    embedding_dim,\n",
    "                    embedding_path=None,\n",
    "                    word_index=None):\n",
    "\n",
    "    model = models.Sequential()\n",
    "    num_features = min(len(word_index) + 1, TOP_K)\n",
    "\n",
    "    # If pre-trained embedding is used add weights to the embeddings layer\n",
    "    # and set trainable to input is_embedding_trainable flag.\n",
    "    if embedding_path != None:\n",
    "        embedding_matrix = get_embedding_matrix(word_index, embedding_path, embedding_dim)\n",
    "        is_embedding_trainable = True  # set to False to freeze embedding weights\n",
    "\n",
    "        model.add(Embedding(input_dim=num_features,\n",
    "                            output_dim=embedding_dim,\n",
    "                            input_length=MAX_SEQUENCE_LENGTH,\n",
    "                            weights=[embedding_matrix],\n",
    "                            trainable=is_embedding_trainable))\n",
    "    else:\n",
    "        model.add(Embedding(input_dim=num_features,\n",
    "                            output_dim=embedding_dim,\n",
    "                            input_length=MAX_SEQUENCE_LENGTH))\n",
    "\n",
    "    model.add(SpatialDropout1D(dropout_rate))\n",
    "    \n",
    "    model.add(LSTM(embedding_dim*2, dropout=dropout_rate, \n",
    "                   recurrent_dropout=0.2,\n",
    "                  return_sequences=True))\n",
    "    model.add(LSTM(int(embedding_dim/2), dropout=dropout_rate, \n",
    "                   recurrent_dropout=0.2))   \n",
    "    model.add(Dense(len(CLASSES), \n",
    "                    kernel_regularizer=tf.keras.regularizers.l1(0.01),\n",
    "                    activation='softmax'))\n",
    "\n",
    "    # Compile model with learning parameters.\n",
    "    optimizer = tf.keras.optimizers.Adam(lr=learning_rate)\n",
    "    model.compile(optimizer=optimizer, loss=tf.keras.losses.SparseCategoricalCrossentropy(from_logits=True), \n",
    "                  metrics=[tf.keras.metrics.SparseCategoricalAccuracy()])\n",
    "    \n",
    "     \n",
    "    estimator = tf.keras.estimator.model_to_estimator(keras_model=model,\n",
    "                                                      model_dir=model_dir,\n",
    "                                                      config=config)\n",
    "\n",
    "    return estimator\n",
    "\n",
    "\n",
    "\n",
    "\"\"\"\n",
    "Builds a Directional LSTM model using keras and converts to tf.estimator.Estimator\n",
    "    model_dir: string, file path where training files will be written\n",
    "    config: tf.estimator.RunConfig, specifies properties of tf Estimator\n",
    "    mbedding_dim: int, dimension of the embedding vectors.\n",
    "    dropout_rate: float, percentage of input to drop at Dropout layers.\n",
    "    embedding_path: string , file location of pre-trained embedding (if used)\n",
    "        defaults to None which will cause the model to train embedding from scratch\n",
    "    word_index: dictionary, mapping of vocabulary to integers. used only if\n",
    "        pre-trained embedding is provided\n",
    "\"\"\"\n",
    "\n",
    "def keras_BiDirect_estimator(model_dir,\n",
    "                    config,\n",
    "                    learning_rate,\n",
    "                    dropout_rate,\n",
    "                    embedding_dim,\n",
    "                    embedding_path=None,\n",
    "                    word_index=None):\n",
    "\n",
    "    model = models.Sequential()\n",
    "    num_features = min(len(word_index) + 1, TOP_K)\n",
    "\n",
    "    # If pre-trained embedding is used add weights to the embeddings layer\n",
    "    # and set trainable to input is_embedding_trainable flag.\n",
    "    if embedding_path != None:\n",
    "        embedding_matrix = get_embedding_matrix(word_index, embedding_path, embedding_dim)\n",
    "        is_embedding_trainable = True  # set to False to freeze embedding weights\n",
    "\n",
    "        model.add(Embedding(input_dim=num_features,\n",
    "                            output_dim=embedding_dim,\n",
    "                            input_length=MAX_SEQUENCE_LENGTH,\n",
    "                            weights=[embedding_matrix],\n",
    "                            trainable=is_embedding_trainable))\n",
    "    else:\n",
    "        model.add(Embedding(input_dim=num_features,\n",
    "                            output_dim=embedding_dim,\n",
    "                            input_length=MAX_SEQUENCE_LENGTH))\n",
    "\n",
    "    model.add(SpatialDropout1D(dropout_rate))\n",
    "    \n",
    "    model.add(Bidirectional(LSTM(embedding_dim*2, \n",
    "                               dropout=dropout_rate, \n",
    "                               recurrent_dropout=0.2,\n",
    "                              return_sequences=True)))\n",
    "    model.add(Bidirectional(LSTM(int(embedding_dim/2),\n",
    "                               dropout=dropout_rate, \n",
    "                               recurrent_dropout=0.2)))\n",
    "    model.add(Dropout(rate=dropout_rate))\n",
    "    model.add(Dense(len(CLASSES),\n",
    "                    kernel_regularizer=tf.keras.regularizers.l1(0.01),\n",
    "                    activation='softmax'))\n",
    "\n",
    "\n",
    "    # Compile model with learning parameters.\n",
    "    optimizer = tf.keras.optimizers.Adam(lr=learning_rate)\n",
    "    model.compile(optimizer=optimizer, loss=tf.keras.losses.SparseCategoricalCrossentropy(from_logits=True), \n",
    "                  metrics=[tf.keras.metrics.SparseCategoricalAccuracy()])\n",
    "    \n",
    "     \n",
    "    estimator = tf.keras.estimator.model_to_estimator(keras_model=model,\n",
    "                                                      model_dir=model_dir,\n",
    "                                                      config=config)\n",
    "\n",
    "    return estimator\n",
    "\n",
    "\"\"\"\n",
    "Defines the features to be passed to the model during inference\n",
    "  Can pass in string text directly. Tokenization done in serving_input_fn \n",
    "\n",
    "  Returns: tf.estimator.export.ServingInputReceiver\n",
    "\"\"\"\n",
    "def serving_input_fn():\n",
    "    feature_placeholder = tf.placeholder(tf.string, [None])\n",
    "    features = vectorize_sentences(feature_placeholder)\n",
    "    return tf.estimator.export.TensorServingInputReceiver(features, feature_placeholder)\n",
    "\n",
    "\"\"\"\n",
    "Add evaluation metrics\n",
    "\"\"\"\n",
    "\n",
    "\n",
    "def my_acc(labels, predictions):\n",
    "    pred_values = predictions['dense']\n",
    "    return {'acc':tf.keras.metrics.sparse_categorical_accuracy(labels, pred_values)}\n",
    "\n",
    "\n",
    "\"\"\"\n",
    "Takes embedding for generic vocabulary and extracts the embeddings \n",
    "        matching the current vocabulary\n",
    "    word_index: dict, {key =word in vocabulary: value= integer mapped to that word}\n",
    "    embedding_path: string, location of the pre-trained embedding file on disk\n",
    "    embedding_dim: int, dimension of the embedding space\n",
    "  \n",
    "  Returns: numpy matrix of shape (vocabulary, embedding_dim) that contains the embedded\n",
    "      representation of each word in the vocabulary.\n",
    "\"\"\"\n",
    "def get_embedding_matrix(word_index, embedding_path, embedding_dim):\n",
    "    # Read the pre-trained embedding file and get word to word vector mappings.\n",
    "    embedding_matrix_all = {}\n",
    "\n",
    "    # Download if embedding file is in GCS\n",
    "    if embedding_path.startswith('gs://'):\n",
    "        download_from_gcs(embedding_path, destination='embedding.csv')\n",
    "        embedding_path = 'embedding.csv'\n",
    "\n",
    "    with open(embedding_path) as f:\n",
    "        for line in f:  # Every line contains word followed by the vector value\n",
    "            values = line.split()\n",
    "            word = values[0]\n",
    "            coefs = np.asarray(values[1:], dtype='float32')\n",
    "            embedding_matrix_all[word] = coefs\n",
    "\n",
    "    # Prepare embedding matrix with just the words in our word_index dictionary\n",
    "    num_words = min(len(word_index) + 1, TOP_K)\n",
    "    embedding_matrix = np.zeros((num_words, embedding_dim))\n",
    "\n",
    "    for word, i in word_index.items():\n",
    "        if i >= TOP_K:\n",
    "            continue\n",
    "        embedding_vector = embedding_matrix_all.get(word)\n",
    "        if embedding_vector is not None:\n",
    "            # words not found in embedding index will be all-zeros.\n",
    "            embedding_matrix[i] = embedding_vector\n",
    "    return embedding_matrix\n",
    "\n",
    "\n",
    "\"\"\"\n",
    "Main orchestrator. Responsible for calling all other functions in model.py\n",
    "\n",
    "    output_dir: string, file path where training files will be written\n",
    "    hparams: dict, command line parameters passed from task.py\n",
    "    \n",
    "    Returns: starts training and evaluation\n",
    "\"\"\"\n",
    "def train_and_evaluate(output_dir, hparams):\n",
    "    # ensure filewriter cache is clear for TensorBoard events file\n",
    "    tf.summary.FileWriterCache.clear() \n",
    "  \n",
    "    # Load Data\n",
    "    ((train_texts, train_labels), (test_texts, test_labels)) = load_review_data(\n",
    "        hparams['train_data_path'], hparams['eval_data_path'])\n",
    "\n",
    "    # Create vocabulary from training corpus.\n",
    "    tokenizer = text.Tokenizer(num_words=TOP_K)\n",
    "    tokenizer.fit_on_texts(train_texts)\n",
    "\n",
    "    # Generate vocabulary file from tokenizer object to enable\n",
    "    # creating a native tensorflow lookup table later (used in vectorize_sentences())\n",
    "    tf.gfile.MkDir(output_dir) # directory must exist before we can use tf.gfile.open\n",
    "    global VOCAB_FILE_PATH; VOCAB_FILE_PATH = os.path.join(output_dir,'vocab.txt')\n",
    "    with tf.gfile.Open(VOCAB_FILE_PATH, 'wb') as f:\n",
    "        f.write(\"{},0\\n\".format(PADWORD))# map padword to 0\n",
    "        for word, index in tokenizer.word_index.items():\n",
    "            if index < TOP_K: # only save mappings for TOP_K words\n",
    "                f.write(\"{},{}\\n\".format(word, index))\n",
    "\n",
    "    # Create estimator\n",
    "    run_config = tf.estimator.RunConfig(save_checkpoints_steps=100,\n",
    "                                       save_summary_steps=100)\n",
    "    \n",
    "    \n",
    "    \n",
    "    if hparams['model_type']=='CNN':\n",
    "        estimator = keras_CNN_estimator(\n",
    "            model_dir=output_dir,\n",
    "            config=run_config,\n",
    "            learning_rate=hparams['learning_rate'],\n",
    "            filters = hparams['filters'],\n",
    "            dropout_rate = hparams['dropout_rate'],\n",
    "            embedding_dim = hparams['embedding_dim'],\n",
    "            kernel_size = hparams['kernel_size'],\n",
    "            pool_size = hparams['pool_size'],\n",
    "            embedding_path=hparams['embedding_path'],\n",
    "            word_index=tokenizer.word_index\n",
    "        )\n",
    "    elif hparams['model_type']=='LSTM':\n",
    "            estimator = keras_LSTM_estimator(\n",
    "                model_dir=output_dir,\n",
    "                config=run_config,\n",
    "                learning_rate=hparams['learning_rate'],\n",
    "                dropout_rate = hparams['dropout_rate'],\n",
    "                embedding_dim = hparams['embedding_dim'],\n",
    "                embedding_path=hparams['embedding_path'],\n",
    "                word_index=tokenizer.word_index\n",
    "        )\n",
    "    elif hparams['model_type']=='BiDirect':\n",
    "            estimator = keras_BiDirect_estimator(\n",
    "                model_dir=output_dir,\n",
    "                config=run_config,\n",
    "                learning_rate=hparams['learning_rate'],\n",
    "                dropout_rate = hparams['dropout_rate'],\n",
    "                embedding_dim = hparams['embedding_dim'],\n",
    "                embedding_path=hparams['embedding_path'],\n",
    "                word_index=tokenizer.word_index\n",
    "        )        \n",
    "\n",
    "    ### Add evaluating metric\n",
    "    #estimator = tf.contrib.estimator.add_metrics(estimator, my_acc)\n",
    "\n",
    "    ### Add early stopping\n",
    "    early_stopping = tf.estimator.experimental.stop_if_no_decrease_hook(\n",
    "        estimator,\n",
    "        metric_name='loss',\n",
    "        max_steps_without_decrease=1000,\n",
    "        min_steps=100)\n",
    "    \n",
    "    \n",
    "    # Create TrainSpec\n",
    "    train_steps = hparams['num_epochs'] * len(train_texts) / hparams['batch_size']\n",
    "    train_spec = tf.estimator.TrainSpec(\n",
    "        input_fn=lambda:input_fn(\n",
    "            train_texts,\n",
    "            train_labels,\n",
    "            hparams['batch_size'],\n",
    "            mode=tf.estimator.ModeKeys.TRAIN),\n",
    "        hooks=[early_stopping],\n",
    "        max_steps=train_steps\n",
    "    )\n",
    "\n",
    "    # Create EvalSpec\n",
    "    exporter = tf.estimator.LatestExporter('exporter', serving_input_fn)\n",
    "    eval_spec = tf.estimator.EvalSpec(\n",
    "        input_fn=lambda:input_fn(\n",
    "            test_texts,\n",
    "            test_labels,\n",
    "            hparams['batch_size'],\n",
    "            mode=tf.estimator.ModeKeys.EVAL),\n",
    "        steps=None,\n",
    "        exporters=exporter,\n",
    "        start_delay_secs=10,\n",
    "        throttle_secs=10\n",
    "    )\n",
    "    \n",
    "    # Start training\n",
    "    tf.estimator.train_and_evaluate(estimator, train_spec, eval_spec)\n",
    "    \n",
    "    "
   ]
  },
  {
   "cell_type": "code",
   "execution_count": 1120,
   "metadata": {},
   "outputs": [
    {
     "name": "stdout",
     "output_type": "stream",
     "text": [
      "Overwriting Petfood_reviews/trainer/task.py\n"
     ]
    }
   ],
   "source": [
    "%%writefile Petfood_reviews/trainer/task.py\n",
    "\n",
    "from __future__ import absolute_import\n",
    "from __future__ import division\n",
    "from __future__ import print_function\n",
    "\n",
    "import argparse\n",
    "from . import model\n",
    "\n",
    "if __name__ == '__main__':\n",
    "    # parse command line arguments\n",
    "    parser = argparse.ArgumentParser()\n",
    "    parser.add_argument(\n",
    "        '--output_dir',\n",
    "        help='GCS location to write checkpoints and export models',\n",
    "        required=True\n",
    "    )\n",
    "    parser.add_argument(\n",
    "        '--train_data_path',\n",
    "        help='can be a local path or a GCS url (gs://...)',\n",
    "        required=True\n",
    "    )\n",
    "    parser.add_argument(\n",
    "        '--eval_data_path',\n",
    "        help='can be a local path or a GCS url (gs://...)',\n",
    "        required=True\n",
    "    )\n",
    "    parser.add_argument(\n",
    "        '--model_type',\n",
    "        help='any of the available models: CNN, LSTM, and BiDirect',\n",
    "        choices=['CNN', 'LSTM', 'BiDirect'],\n",
    "        required=True\n",
    "    )\n",
    "    parser.add_argument(\n",
    "        '--embedding_path',\n",
    "        help='OPTIONAL: can be a local path or a GCS url (gs://...). \\\n",
    "              Download from: https://nlp.stanford.edu/projects/glove/',\n",
    "    )\n",
    "    parser.add_argument(\n",
    "        '--num_epochs',\n",
    "        help='number of times to go through the data, default=10',\n",
    "        default=10,\n",
    "        type=float\n",
    "    )\n",
    "    parser.add_argument(\n",
    "        '--batch_size',\n",
    "        help='number of records to read during each training step, default=128',\n",
    "        default=128,\n",
    "        type=int\n",
    "    )\n",
    "    parser.add_argument(\n",
    "        '--learning_rate',\n",
    "        help='learning rate for gradient descent, default=.001',\n",
    "        default=.001,\n",
    "        type=float\n",
    "    )\n",
    "    parser.add_argument(\n",
    "        '--filters',\n",
    "        help='number of output dimension of the CNN layers, default=64',\n",
    "        default=64,\n",
    "        type=int\n",
    "    )\n",
    "    parser.add_argument(\n",
    "        '--dropout_rate',\n",
    "        help='percentage of input to drop at Dropout layers, default=.2',\n",
    "        default=.2,\n",
    "        type=float\n",
    "    )   \n",
    "    parser.add_argument(\n",
    "        '--embedding_dim',\n",
    "        help='dimension of the embedding vectors, default=200',\n",
    "        default=200,\n",
    "        type=int\n",
    "    )           \n",
    "    parser.add_argument(\n",
    "        '--kernel_size',\n",
    "        help='length of the convolution window, default=3',\n",
    "        default=3,\n",
    "        type=int\n",
    "    )                              \n",
    "    parser.add_argument(\n",
    "        '--pool_size',\n",
    "        help='factor by which to downscale input at MaxPooling layer, default=3',\n",
    "        default=3,\n",
    "        type=int\n",
    "    )                     \n",
    "  \n",
    "    \n",
    "    args, _ = parser.parse_known_args()\n",
    "    hparams = args.__dict__\n",
    "    output_dir = hparams.pop('output_dir')\n",
    "    \n",
    "    model.train_and_evaluate(output_dir, hparams)"
   ]
  },
  {
   "cell_type": "code",
   "execution_count": 53,
   "metadata": {},
   "outputs": [
    {
     "name": "stdout",
     "output_type": "stream",
     "text": [
      "Writing Petfood_reviews/trainer/__init__.py\n"
     ]
    }
   ],
   "source": [
    "%%writefile Petfood_reviews/trainer/__init__.py\n",
    "\n",
    "### init file ###"
   ]
  },
  {
   "cell_type": "markdown",
   "metadata": {},
   "source": [
    "# TEST RUN\n",
    "\n",
    "Let's run our model locally just to check if it's working fine before submitting it to the cloud."
   ]
  },
  {
   "cell_type": "code",
   "execution_count": 1267,
   "metadata": {},
   "outputs": [
    {
     "name": "stdout",
     "output_type": "stream",
     "text": [
      "Requirement already satisfied: google-cloud-storage in /usr/local/lib/python3.5/dist-packages (1.25.0)\n",
      "Requirement already satisfied: google-auth<2.0dev,>=1.9.0 in /usr/local/lib/python3.5/dist-packages (from google-cloud-storage) (1.11.0)\n",
      "Requirement already satisfied: google-resumable-media<0.6dev,>=0.5.0 in /usr/local/lib/python3.5/dist-packages (from google-cloud-storage) (0.5.0)\n",
      "Requirement already satisfied: google-cloud-core<2.0dev,>=1.2.0 in /usr/local/lib/python3.5/dist-packages (from google-cloud-storage) (1.2.0)\n",
      "Requirement already satisfied: setuptools>=40.3.0 in /usr/local/lib/python3.5/dist-packages (from google-auth<2.0dev,>=1.9.0->google-cloud-storage) (45.1.0)\n",
      "Requirement already satisfied: six>=1.9.0 in /usr/local/lib/python3.5/dist-packages (from google-auth<2.0dev,>=1.9.0->google-cloud-storage) (1.14.0)\n",
      "Requirement already satisfied: cachetools<5.0,>=2.0.0 in /usr/local/lib/python3.5/dist-packages (from google-auth<2.0dev,>=1.9.0->google-cloud-storage) (4.0.0)\n",
      "Requirement already satisfied: rsa<4.1,>=3.1.4 in /usr/local/lib/python3.5/dist-packages (from google-auth<2.0dev,>=1.9.0->google-cloud-storage) (4.0)\n",
      "Requirement already satisfied: pyasn1-modules>=0.2.1 in /usr/local/lib/python3.5/dist-packages (from google-auth<2.0dev,>=1.9.0->google-cloud-storage) (0.2.8)\n",
      "Requirement already satisfied: google-api-core<2.0.0dev,>=1.16.0 in /usr/local/lib/python3.5/dist-packages (from google-cloud-core<2.0dev,>=1.2.0->google-cloud-storage) (1.16.0)\n",
      "Requirement already satisfied: pyasn1>=0.1.3 in /usr/local/lib/python3.5/dist-packages (from rsa<4.1,>=3.1.4->google-auth<2.0dev,>=1.9.0->google-cloud-storage) (0.4.8)\n",
      "Requirement already satisfied: protobuf>=3.4.0 in /usr/local/lib/python3.5/dist-packages (from google-api-core<2.0.0dev,>=1.16.0->google-cloud-core<2.0dev,>=1.2.0->google-cloud-storage) (3.11.2)\n",
      "Requirement already satisfied: googleapis-common-protos<2.0dev,>=1.6.0 in /usr/local/lib/python3.5/dist-packages (from google-api-core<2.0.0dev,>=1.16.0->google-cloud-core<2.0dev,>=1.2.0->google-cloud-storage) (1.51.0)\n",
      "Requirement already satisfied: requests<3.0.0dev,>=2.18.0 in /usr/local/lib/python3.5/dist-packages (from google-api-core<2.0.0dev,>=1.16.0->google-cloud-core<2.0dev,>=1.2.0->google-cloud-storage) (2.22.0)\n",
      "Requirement already satisfied: pytz in /usr/local/lib/python3.5/dist-packages (from google-api-core<2.0.0dev,>=1.16.0->google-cloud-core<2.0dev,>=1.2.0->google-cloud-storage) (2019.3)\n",
      "Requirement already satisfied: urllib3!=1.25.0,!=1.25.1,<1.26,>=1.21.1 in /usr/local/lib/python3.5/dist-packages (from requests<3.0.0dev,>=2.18.0->google-api-core<2.0.0dev,>=1.16.0->google-cloud-core<2.0dev,>=1.2.0->google-cloud-storage) (1.24.2)\n",
      "Requirement already satisfied: idna<2.9,>=2.5 in /usr/local/lib/python3.5/dist-packages (from requests<3.0.0dev,>=2.18.0->google-api-core<2.0.0dev,>=1.16.0->google-cloud-core<2.0dev,>=1.2.0->google-cloud-storage) (2.8)\n",
      "Requirement already satisfied: certifi>=2017.4.17 in /usr/local/lib/python3.5/dist-packages (from requests<3.0.0dev,>=2.18.0->google-api-core<2.0.0dev,>=1.16.0->google-cloud-core<2.0dev,>=1.2.0->google-cloud-storage) (2019.11.28)\n",
      "Requirement already satisfied: chardet<3.1.0,>=3.0.2 in /usr/local/lib/python3.5/dist-packages (from requests<3.0.0dev,>=2.18.0->google-api-core<2.0.0dev,>=1.16.0->google-cloud-core<2.0dev,>=1.2.0->google-cloud-storage) (3.0.4)\n"
     ]
    },
    {
     "name": "stderr",
     "output_type": "stream",
     "text": [
      "WARNING:tensorflow:From trainer/model.py:29: The name tf.logging.set_verbosity is deprecated. Please use tf.compat.v1.logging.set_verbosity instead.\n",
      "\n",
      "WARNING:tensorflow:From trainer/model.py:29: The name tf.logging.INFO is deprecated. Please use tf.compat.v1.logging.INFO instead.\n",
      "\n",
      "WARNING:tensorflow:From trainer/model.py:437: The name tf.summary.FileWriterCache is deprecated. Please use tf.compat.v1.summary.FileWriterCache instead.\n",
      "\n",
      "WARNING:tensorflow:From trainer/model.py:449: The name tf.gfile.MkDir is deprecated. Please use tf.io.gfile.mkdir instead.\n",
      "\n",
      "WARNING:tensorflow:From trainer/model.py:451: The name tf.gfile.Open is deprecated. Please use tf.io.gfile.GFile instead.\n",
      "\n",
      "INFO:tensorflow:TF_CONFIG environment variable: {u'environment': u'cloud', u'cluster': {}, u'job': {u'args': [u'--output_dir=/home/jupyter/review_trained', u'--train_data_path=/home/jupyter/data/train.tsv', u'--eval_data_path=/home/jupyter/data/eval.tsv', u'--model_type=LSTM', u'--num_epochs=0.1'], u'job_name': u'trainer.task'}, u'task': {}}\n",
      "WARNING:tensorflow:From /usr/local/lib/python2.7/dist-packages/tensorflow_core/python/keras/initializers.py:119: calling __init__ (from tensorflow.python.ops.init_ops) with dtype is deprecated and will be removed in a future version.\n",
      "Instructions for updating:\n",
      "Call initializer instance with the dtype argument instead of passing it to the constructor\n",
      "WARNING:tensorflow:From /usr/local/lib/python2.7/dist-packages/tensorflow_core/python/ops/resource_variable_ops.py:1630: calling __init__ (from tensorflow.python.ops.resource_variable_ops) with constraint is deprecated and will be removed in a future version.\n",
      "Instructions for updating:\n",
      "If using Keras pass *_constraint arguments to layers.\n",
      "INFO:tensorflow:Using the Keras model provided.\n",
      "2020-02-10 00:26:18.660690: I tensorflow/core/platform/profile_utils/cpu_utils.cc:94] CPU Frequency: 2200000000 Hz\n",
      "2020-02-10 00:26:18.661373: I tensorflow/compiler/xla/service/service.cc:168] XLA service 0x5568175b5e20 initialized for platform Host (this does not guarantee that XLA will be used). Devices:\n",
      "2020-02-10 00:26:18.661413: I tensorflow/compiler/xla/service/service.cc:176]   StreamExecutor device (0): Host, Default Version\n",
      "2020-02-10 00:26:18.661596: I tensorflow/core/common_runtime/process_util.cc:136] Creating new thread pool with default inter op setting: 2. Tune using inter_op_parallelism_threads for best performance.\n",
      "WARNING:tensorflow:From /usr/local/lib/python2.7/dist-packages/tensorflow_core/python/ops/init_ops.py:97: calling __init__ (from tensorflow.python.ops.init_ops) with dtype is deprecated and will be removed in a future version.\n",
      "Instructions for updating:\n",
      "Call initializer instance with the dtype argument instead of passing it to the constructor\n",
      "WARNING:tensorflow:From /usr/local/lib/python2.7/dist-packages/tensorflow_core/python/ops/init_ops.py:97: calling __init__ (from tensorflow.python.ops.init_ops) with dtype is deprecated and will be removed in a future version.\n",
      "Instructions for updating:\n",
      "Call initializer instance with the dtype argument instead of passing it to the constructor\n",
      "WARNING:tensorflow:From /usr/local/lib/python2.7/dist-packages/tensorflow_core/python/ops/init_ops.py:97: calling __init__ (from tensorflow.python.ops.init_ops) with dtype is deprecated and will be removed in a future version.\n",
      "Instructions for updating:\n",
      "Call initializer instance with the dtype argument instead of passing it to the constructor\n",
      "WARNING:tensorflow:From /usr/local/lib/python2.7/dist-packages/tensorflow_core/python/ops/math_grad.py:1424: where (from tensorflow.python.ops.array_ops) is deprecated and will be removed in a future version.\n",
      "Instructions for updating:\n",
      "Use tf.where in 2.0, which has the same broadcast rule as np.where\n",
      "INFO:tensorflow:Using config: {'_save_checkpoints_secs': None, '_num_ps_replicas': 0, '_keep_checkpoint_max': 5, '_task_type': 'worker', '_global_id_in_cluster': 0, '_is_chief': True, '_cluster_spec': <tensorflow.python.training.server_lib.ClusterSpec object at 0x7f67cfdb4490>, '_model_dir': '/home/jupyter/review_trained', '_protocol': None, '_save_checkpoints_steps': 100, '_keep_checkpoint_every_n_hours': 10000, '_service': None, '_session_config': allow_soft_placement: true\n",
      "graph_options {\n",
      "  rewrite_options {\n",
      "    meta_optimizer_iterations: ONE\n",
      "  }\n",
      "}\n",
      ", '_tf_random_seed': None, '_save_summary_steps': 100, '_device_fn': None, '_session_creation_timeout_secs': 7200, '_experimental_distribute': None, '_num_worker_replicas': 1, '_task_id': 0, '_log_step_count_steps': 100, '_experimental_max_worker_delay_secs': None, '_evaluation_master': '', '_eval_distribute': None, '_train_distribute': None, '_master': ''}\n",
      "INFO:tensorflow:Not using Distribute Coordinator.\n",
      "INFO:tensorflow:Running training and evaluation locally (non-distributed).\n",
      "INFO:tensorflow:Start train and evaluate loop. The evaluate will happen after every checkpoint. Checkpoint frequency is determined based on RunConfig arguments: save_checkpoints_steps 100 or save_checkpoints_secs None.\n",
      "WARNING:tensorflow:From /usr/local/lib/python2.7/dist-packages/tensorflow_core/python/training/training_util.py:236: initialized_value (from tensorflow.python.ops.variables) is deprecated and will be removed in a future version.\n",
      "Instructions for updating:\n",
      "Use Variable.read_value. Variables in 2.X are initialized automatically both in eager and graph (inside tf.defun) contexts.\n",
      "WARNING:tensorflow:From trainer/model.py:141: The name tf.regex_replace is deprecated. Please use tf.strings.regex_replace instead.\n",
      "\n",
      "WARNING:tensorflow:From trainer/model.py:145: The name tf.sparse_tensor_to_dense is deprecated. Please use tf.sparse.to_dense instead.\n",
      "\n",
      "WARNING:tensorflow:\n",
      "The TensorFlow contrib module will not be included in TensorFlow 2.0.\n",
      "For more information, please see:\n",
      "  * https://github.com/tensorflow/community/blob/master/rfcs/20180907-contrib-sunset.md\n",
      "  * https://github.com/tensorflow/addons\n",
      "  * https://github.com/tensorflow/io (for I/O related ops)\n",
      "If you depend on functionality not listed there, please file an issue.\n",
      "\n",
      "WARNING:tensorflow:From /usr/local/lib/python2.7/dist-packages/tensorflow_estimator/python/estimator/api/_v1/estimator/__init__.py:12: The name tf.estimator.inputs is deprecated. Please use tf.compat.v1.estimator.inputs instead.\n",
      "\n",
      "INFO:tensorflow:Calling model_fn.\n",
      "INFO:tensorflow:Done calling model_fn.\n",
      "INFO:tensorflow:Warm-starting with WarmStartSettings: WarmStartSettings(ckpt_to_initialize_from='/home/jupyter/review_trained/keras/keras_model.ckpt', vars_to_warm_start='.*', var_name_to_vocab_info={}, var_name_to_prev_var_name={})\n",
      "INFO:tensorflow:Warm-starting from: /home/jupyter/review_trained/keras/keras_model.ckpt\n",
      "INFO:tensorflow:Warm-starting variables only in TRAINABLE_VARIABLES.\n",
      "INFO:tensorflow:Warm-started 9 variables.\n",
      "INFO:tensorflow:Create CheckpointSaverHook.\n",
      "INFO:tensorflow:Graph was finalized.\n",
      "INFO:tensorflow:Running local_init_op.\n",
      "INFO:tensorflow:Done running local_init_op.\n",
      "INFO:tensorflow:Saving checkpoints for 0 into /home/jupyter/review_trained/model.ckpt.\n",
      "INFO:tensorflow:loss = 1.4669254, step = 1\n",
      "INFO:tensorflow:Saving checkpoints for 13 into /home/jupyter/review_trained/model.ckpt.\n",
      "INFO:tensorflow:Calling model_fn.\n",
      "INFO:tensorflow:Done calling model_fn.\n",
      "INFO:tensorflow:Starting evaluation at 2020-02-10T00:28:10Z\n",
      "INFO:tensorflow:Graph was finalized.\n",
      "INFO:tensorflow:Restoring parameters from /home/jupyter/review_trained/model.ckpt-13\n",
      "INFO:tensorflow:Running local_init_op.\n",
      "INFO:tensorflow:Done running local_init_op.\n",
      "INFO:tensorflow:Finished evaluation at 2020-02-10-00:28:50\n",
      "INFO:tensorflow:Saving dict for global step 13: global_step = 13, loss = 1.3735085, sparse_categorical_accuracy = 0.43551716\n",
      "INFO:tensorflow:Saving 'checkpoint_path' summary for global step 13: /home/jupyter/review_trained/model.ckpt-13\n",
      "WARNING:tensorflow:From trainer/model.py:373: The name tf.placeholder is deprecated. Please use tf.compat.v1.placeholder instead.\n",
      "\n",
      "INFO:tensorflow:Calling model_fn.\n",
      "INFO:tensorflow:Done calling model_fn.\n",
      "WARNING:tensorflow:From /usr/local/lib/python2.7/dist-packages/tensorflow_core/python/saved_model/signature_def_utils_impl.py:201: build_tensor_info (from tensorflow.python.saved_model.utils_impl) is deprecated and will be removed in a future version.\n",
      "Instructions for updating:\n",
      "This function will only be available through the v1 compatibility library as tf.compat.v1.saved_model.utils.build_tensor_info or tf.compat.v1.saved_model.build_tensor_info.\n",
      "INFO:tensorflow:Signatures INCLUDED in export for Eval: None\n",
      "INFO:tensorflow:Signatures INCLUDED in export for Classify: None\n",
      "INFO:tensorflow:Signatures INCLUDED in export for Regress: None\n",
      "INFO:tensorflow:Signatures INCLUDED in export for Predict: ['serving_default']\n",
      "INFO:tensorflow:Signatures INCLUDED in export for Train: None\n",
      "INFO:tensorflow:Restoring parameters from /home/jupyter/review_trained/model.ckpt-13\n",
      "INFO:tensorflow:Assets added to graph.\n",
      "INFO:tensorflow:Assets written to: /home/jupyter/review_trained/export/exporter/temp-1581294530/assets\n",
      "INFO:tensorflow:SavedModel written to: /home/jupyter/review_trained/export/exporter/temp-1581294530/saved_model.pb\n",
      "INFO:tensorflow:Loss for final step: 1.3752484.\n"
     ]
    }
   ],
   "source": [
    "%%bash\n",
    "pip install google-cloud-storage --user\n",
    "rm -rf review_trained\n",
    "gcloud ai-platform local train \\\n",
    "   --module-name=trainer.task \\\n",
    "   --package-path=${PWD}/Petfood_reviews/trainer \\\n",
    "   -- \\\n",
    "   --output_dir=${PWD}/review_trained \\\n",
    "   --train_data_path=${PWD}/data/train.tsv \\\n",
    "   --eval_data_path=${PWD}/data/eval.tsv \\\n",
    "   --model_type='LSTM'\\\n",
    "   --num_epochs=0.1"
   ]
  },
  {
   "cell_type": "markdown",
   "metadata": {},
   "source": [
    "# Train on Cloud"
   ]
  },
  {
   "cell_type": "markdown",
   "metadata": {},
   "source": [
    "### CNN Model\n",
    "Skip to see the [result](#cnn)."
   ]
  },
  {
   "cell_type": "code",
   "execution_count": 1138,
   "metadata": {},
   "outputs": [
    {
     "name": "stdout",
     "output_type": "stream",
     "text": [
      "gs://petfood_review/insight_project_cnn/trained_model us-central1 reviews_200209_021833\n",
      "jobId: reviews_200209_021833\n",
      "state: QUEUED\n"
     ]
    },
    {
     "name": "stderr",
     "output_type": "stream",
     "text": [
      "Removing gs://petfood_review/insight_project_cnn/trained_model/checkpoint#1581214107887325...\n",
      "Removing gs://petfood_review/insight_project_cnn/trained_model/eval/#1581213862702572...\n",
      "Removing gs://petfood_review/insight_project_cnn/trained_model/eval/events.out.tfevents.1581213862.cmle-training-4022713395243452220#1581214113488585...\n",
      "Removing gs://petfood_review/insight_project_cnn/trained_model/events.out.tfevents.1581213828.cmle-training-4022713395243452220#1581214122566247...\n",
      "Removing gs://petfood_review/insight_project_cnn/trained_model/export/exporter/#1581213865267654...\n",
      "Removing gs://petfood_review/insight_project_cnn/trained_model/export/#1581213864994264...\n",
      "Removing gs://petfood_review/insight_project_cnn/trained_model/export/exporter/1581214030/#1581214036933418...\n",
      "Removing gs://petfood_review/insight_project_cnn/trained_model/export/exporter/1581214030/assets/#1581214037171297...\n",
      "Removing gs://petfood_review/insight_project_cnn/trained_model/export/exporter/1581214030/assets/vocab.txt#1581214037423428...\n",
      "Removing gs://petfood_review/insight_project_cnn/trained_model/export/exporter/1581214030/saved_model.pb#1581214037657455...\n",
      "Removing gs://petfood_review/insight_project_cnn/trained_model/export/exporter/1581214052/assets/vocab.txt#1581214058643876...\n",
      "Removing gs://petfood_review/insight_project_cnn/trained_model/export/exporter/1581214030/variables/#1581214037902055...\n",
      "Removing gs://petfood_review/insight_project_cnn/trained_model/export/exporter/1581214030/variables/variables.index#1581214038471442...\n",
      "Removing gs://petfood_review/insight_project_cnn/trained_model/export/exporter/1581214030/variables/variables.data-00000-of-00001#1581214038176316...\n",
      "Removing gs://petfood_review/insight_project_cnn/trained_model/export/exporter/1581214052/assets/#1581214058414931...\n",
      "Removing gs://petfood_review/insight_project_cnn/trained_model/export/exporter/1581214052/saved_model.pb#1581214058885384...\n",
      "Removing gs://petfood_review/insight_project_cnn/trained_model/export/exporter/1581214052/variables/#1581214059112824...\n",
      "Removing gs://petfood_review/insight_project_cnn/trained_model/export/exporter/1581214052/#1581214058104519...\n",
      "Removing gs://petfood_review/insight_project_cnn/trained_model/export/exporter/1581214052/variables/variables.index#1581214059617358...\n",
      "Removing gs://petfood_review/insight_project_cnn/trained_model/export/exporter/1581214052/variables/variables.data-00000-of-00001#1581214059376079...\n",
      "Removing gs://petfood_review/insight_project_cnn/trained_model/export/exporter/1581214073/#1581214078855645...\n",
      "Removing gs://petfood_review/insight_project_cnn/trained_model/export/exporter/1581214073/assets/#1581214079083255...\n",
      "Removing gs://petfood_review/insight_project_cnn/trained_model/export/exporter/1581214073/assets/vocab.txt#1581214079315320...\n",
      "Removing gs://petfood_review/insight_project_cnn/trained_model/export/exporter/1581214073/saved_model.pb#1581214079549534...\n",
      "Removing gs://petfood_review/insight_project_cnn/trained_model/export/exporter/1581214073/variables/#1581214079828185...\n",
      "Removing gs://petfood_review/insight_project_cnn/trained_model/export/exporter/1581214073/variables/variables.data-00000-of-00001#1581214080068862...\n",
      "Removing gs://petfood_review/insight_project_cnn/trained_model/export/exporter/1581214073/variables/variables.index#1581214080350903...\n",
      "Removing gs://petfood_review/insight_project_cnn/trained_model/export/exporter/1581214095/#1581214101022045...\n",
      "Removing gs://petfood_review/insight_project_cnn/trained_model/export/exporter/1581214095/assets/#1581214101260574...\n",
      "Removing gs://petfood_review/insight_project_cnn/trained_model/export/exporter/1581214095/assets/vocab.txt#1581214101520707...\n",
      "Removing gs://petfood_review/insight_project_cnn/trained_model/export/exporter/1581214095/saved_model.pb#1581214101761163...\n",
      "Removing gs://petfood_review/insight_project_cnn/trained_model/export/exporter/1581214095/variables/#1581214101998950...\n",
      "Removing gs://petfood_review/insight_project_cnn/trained_model/export/exporter/1581214095/variables/variables.data-00000-of-00001#1581214102242104...\n",
      "Removing gs://petfood_review/insight_project_cnn/trained_model/export/exporter/1581214095/variables/variables.index#1581214102493767...\n",
      "Removing gs://petfood_review/insight_project_cnn/trained_model/export/exporter/1581214113/#1581214119213619...\n",
      "Removing gs://petfood_review/insight_project_cnn/trained_model/export/exporter/1581214113/assets/#1581214119450604...\n",
      "Removing gs://petfood_review/insight_project_cnn/trained_model/export/exporter/1581214113/assets/vocab.txt#1581214119683908...\n",
      "Removing gs://petfood_review/insight_project_cnn/trained_model/export/exporter/1581214113/saved_model.pb#1581214119918287...\n",
      "Removing gs://petfood_review/insight_project_cnn/trained_model/export/exporter/1581214113/variables/#1581214120149345...\n",
      "Removing gs://petfood_review/insight_project_cnn/trained_model/export/exporter/1581214113/variables/variables.data-00000-of-00001#1581214120394028...\n",
      "Removing gs://petfood_review/insight_project_cnn/trained_model/export/exporter/1581214113/variables/variables.index#1581214120643587...\n",
      "Removing gs://petfood_review/insight_project_cnn/trained_model/graph.pbtxt#1581213834380049...\n",
      "Removing gs://petfood_review/insight_project_cnn/trained_model/keras/#1581213816527330...\n",
      "Removing gs://petfood_review/insight_project_cnn/trained_model/keras/checkpoint#1581213819456342...\n",
      "Removing gs://petfood_review/insight_project_cnn/trained_model/keras/keras_model.ckpt.data-00000-of-00001#1581213818274812...\n",
      "Removing gs://petfood_review/insight_project_cnn/trained_model/keras/keras_model.ckpt.index#1581213818896000...\n",
      "Removing gs://petfood_review/insight_project_cnn/trained_model/keras/keras_model.ckpt.meta#1581213820082112...\n",
      "Removing gs://petfood_review/insight_project_cnn/trained_model/model.ckpt-1000.data-00000-of-00001#1581214045184747...\n",
      "Removing gs://petfood_review/insight_project_cnn/trained_model/model.ckpt-1000.index#1581214045606079...\n",
      "Removing gs://petfood_review/insight_project_cnn/trained_model/model.ckpt-1000.meta#1581214047710838...\n",
      "Removing gs://petfood_review/insight_project_cnn/trained_model/model.ckpt-1100.data-00000-of-00001#1581214066205887...\n",
      "Removing gs://petfood_review/insight_project_cnn/trained_model/model.ckpt-1100.index#1581214066583837...\n",
      "Removing gs://petfood_review/insight_project_cnn/trained_model/model.ckpt-1100.meta#1581214068602391...\n",
      "Removing gs://petfood_review/insight_project_cnn/trained_model/model.ckpt-1200.data-00000-of-00001#1581214088034139...\n",
      "Removing gs://petfood_review/insight_project_cnn/trained_model/model.ckpt-1200.index#1581214088355250...\n",
      "Removing gs://petfood_review/insight_project_cnn/trained_model/model.ckpt-1200.meta#1581214090487725...\n",
      "Removing gs://petfood_review/insight_project_cnn/trained_model/model.ckpt-1211.data-00000-of-00001#1581214106745284...\n",
      "Removing gs://petfood_review/insight_project_cnn/trained_model/model.ckpt-1211.index#1581214107129469...\n",
      "Removing gs://petfood_review/insight_project_cnn/trained_model/model.ckpt-1211.meta#1581214109272761...\n",
      "Removing gs://petfood_review/insight_project_cnn/trained_model/model.ckpt-900.data-00000-of-00001#1581214023689481...\n",
      "Removing gs://petfood_review/insight_project_cnn/trained_model/model.ckpt-900.meta#1581214026122117...\n",
      "Removing gs://petfood_review/insight_project_cnn/trained_model/packages/128640328fe2b955717c1be8de083e26ea1ef57043058b9d6eef06e803218133/trainer-0.0.0.tar.gz#1581213667574803...\n",
      "Removing gs://petfood_review/insight_project_cnn/trained_model/model.ckpt-900.index#1581214024062973...\n",
      "Removing gs://petfood_review/insight_project_cnn/trained_model/vocab.txt#1581213785889464...\n",
      "/ [64/64 objects] 100% Done                                                     \n",
      "Operation completed over 64 objects.                                             \n",
      "DEBUG: Running [gcloud.ai-platform.jobs.submit.training] with arguments: [--job-dir: \"<googlecloudsdk.api_lib.storage.storage_util.ObjectReference object at 0x7fac00c14e10>\", --module-name: \"trainer.task\", --package-path: \"/home/jupyter/Petfood_reviews/trainer\", --region: \"us-central1\", --runtime-version: \"1.15\", --scale-tier: \"basic-gpu\", --verbosity: \"debug\", JOB: \"reviews_200209_021833\"]\n",
      "DEBUG: Looking for setup.py file at [/home/jupyter/Petfood_reviews/setup.py]\n",
      "INFO: Generating temporary setup.py file:\n",
      "from setuptools import setup\n",
      "\n",
      "if __name__ == '__main__':\n",
      "    setup(name='trainer', packages=['trainer'])\n",
      "\n",
      "DEBUG: Executing command: ['/usr/bin/python2', u'-S', u'/home/jupyter/Petfood_reviews/setup.py', u'egg_info', u'--egg-base', '/tmp/tmpUEkS5K', u'build', u'--build-base', '/tmp/tmpUEkS5K', u'--build-temp', '/tmp/tmpUEkS5K', u'sdist', u'--dist-dir', u'/tmp/tmp6GK9nZ/output']\n",
      "DEBUG: Executing command: ['/usr/bin/python2', u'/home/jupyter/Petfood_reviews/setup.py', u'egg_info', u'--egg-base', '/tmp/tmpUEkS5K', u'build', u'--build-base', '/tmp/tmpUEkS5K', u'--build-temp', '/tmp/tmpUEkS5K', u'sdist', u'--dist-dir', u'/tmp/tmp6GK9nZ/output']\n",
      "DEBUG: Python packaging resulted in [/tmp/tmp6GK9nZ/output/trainer-0.0.0.tar.gz]\n",
      "DEBUG: Couldn't remove file [/home/jupyter/Petfood_reviews/setup.pyc] (it may never have been created).\n",
      "INFO: Uploading [/tmp/tmp6GK9nZ/output/trainer-0.0.0.tar.gz] to [petfood_review/insight_project_cnn/trained_model/packages/9ac15b4d4a58262c6d1b81af5f435041a34b4474e848bb01247d400dbd6ceb30/trainer-0.0.0.tar.gz]\n",
      "DEBUG: Using [u'gs://petfood_review/insight_project_cnn/trained_model/packages/9ac15b4d4a58262c6d1b81af5f435041a34b4474e848bb01247d400dbd6ceb30/trainer-0.0.0.tar.gz'] as trainer uris\n",
      "Job [reviews_200209_021833] submitted successfully.\n",
      "Your job is still active. You may view the status of your job with the command\n",
      "\n",
      "  $ gcloud ai-platform jobs describe reviews_200209_021833\n",
      "\n",
      "or continue streaming the logs with the command\n",
      "\n",
      "  $ gcloud ai-platform jobs stream-logs reviews_200209_021833\n",
      "INFO: Display format: \"yaml(jobId,state,startTime.date(tz=LOCAL),endTime.date(tz=LOCAL))\"\n",
      "DEBUG: SDK update checks are disabled.\n"
     ]
    }
   ],
   "source": [
    "%%bash\n",
    "OUTDIR=gs://${BUCKET}/insight_project_cnn/trained_model\n",
    "JOBNAME=reviews_$(date -u +%y%m%d_%H%M%S)\n",
    "echo $OUTDIR $REGION $JOBNAME\n",
    "gsutil -m rm -rf $OUTDIR\n",
    "gcloud --verbosity=debug ai-platform jobs submit training $JOBNAME \\\n",
    " --region=$REGION \\\n",
    " --module-name=trainer.task \\\n",
    " --package-path=${PWD}/Petfood_reviews/trainer \\\n",
    " --job-dir=$OUTDIR \\\n",
    " --scale-tier=BASIC_GPU \\\n",
    " --runtime-version=1.15 \\\n",
    " --\\\n",
    " --output_dir=$OUTDIR \\\n",
    " --train_data_path=gs://${BUCKET}/train.tsv \\\n",
    " --eval_data_path=gs://${BUCKET}/eval.tsv \\\n",
    " --embedding_path=gs://${BUCKET}/glove.6B.200d.txt \\\n",
    " --model_type='CNN'\\\n",
    " --num_epochs=20"
   ]
  },
  {
   "cell_type": "code",
   "execution_count": 1140,
   "metadata": {},
   "outputs": [],
   "source": [
    "%%bash\n",
    "#gcloud ai-platform jobs stream-logs reviews_200209_021833"
   ]
  },
  {
   "cell_type": "markdown",
   "metadata": {},
   "source": [
    "<a id='cnn'></a>"
   ]
  },
  {
   "cell_type": "markdown",
   "metadata": {},
   "source": [
    "**global step 2422: global_step = 2422, loss = 0.6730147, sparse_categorical_accuracy = 0.9110193**\n",
    "\n",
    "**training time**= 15 minutes"
   ]
  },
  {
   "cell_type": "markdown",
   "metadata": {},
   "source": [
    "# LSTM\n",
    "\n",
    "skip to [result](#lstm)."
   ]
  },
  {
   "cell_type": "code",
   "execution_count": 1268,
   "metadata": {},
   "outputs": [
    {
     "name": "stdout",
     "output_type": "stream",
     "text": [
      "gs://petfood_review/insight_project_lstm/trained_model us-central1 reviews_200210_003633\n",
      "jobId: reviews_200210_003633\n",
      "state: QUEUED\n"
     ]
    },
    {
     "name": "stderr",
     "output_type": "stream",
     "text": [
      "Removing gs://petfood_review/insight_project_lstm/trained_model/checkpoint#1581218598102441...\n",
      "Removing gs://petfood_review/insight_project_lstm/trained_model/eval/#1581217257517343...\n",
      "Removing gs://petfood_review/insight_project_lstm/trained_model/eval/events.out.tfevents.1581217257.cmle-training-9634952068735405832#1581218607303796...\n",
      "Removing gs://petfood_review/insight_project_lstm/trained_model/events.out.tfevents.1581217192.cmle-training-9634952068735405832#1581218600277336...\n",
      "Removing gs://petfood_review/insight_project_lstm/trained_model/export/#1581217259983412...\n",
      "Removing gs://petfood_review/insight_project_lstm/trained_model/export/exporter/1581218403/#1581218411301350...\n",
      "Removing gs://petfood_review/insight_project_lstm/trained_model/export/exporter/#1581217260248594...\n",
      "Removing gs://petfood_review/insight_project_lstm/trained_model/export/exporter/1581218403/assets/#1581218411839803...\n",
      "Removing gs://petfood_review/insight_project_lstm/trained_model/export/exporter/1581218403/assets/vocab.txt#1581218412085894...\n",
      "Removing gs://petfood_review/insight_project_lstm/trained_model/export/exporter/1581218462/assets/vocab.txt#1581218469555534...\n",
      "Removing gs://petfood_review/insight_project_lstm/trained_model/export/exporter/1581218462/variables/variables.index#1581218470582037...\n",
      "Removing gs://petfood_review/insight_project_lstm/trained_model/export/exporter/1581218403/variables/#1581218412544321...\n",
      "Removing gs://petfood_review/insight_project_lstm/trained_model/export/exporter/1581218462/variables/#1581218470099953...\n",
      "Removing gs://petfood_review/insight_project_lstm/trained_model/export/exporter/1581218403/saved_model.pb#1581218412321923...\n",
      "Removing gs://petfood_review/insight_project_lstm/trained_model/export/exporter/1581218462/#1581218469056245...\n",
      "Removing gs://petfood_review/insight_project_lstm/trained_model/export/exporter/1581218462/variables/variables.data-00000-of-00001#1581218470338562...\n",
      "Removing gs://petfood_review/insight_project_lstm/trained_model/export/exporter/1581218462/saved_model.pb#1581218469848944...\n",
      "Removing gs://petfood_review/insight_project_lstm/trained_model/export/exporter/1581218403/variables/variables.data-00000-of-00001#1581218412778704...\n",
      "Removing gs://petfood_review/insight_project_lstm/trained_model/export/exporter/1581218403/variables/variables.index#1581218413020535...\n",
      "Removing gs://petfood_review/insight_project_lstm/trained_model/export/exporter/1581218462/assets/#1581218469313977...\n",
      "Removing gs://petfood_review/insight_project_lstm/trained_model/export/exporter/1581218520/#1581218527278916...\n",
      "Removing gs://petfood_review/insight_project_lstm/trained_model/export/exporter/1581218520/assets/#1581218527518191...\n",
      "Removing gs://petfood_review/insight_project_lstm/trained_model/export/exporter/1581218520/variables/#1581218528246386...\n",
      "Removing gs://petfood_review/insight_project_lstm/trained_model/export/exporter/1581218520/assets/vocab.txt#1581218527755068...\n",
      "Removing gs://petfood_review/insight_project_lstm/trained_model/export/exporter/1581218520/saved_model.pb#1581218527989765...\n",
      "Removing gs://petfood_review/insight_project_lstm/trained_model/export/exporter/1581218520/variables/variables.data-00000-of-00001#1581218528555289...\n",
      "Removing gs://petfood_review/insight_project_lstm/trained_model/export/exporter/1581218520/variables/variables.index#1581218528793844...\n",
      "Removing gs://petfood_review/insight_project_lstm/trained_model/export/exporter/1581218577/#1581218583825440...\n",
      "Removing gs://petfood_review/insight_project_lstm/trained_model/export/exporter/1581218577/assets/#1581218584071724...\n",
      "Removing gs://petfood_review/insight_project_lstm/trained_model/export/exporter/1581218577/assets/vocab.txt#1581218584308384...\n",
      "Removing gs://petfood_review/insight_project_lstm/trained_model/export/exporter/1581218577/saved_model.pb#1581218584555094...\n",
      "Removing gs://petfood_review/insight_project_lstm/trained_model/export/exporter/1581218577/variables/#1581218584810427...\n",
      "Removing gs://petfood_review/insight_project_lstm/trained_model/export/exporter/1581218577/variables/variables.data-00000-of-00001#1581218585072880...\n",
      "Removing gs://petfood_review/insight_project_lstm/trained_model/export/exporter/1581218577/variables/variables.index#1581218585301549...\n",
      "Removing gs://petfood_review/insight_project_lstm/trained_model/export/exporter/1581218607/#1581218613803315...\n",
      "Removing gs://petfood_review/insight_project_lstm/trained_model/export/exporter/1581218607/assets/#1581218614041865...\n",
      "Removing gs://petfood_review/insight_project_lstm/trained_model/export/exporter/1581218607/assets/vocab.txt#1581218614281878...\n",
      "Removing gs://petfood_review/insight_project_lstm/trained_model/export/exporter/1581218607/saved_model.pb#1581218614585131...\n",
      "Removing gs://petfood_review/insight_project_lstm/trained_model/export/exporter/1581218607/variables/#1581218614843542...\n",
      "Removing gs://petfood_review/insight_project_lstm/trained_model/export/exporter/1581218607/variables/variables.index#1581218615335051...\n",
      "Removing gs://petfood_review/insight_project_lstm/trained_model/export/exporter/1581218607/variables/variables.data-00000-of-00001#1581218615091013...\n",
      "Removing gs://petfood_review/insight_project_lstm/trained_model/graph.pbtxt#1581217196590096...\n",
      "Removing gs://petfood_review/insight_project_lstm/trained_model/keras/#1581217177124679...\n",
      "Removing gs://petfood_review/insight_project_lstm/trained_model/keras/checkpoint#1581217181462383...\n",
      "Removing gs://petfood_review/insight_project_lstm/trained_model/keras/keras_model.ckpt.data-00000-of-00001#1581217180151053...\n",
      "Removing gs://petfood_review/insight_project_lstm/trained_model/keras/keras_model.ckpt.meta#1581217182210769...\n",
      "Removing gs://petfood_review/insight_project_lstm/trained_model/keras/keras_model.ckpt.index#1581217180760744...\n",
      "Removing gs://petfood_review/insight_project_lstm/trained_model/model.ckpt-2100.data-00000-of-00001#1581218394183746...\n",
      "Removing gs://petfood_review/insight_project_lstm/trained_model/model.ckpt-2100.index#1581218394528310...\n",
      "Removing gs://petfood_review/insight_project_lstm/trained_model/model.ckpt-2100.meta#1581218396782208...\n",
      "Removing gs://petfood_review/insight_project_lstm/trained_model/model.ckpt-2200.data-00000-of-00001#1581218452177242...\n",
      "Removing gs://petfood_review/insight_project_lstm/trained_model/model.ckpt-2200.index#1581218453033169...\n",
      "Removing gs://petfood_review/insight_project_lstm/trained_model/model.ckpt-2200.meta#1581218455197988...\n",
      "Removing gs://petfood_review/insight_project_lstm/trained_model/model.ckpt-2300.data-00000-of-00001#1581218510647279...\n",
      "Removing gs://petfood_review/insight_project_lstm/trained_model/model.ckpt-2300.index#1581218511086036...\n",
      "Removing gs://petfood_review/insight_project_lstm/trained_model/model.ckpt-2300.meta#1581218513264951...\n",
      "Removing gs://petfood_review/insight_project_lstm/trained_model/model.ckpt-2400.data-00000-of-00001#1581218567962660...\n",
      "Removing gs://petfood_review/insight_project_lstm/trained_model/model.ckpt-2400.index#1581218568282905...\n",
      "Removing gs://petfood_review/insight_project_lstm/trained_model/model.ckpt-2400.meta#1581218570512679...\n",
      "Removing gs://petfood_review/insight_project_lstm/trained_model/model.ckpt-2422.data-00000-of-00001#1581218596999472...\n",
      "Removing gs://petfood_review/insight_project_lstm/trained_model/packages/21ea8f293df6e80eaad93d55b1192f3e6d637870b9a9635242499a720da341c6/trainer-0.0.0.tar.gz#1581217030807262...\n",
      "Removing gs://petfood_review/insight_project_lstm/trained_model/vocab.txt#1581217151869648...\n",
      "Removing gs://petfood_review/insight_project_lstm/trained_model/model.ckpt-2422.index#1581218597376012...\n",
      "Removing gs://petfood_review/insight_project_lstm/trained_model/model.ckpt-2422.meta#1581218599539632...\n",
      "/ [64/64 objects] 100% Done                                                     \n",
      "Operation completed over 64 objects.                                             \n",
      "DEBUG: Running [gcloud.ai-platform.jobs.submit.training] with arguments: [--job-dir: \"<googlecloudsdk.api_lib.storage.storage_util.ObjectReference object at 0x7f2bd4d04e10>\", --module-name: \"trainer.task\", --package-path: \"/home/jupyter/Petfood_reviews/trainer\", --region: \"us-central1\", --runtime-version: \"1.15\", --scale-tier: \"basic-gpu\", --verbosity: \"debug\", JOB: \"reviews_200210_003633\"]\n",
      "DEBUG: Looking for setup.py file at [/home/jupyter/Petfood_reviews/setup.py]\n",
      "INFO: Generating temporary setup.py file:\n",
      "from setuptools import setup\n",
      "\n",
      "if __name__ == '__main__':\n",
      "    setup(name='trainer', packages=['trainer'])\n",
      "\n",
      "DEBUG: Executing command: ['/usr/bin/python2', u'-S', u'/home/jupyter/Petfood_reviews/setup.py', u'egg_info', u'--egg-base', '/tmp/tmpCdulIM', u'build', u'--build-base', '/tmp/tmpCdulIM', u'--build-temp', '/tmp/tmpCdulIM', u'sdist', u'--dist-dir', u'/tmp/tmpcp4n41/output']\n",
      "DEBUG: Executing command: ['/usr/bin/python2', u'/home/jupyter/Petfood_reviews/setup.py', u'egg_info', u'--egg-base', '/tmp/tmpCdulIM', u'build', u'--build-base', '/tmp/tmpCdulIM', u'--build-temp', '/tmp/tmpCdulIM', u'sdist', u'--dist-dir', u'/tmp/tmpcp4n41/output']\n",
      "DEBUG: Python packaging resulted in [/tmp/tmpcp4n41/output/trainer-0.0.0.tar.gz]\n",
      "DEBUG: Couldn't remove file [/home/jupyter/Petfood_reviews/setup.pyc] (it may never have been created).\n",
      "INFO: Uploading [/tmp/tmpcp4n41/output/trainer-0.0.0.tar.gz] to [petfood_review/insight_project_lstm/trained_model/packages/757092d00ea7fb44b8101b6fd1e23883ce53a5918108b8519d9c2ad5ab5b6265/trainer-0.0.0.tar.gz]\n",
      "DEBUG: Using [u'gs://petfood_review/insight_project_lstm/trained_model/packages/757092d00ea7fb44b8101b6fd1e23883ce53a5918108b8519d9c2ad5ab5b6265/trainer-0.0.0.tar.gz'] as trainer uris\n",
      "Job [reviews_200210_003633] submitted successfully.\n",
      "Your job is still active. You may view the status of your job with the command\n",
      "\n",
      "  $ gcloud ai-platform jobs describe reviews_200210_003633\n",
      "\n",
      "or continue streaming the logs with the command\n",
      "\n",
      "  $ gcloud ai-platform jobs stream-logs reviews_200210_003633\n",
      "INFO: Display format: \"yaml(jobId,state,startTime.date(tz=LOCAL),endTime.date(tz=LOCAL))\"\n",
      "DEBUG: SDK update checks are disabled.\n"
     ]
    }
   ],
   "source": [
    "%%bash\n",
    "OUTDIR=gs://${BUCKET}/insight_project_lstm/trained_model\n",
    "JOBNAME=reviews_$(date -u +%y%m%d_%H%M%S)\n",
    "echo $OUTDIR $REGION $JOBNAME\n",
    "gsutil -m rm -rf $OUTDIR\n",
    "gcloud --verbosity=debug ai-platform jobs submit training $JOBNAME \\\n",
    " --region=$REGION \\\n",
    " --module-name=trainer.task \\\n",
    " --package-path=${PWD}/Petfood_reviews/trainer \\\n",
    " --job-dir=$OUTDIR \\\n",
    " --scale-tier=BASIC_GPU \\\n",
    " --runtime-version=1.15 \\\n",
    " --\\\n",
    " --output_dir=$OUTDIR \\\n",
    " --train_data_path=gs://${BUCKET}/train.tsv \\\n",
    " --eval_data_path=gs://${BUCKET}/eval.tsv \\\n",
    " --embedding_path=gs://${BUCKET}/glove.6B.200d.txt \\\n",
    " --model_type='LSTM' \\\n",
    " --num_epochs=20"
   ]
  },
  {
   "cell_type": "code",
   "execution_count": 1270,
   "metadata": {},
   "outputs": [],
   "source": [
    "%%bash\n",
    "#gcloud ai-platform jobs stream-logs reviews_200210_003633"
   ]
  },
  {
   "cell_type": "markdown",
   "metadata": {},
   "source": [
    "<a id='lstm'></a>"
   ]
  },
  {
   "cell_type": "markdown",
   "metadata": {},
   "source": [
    "**global step 2422: global_step = 2422, loss = 0.6713934, sparse_categorical_accuracy = 0.95963955**\n",
    "\n",
    "**training time**: 45 minutes"
   ]
  },
  {
   "cell_type": "markdown",
   "metadata": {},
   "source": [
    "## Bidirectional LSTM Model\n",
    "\n",
    "See the [result](#bidirect)."
   ]
  },
  {
   "cell_type": "code",
   "execution_count": 1148,
   "metadata": {},
   "outputs": [
    {
     "name": "stdout",
     "output_type": "stream",
     "text": [
      "gs://petfood_review/insight_project_bidirect/trained_model us-central1 reviews_200209_043659\n",
      "jobId: reviews_200209_043659\n",
      "state: QUEUED\n"
     ]
    },
    {
     "name": "stderr",
     "output_type": "stream",
     "text": [
      "Removing gs://petfood_review/insight_project_bidirect/trained_model/checkpoint#1581220909540367...\n",
      "Removing gs://petfood_review/insight_project_bidirect/trained_model/eval/#1581220106457702...\n",
      "Removing gs://petfood_review/insight_project_bidirect/trained_model/eval/events.out.tfevents.1581220106.cmle-training-11148730246480121485#1581220928817902...\n",
      "Removing gs://petfood_review/insight_project_bidirect/trained_model/events.out.tfevents.1581219923.cmle-training-11148730246480121485#1581220911885438...\n",
      "Removing gs://petfood_review/insight_project_bidirect/trained_model/export/exporter/#1581220109202564...\n",
      "Removing gs://petfood_review/insight_project_bidirect/trained_model/export/#1581220108922465...\n",
      "Removing gs://petfood_review/insight_project_bidirect/trained_model/export/exporter/1581220272/#1581220279933637...\n",
      "Removing gs://petfood_review/insight_project_bidirect/trained_model/export/exporter/1581220272/saved_model.pb#1581220280709983...\n",
      "Removing gs://petfood_review/insight_project_bidirect/trained_model/export/exporter/1581220272/variables/variables.index#1581220281511062...\n",
      "Removing gs://petfood_review/insight_project_bidirect/trained_model/export/exporter/1581220435/saved_model.pb#1581220443648617...\n",
      "Removing gs://petfood_review/insight_project_bidirect/trained_model/export/exporter/1581220435/assets/vocab.txt#1581220443381836...\n",
      "Removing gs://petfood_review/insight_project_bidirect/trained_model/export/exporter/1581220272/assets/#1581220280211031...\n",
      "Removing gs://petfood_review/insight_project_bidirect/trained_model/export/exporter/1581220272/variables/variables.data-00000-of-00001#1581220281257205...\n",
      "Removing gs://petfood_review/insight_project_bidirect/trained_model/export/exporter/1581220272/assets/vocab.txt#1581220280468266...\n",
      "Removing gs://petfood_review/insight_project_bidirect/trained_model/export/exporter/1581220272/variables/#1581220280972997...\n",
      "Removing gs://petfood_review/insight_project_bidirect/trained_model/export/exporter/1581220435/variables/#1581220443901493...\n",
      "Removing gs://petfood_review/insight_project_bidirect/trained_model/export/exporter/1581220435/#1581220442887400...\n",
      "Removing gs://petfood_review/insight_project_bidirect/trained_model/export/exporter/1581220435/variables/variables.index#1581220444404323...\n",
      "Removing gs://petfood_review/insight_project_bidirect/trained_model/export/exporter/1581220435/assets/#1581220443131378...\n",
      "Removing gs://petfood_review/insight_project_bidirect/trained_model/export/exporter/1581220435/variables/variables.data-00000-of-00001#1581220444145245...\n",
      "Removing gs://petfood_review/insight_project_bidirect/trained_model/export/exporter/1581220599/#1581220606572575...\n",
      "Removing gs://petfood_review/insight_project_bidirect/trained_model/export/exporter/1581220599/assets/#1581220606868433...\n",
      "Removing gs://petfood_review/insight_project_bidirect/trained_model/export/exporter/1581220599/assets/vocab.txt#1581220607135234...\n",
      "Removing gs://petfood_review/insight_project_bidirect/trained_model/export/exporter/1581220599/saved_model.pb#1581220607381230...\n",
      "Removing gs://petfood_review/insight_project_bidirect/trained_model/export/exporter/1581220599/variables/#1581220607624297...\n",
      "Removing gs://petfood_review/insight_project_bidirect/trained_model/export/exporter/1581220599/variables/variables.data-00000-of-00001#1581220607874298...\n",
      "Removing gs://petfood_review/insight_project_bidirect/trained_model/export/exporter/1581220599/variables/variables.index#1581220608121131...\n",
      "Removing gs://petfood_review/insight_project_bidirect/trained_model/export/exporter/1581220763/#1581220770746064...\n",
      "Removing gs://petfood_review/insight_project_bidirect/trained_model/export/exporter/1581220763/assets/#1581220771007020...\n",
      "Removing gs://petfood_review/insight_project_bidirect/trained_model/export/exporter/1581220763/assets/vocab.txt#1581220771254912...\n",
      "Removing gs://petfood_review/insight_project_bidirect/trained_model/export/exporter/1581220763/saved_model.pb#1581220771515437...\n",
      "Removing gs://petfood_review/insight_project_bidirect/trained_model/export/exporter/1581220763/variables/#1581220771748936...\n",
      "Removing gs://petfood_review/insight_project_bidirect/trained_model/export/exporter/1581220763/variables/variables.data-00000-of-00001#1581220771996670...\n",
      "Removing gs://petfood_review/insight_project_bidirect/trained_model/export/exporter/1581220763/variables/variables.index#1581220772254956...\n",
      "Removing gs://petfood_review/insight_project_bidirect/trained_model/export/exporter/1581220928/#1581220936281091...\n",
      "Removing gs://petfood_review/insight_project_bidirect/trained_model/export/exporter/1581220928/assets/#1581220936543127...\n",
      "Removing gs://petfood_review/insight_project_bidirect/trained_model/export/exporter/1581220928/assets/vocab.txt#1581220936797753...\n",
      "Removing gs://petfood_review/insight_project_bidirect/trained_model/export/exporter/1581220928/saved_model.pb#1581220937039870...\n",
      "Removing gs://petfood_review/insight_project_bidirect/trained_model/export/exporter/1581220928/variables/#1581220937291406...\n",
      "Removing gs://petfood_review/insight_project_bidirect/trained_model/export/exporter/1581220928/variables/variables.data-00000-of-00001#1581220937562291...\n",
      "Removing gs://petfood_review/insight_project_bidirect/trained_model/export/exporter/1581220928/variables/variables.index#1581220937827827...\n",
      "Removing gs://petfood_review/insight_project_bidirect/trained_model/graph.pbtxt#1581219930697046...\n",
      "Removing gs://petfood_review/insight_project_bidirect/trained_model/keras/#1581219903852847...\n",
      "Removing gs://petfood_review/insight_project_bidirect/trained_model/keras/checkpoint#1581219912361458...\n",
      "Removing gs://petfood_review/insight_project_bidirect/trained_model/keras/keras_model.ckpt.data-00000-of-00001#1581219911180048...\n",
      "Removing gs://petfood_review/insight_project_bidirect/trained_model/keras/keras_model.ckpt.meta#1581219913423401...\n",
      "Removing gs://petfood_review/insight_project_bidirect/trained_model/keras/keras_model.ckpt.index#1581219911775846...\n",
      "Removing gs://petfood_review/insight_project_bidirect/trained_model/model.ckpt-200.data-00000-of-00001#1581220252298618...\n",
      "Removing gs://petfood_review/insight_project_bidirect/trained_model/model.ckpt-200.index#1581220252619301...\n",
      "Removing gs://petfood_review/insight_project_bidirect/trained_model/model.ckpt-200.meta#1581220254472574...\n",
      "Removing gs://petfood_review/insight_project_bidirect/trained_model/model.ckpt-300.data-00000-of-00001#1581220415782001...\n",
      "Removing gs://petfood_review/insight_project_bidirect/trained_model/model.ckpt-300.index#1581220416207401...\n",
      "Removing gs://petfood_review/insight_project_bidirect/trained_model/model.ckpt-300.meta#1581220418078098...\n",
      "Removing gs://petfood_review/insight_project_bidirect/trained_model/model.ckpt-400.data-00000-of-00001#1581220579848227...\n",
      "Removing gs://petfood_review/insight_project_bidirect/trained_model/model.ckpt-400.index#1581220580238166...\n",
      "Removing gs://petfood_review/insight_project_bidirect/trained_model/model.ckpt-400.meta#1581220582024003...\n",
      "Removing gs://petfood_review/insight_project_bidirect/trained_model/model.ckpt-500.data-00000-of-00001#1581220742888920...\n",
      "Removing gs://petfood_review/insight_project_bidirect/trained_model/model.ckpt-500.index#1581220743336725...\n",
      "Removing gs://petfood_review/insight_project_bidirect/trained_model/model.ckpt-500.meta#1581220745740986...\n",
      "Removing gs://petfood_review/insight_project_bidirect/trained_model/model.ckpt-600.index#1581220908831034...\n",
      "Removing gs://petfood_review/insight_project_bidirect/trained_model/model.ckpt-600.data-00000-of-00001#1581220908440043...\n",
      "Removing gs://petfood_review/insight_project_bidirect/trained_model/model.ckpt-600.meta#1581220911095185...\n",
      "Removing gs://petfood_review/insight_project_bidirect/trained_model/packages/c874dcab6991b27e4b86df6d95e7e36ae72148fee833e1612463bff92dc9c322/trainer-0.0.0.tar.gz#1581219714763655...\n",
      "Removing gs://petfood_review/insight_project_bidirect/trained_model/vocab.txt#1581219876577376...\n",
      "/ [64/64 objects] 100% Done                                                     \n",
      "Operation completed over 64 objects.                                             \n",
      "DEBUG: Running [gcloud.ai-platform.jobs.submit.training] with arguments: [--job-dir: \"<googlecloudsdk.api_lib.storage.storage_util.ObjectReference object at 0x7fdee2a1be50>\", --module-name: \"trainer.task\", --package-path: \"/home/jupyter/Petfood_reviews/trainer\", --region: \"us-central1\", --runtime-version: \"1.15\", --scale-tier: \"basic-gpu\", --verbosity: \"debug\", JOB: \"reviews_200209_043659\"]\n",
      "DEBUG: Looking for setup.py file at [/home/jupyter/Petfood_reviews/setup.py]\n",
      "INFO: Generating temporary setup.py file:\n",
      "from setuptools import setup\n",
      "\n",
      "if __name__ == '__main__':\n",
      "    setup(name='trainer', packages=['trainer'])\n",
      "\n",
      "DEBUG: Executing command: ['/usr/bin/python2', u'-S', u'/home/jupyter/Petfood_reviews/setup.py', u'egg_info', u'--egg-base', '/tmp/tmp8VoIz8', u'build', u'--build-base', '/tmp/tmp8VoIz8', u'--build-temp', '/tmp/tmp8VoIz8', u'sdist', u'--dist-dir', u'/tmp/tmp6i9Yw1/output']\n",
      "DEBUG: Executing command: ['/usr/bin/python2', u'/home/jupyter/Petfood_reviews/setup.py', u'egg_info', u'--egg-base', '/tmp/tmp8VoIz8', u'build', u'--build-base', '/tmp/tmp8VoIz8', u'--build-temp', '/tmp/tmp8VoIz8', u'sdist', u'--dist-dir', u'/tmp/tmp6i9Yw1/output']\n",
      "DEBUG: Python packaging resulted in [/tmp/tmp6i9Yw1/output/trainer-0.0.0.tar.gz]\n",
      "DEBUG: Couldn't remove file [/home/jupyter/Petfood_reviews/setup.pyc] (it may never have been created).\n",
      "INFO: Uploading [/tmp/tmp6i9Yw1/output/trainer-0.0.0.tar.gz] to [petfood_review/insight_project_bidirect/trained_model/packages/2f837903fe91929060d210e058337406d9d2f7253ceb4779ba3d49281b2bbdc7/trainer-0.0.0.tar.gz]\n",
      "DEBUG: Using [u'gs://petfood_review/insight_project_bidirect/trained_model/packages/2f837903fe91929060d210e058337406d9d2f7253ceb4779ba3d49281b2bbdc7/trainer-0.0.0.tar.gz'] as trainer uris\n",
      "Job [reviews_200209_043659] submitted successfully.\n",
      "Your job is still active. You may view the status of your job with the command\n",
      "\n",
      "  $ gcloud ai-platform jobs describe reviews_200209_043659\n",
      "\n",
      "or continue streaming the logs with the command\n",
      "\n",
      "  $ gcloud ai-platform jobs stream-logs reviews_200209_043659\n",
      "INFO: Display format: \"yaml(jobId,state,startTime.date(tz=LOCAL),endTime.date(tz=LOCAL))\"\n",
      "DEBUG: SDK update checks are disabled.\n"
     ]
    }
   ],
   "source": [
    "%%bash\n",
    "OUTDIR=gs://${BUCKET}/insight_project_bidirect/trained_model\n",
    "JOBNAME=reviews_$(date -u +%y%m%d_%H%M%S)\n",
    "echo $OUTDIR $REGION $JOBNAME\n",
    "gsutil -m rm -rf $OUTDIR\n",
    "gcloud --verbosity=debug ai-platform jobs submit training $JOBNAME \\\n",
    " --region=$REGION \\\n",
    " --module-name=trainer.task \\\n",
    " --package-path=${PWD}/Petfood_reviews/trainer \\\n",
    " --job-dir=$OUTDIR \\\n",
    " --scale-tier=BASIC_GPU \\\n",
    " --runtime-version=1.15 \\\n",
    " --\\\n",
    " --output_dir=$OUTDIR \\\n",
    " --train_data_path=gs://${BUCKET}/train.tsv \\\n",
    " --eval_data_path=gs://${BUCKET}/eval.tsv \\\n",
    " --embedding_path=gs://${BUCKET}/glove.6B.200d.txt \\\n",
    " --model_type='BiDirect' \\\n",
    " --num_epochs=20"
   ]
  },
  {
   "cell_type": "code",
   "execution_count": 1150,
   "metadata": {},
   "outputs": [],
   "source": [
    "%%bash\n",
    "#gcloud ai-platform jobs stream-logs reviews_200209_043659"
   ]
  },
  {
   "cell_type": "markdown",
   "metadata": {},
   "source": [
    "<a id='bidirect'></a>"
   ]
  },
  {
   "cell_type": "markdown",
   "metadata": {},
   "source": [
    "**global step 2422: global_step = 2422, loss = 0.68818426, sparse_categorical_accuracy = 0.9408673**\n",
    "\n",
    "**training time** = 1 hour 10 minutes"
   ]
  },
  {
   "cell_type": "markdown",
   "metadata": {},
   "source": [
    "**Saving dict for global step 1940: global_step = 1940, loss = 0.60588276, sparse_categorical_accuracy = 0.94460434**"
   ]
  },
  {
   "cell_type": "markdown",
   "metadata": {},
   "source": [
    "# Deploy Model"
   ]
  },
  {
   "cell_type": "markdown",
   "metadata": {},
   "source": [
    "Since the LSTM model outperformed the other two, that's the model that is ultimately deployed to Google AI Platform."
   ]
  },
  {
   "cell_type": "code",
   "execution_count": 1274,
   "metadata": {},
   "outputs": [
    {
     "name": "stderr",
     "output_type": "stream",
     "text": [
      "Creating version (this might take a few minutes)......\n",
      ".................................................................................................................................................................................................................................................................................................................................done.\n"
     ]
    }
   ],
   "source": [
    "%%bash\n",
    "MODEL_NAME=\"insight_project_lstmII\"\n",
    "MODEL_VERSION=\"v3\"\n",
    "MODEL_LOCATION=$(gsutil ls gs://${BUCKET}/insight_project_lstm/trained_model/export/exporter/ | tail -1)\n",
    "#gcloud ai-platform versions delete ${MODEL_VERSION} --model ${MODEL_NAME} --quiet\n",
    "#gcloud ai-platform models delete ${MODEL_NAME}\n",
    "#gcloud ai-platform models create ${MODEL_NAME} --regions $REGION\n",
    "gcloud ai-platform versions create ${MODEL_VERSION} --model ${MODEL_NAME} --origin ${MODEL_LOCATION} --runtime-version=1.15"
   ]
  },
  {
   "cell_type": "markdown",
   "metadata": {},
   "source": [
    "# Prediction"
   ]
  },
  {
   "cell_type": "markdown",
   "metadata": {},
   "source": [
    "Let's see how our model fares on the prediciton front! For that, we'll take 3 examples from the eval file in oder to see how the model does on predicting their labels."
   ]
  },
  {
   "cell_type": "code",
   "execution_count": 1178,
   "metadata": {},
   "outputs": [],
   "source": [
    "#Product\n",
    "text1 = evaldf.iloc[300]['process_review']\n",
    "label1 = evaldf.iloc[300]['topic']\n",
    "\n",
    "#Health\n",
    "text2 = evaldf.iloc[400]['process_review']\n",
    "label2 = evaldf.iloc[400]['topic']\n",
    "\n",
    "#Quality\n",
    "text3 = evaldf.iloc[2100]['process_review']\n",
    "label3 = evaldf.iloc[2100]['topic']"
   ]
  },
  {
   "cell_type": "code",
   "execution_count": 1179,
   "metadata": {},
   "outputs": [
    {
     "name": "stdout",
     "output_type": "stream",
     "text": [
      "Label: product\n",
      " Review:we were very disappointed to find this come without the applicator tip pictured  photo 3 4   we needed to buy a dropper separately to fill and use  as far as whether it clears up ear mite issues  after the suggested 2 wk application period using an ear dropper  we got separately  did not work as well as the oral syringe  do not administer orally  to squirt it into the ear  in the end we used treatment from sentry brand for better results \n",
      "Label: health\n",
      " Review:the greenies were very old looking  greenies are a dark green  however  the ones i received were light green with specs of dark green  my dog has a greenie everyday and never an issue  when i gave her the greenies from this shipment she had diarrhea for the couple of days i gave them to her  ended up throwing them away and went to pet smart and bought from there and she had no issues with those and they were dark green as always \n",
      "Label: quality\n",
      " Review:my cats do not like these  not sure why  would not purchase it again  i do like their frozen stuff though \n"
     ]
    }
   ],
   "source": [
    "print('Label: {}\\n Review:{}'.format(label1,text1))\n",
    "print('Label: {}\\n Review:{}'.format(label2,text2))\n",
    "print('Label: {}\\n Review:{}'.format(label3,text3))"
   ]
  },
  {
   "cell_type": "code",
   "execution_count": 1275,
   "metadata": {},
   "outputs": [
    {
     "name": "stdout",
     "output_type": "stream",
     "text": [
      "\n",
      "we were very disappointed to find this come without the applicator tip pictured  photo 3 4   we needed to buy a dropper separately to fill and use  as far as whether it clears up ear mite issues  after the suggested 2 wk application period using an ear dropper  we got separately  did not work as well as the oral syringe  do not administer orally  to squirt it into the ear  in the end we used treatment from sentry brand for better results \n",
      " health    : 0.011466864496469498\n",
      " quality   : 0.012292907573282719\n",
      " service   : 0.9762402772903442\n",
      "\n",
      "the greenies were very old looking  greenies are a dark green  however  the ones i received were light green with specs of dark green  my dog has a greenie everyday and never an issue  when i gave her the greenies from this shipment she had diarrhea for the couple of days i gave them to her  ended up throwing them away and went to pet smart and bought from there and she had no issues with those and they were dark green as always \n",
      " health    : 0.9624232649803162\n",
      " quality   : 0.019618220627307892\n",
      " service   : 0.0179585050791502\n",
      "\n",
      "my cats do not like these  not sure why  would not purchase it again  i do like their frozen stuff though \n",
      " health    : 0.010175056755542755\n",
      " quality   : 0.9799395799636841\n",
      " service   : 0.009885421022772789\n"
     ]
    }
   ],
   "source": [
    "from googleapiclient import discovery\n",
    "from oauth2client.client import GoogleCredentials\n",
    "import json\n",
    "\n",
    "# JSON format the requests\n",
    "requests = ([text1]+[text2]+[text3])\n",
    "requests = [x.lower() for x in requests] \n",
    "request_data = {'instances': requests}\n",
    "\n",
    "# Authenticate and call CMLE prediction API \n",
    "credentials = GoogleCredentials.get_application_default()\n",
    "api = discovery.build('ml', 'v1', credentials=credentials,\n",
    "            discoveryServiceUrl='https://storage.googleapis.com/cloud-ml/discovery/ml_v1_discovery.json')\n",
    "\n",
    "parent = 'projects/%s/models/%s/versions/%s' % (PROJECT, 'insight_project_lstmII', 'v3')\n",
    "response = api.projects().predict(body=request_data, name=parent).execute()\n",
    "\n",
    "# Format and print response\n",
    "for i in range(len(requests)):\n",
    "  print('\\n{}'.format(requests[i]))\n",
    "  print(' health    : {}'.format(response['predictions'][i]['dense'][0]))\n",
    "  print(' quality   : {}'.format(response['predictions'][i]['dense'][1]))\n",
    "  print(' service   : {}'.format(response['predictions'][i]['dense'][2]))"
   ]
  },
  {
   "cell_type": "markdown",
   "metadata": {},
   "source": [
    "# Test the Dictionary on New Dataset"
   ]
  },
  {
   "cell_type": "code",
   "execution_count": 45,
   "metadata": {},
   "outputs": [
    {
     "name": "stdout",
     "output_type": "stream",
     "text": [
      "Collecting bs4\n",
      "  Downloading bs4-0.0.1.tar.gz (1.1 kB)\n",
      "Collecting beautifulsoup4\n",
      "  Downloading beautifulsoup4-4.8.2-py3-none-any.whl (106 kB)\n",
      "Collecting soupsieve>=1.2\n",
      "  Downloading soupsieve-1.9.5-py2.py3-none-any.whl (33 kB)\n",
      "Building wheels for collected packages: bs4\n",
      "  Building wheel for bs4 (setup.py): started\n",
      "  Building wheel for bs4 (setup.py): finished with status 'done'\n",
      "  Created wheel for bs4: filename=bs4-0.0.1-py3-none-any.whl size=2247 sha256=3169bf6918b3af62e3bb0669f4c84fb57777f8f95a4345540536c14c8a2114b8\n",
      "  Stored in directory: /home/jupyter/.cache/pip/wheels/df/bb/53/ffd18097aff565fd3d64285910fabf60510830d60b49f5d933\n",
      "Successfully built bs4\n",
      "Installing collected packages: soupsieve, beautifulsoup4, bs4\n",
      "Successfully installed beautifulsoup4-4.8.2 bs4-0.0.1 soupsieve-1.9.5\n"
     ]
    }
   ],
   "source": [
    "%%bash\n",
    "pip install bs4 --user"
   ]
  },
  {
   "cell_type": "code",
   "execution_count": 1281,
   "metadata": {},
   "outputs": [],
   "source": [
    "import math\n",
    "import re\n",
    "import textwrap\n",
    "import os\n",
    "import requests\n",
    "\n",
    "from googleapiclient import discovery\n",
    "from oauth2client.client import GoogleCredentials\n",
    "import json\n",
    "from bs4 import BeautifulSoup\n",
    "from time import sleep\n",
    "\n",
    "from collections import defaultdict "
   ]
  },
  {
   "cell_type": "code",
   "execution_count": 1181,
   "metadata": {},
   "outputs": [],
   "source": [
    "def get_item_id(url):\n",
    "\n",
    "    item_id = re.findall(\"/dp/(\\d+)\", url)\n",
    "    product_name = re.findall(\"com/(.*)/\", url)\n",
    "    return item_id[0], product_name[0].split('/')[0]\n",
    "\n",
    "def get_product_reviews_url(item_id, product_name, page_number=None):\n",
    "    if not page_number:\n",
    "        page_number = 1\n",
    "    BASE_URL = 'https://www.chewy.com'\n",
    "\n",
    "    return BASE_URL + '/{}/product-reviews/{}'\\\n",
    "                    '?reviewSort=NEWEST&reviewFilter=NEGATIVE&pageNumber={}'.format(product_name,item_id, page_number)\n",
    "\n",
    "\n",
    "def get_soup(url):\n",
    "  #  nap_time_sec = 1\n",
    "  #  sleep(nap_time_sec)\n",
    "\n",
    "    out = requests.get(url) #, headers=header)\n",
    "    soup = BeautifulSoup(out.content, 'lxml')\n",
    "\n",
    "    return soup\n",
    "\n",
    "\n",
    "def get_reviews(request_url):\n",
    "    \n",
    "    item_id, product_name = get_item_id(request_url)\n",
    "    reviews = list()\n",
    "    if item_id is None:\n",
    "        return reviews\n",
    "    \n",
    "    product_reviews_link = get_product_reviews_url(item_id, product_name)\n",
    "\n",
    "    so = get_soup(product_reviews_link)\n",
    "    \n",
    "    max_page_number = so.find(attrs={\"class\":\"ugc-list__content--pagination\"}).text.strip().split()[3]\n",
    "    \n",
    "    print(max_page_number)\n",
    "    \n",
    "    if max_page_number is None:\n",
    "        return reviews\n",
    "    \n",
    "    max_page_number = int(max_page_number) if max_page_number else 1\n",
    "    max_page_number *= 0.1  # displaying 10 results per page. So if 663 results then ~66 pages.\n",
    "    max_page_number = math.ceil(max_page_number)\n",
    "    print(max_page_number)\n",
    "    \n",
    "    for page_number in range(1, max_page_number + 1):\n",
    "        print(page_number)\n",
    "        if page_number >=1:\n",
    "            product_reviews_link = get_product_reviews_url(item_id,product_name,page_number)\n",
    "            so = get_soup(product_reviews_link)\n",
    "\n",
    "        reviews_list = so.find_all('li', {'itemprop': 'review'})\n",
    "        \n",
    "        if len(reviews_list) == 0:\n",
    "            break\n",
    "            \n",
    "        for review in reviews_list:\n",
    "          #  rating = review.find(attrs={'itemprop':'ratingValue'}).attrs['content']\n",
    "          #  if int(rating) < 4:\n",
    "            body = review.find(attrs={'class':'ugc-list__review__display'}).text.strip()\n",
    "            rev_id = review.get('data-content-id')\n",
    "            try:\n",
    "                helpful = review.find(attrs={'data-ga-action':'like'}).text.strip()\n",
    "            except:\n",
    "                helpful = '0'\n",
    "                \n",
    "            reviews.append({'id':rev_id, 'body': body, 'helpful_votes':helpful})\n",
    "            \n",
    "\n",
    "    return reviews"
   ]
  },
  {
   "cell_type": "code",
   "execution_count": 1278,
   "metadata": {},
   "outputs": [],
   "source": [
    "def get_item_id(url):\n",
    "\n",
    "    item_id = re.findall(\"/dp/(\\d+)\", str(url))\n",
    "    product_name = re.findall(\"com/(.*)/\", str(url)) \n",
    "    return item_id[0], product_name[0].split('/')[0]\n",
    "\n",
    "\n",
    "def get_product_reviews_url(item_id, product_name, page_number=None):\n",
    "    if not page_number:\n",
    "        page_number = 1\n",
    "    BASE_URL = 'https://www.chewy.com'\n",
    "\n",
    "    return BASE_URL + '/{}/product-reviews/{}'\\\n",
    "                    '?reviewSort=NEWEST&reviewFilter=NEGATIVE&pageNumber={}'.format(product_name,item_id, page_number)\n",
    "\n",
    "\n",
    "def get_soup(url):\n",
    "  #  nap_time_sec = 1\n",
    "  #  sleep(nap_time_sec)\n",
    "    out = requests.get(url) \n",
    "#    assert out.status_code == 200\n",
    "    soup = BeautifulSoup(out.content, 'lxml')\n",
    "\n",
    "    return soup\n",
    "\n",
    "def get_reviews(request_url):\n",
    "\n",
    "    item_id, product_name = get_item_id(request_url)\n",
    "    reviews = list()\n",
    "    if item_id is None:\n",
    "        return reviews\n",
    "\n",
    "    product_reviews_link = get_product_reviews_url(item_id, product_name)\n",
    "\n",
    "    so = get_soup(product_reviews_link)\n",
    "\n",
    "    max_page_number = so.find(attrs={\"class\":\"ugc-list__content--pagination\"}).text.strip().split()[3]\n",
    "\n",
    "    if max_page_number is None:\n",
    "        return reviews\n",
    "\n",
    "    max_page_number = int(max_page_number) if max_page_number else 1\n",
    "    max_page_number *= 0.1  # displaying 10 results per page. So if 663 results then ~66 pages.\n",
    "    max_page_number = math.ceil(max_page_number)\n",
    "    print(max_page_number)\n",
    "\n",
    "    for page_number in range(1, max_page_number + 1):\n",
    "        print(page_number)\n",
    "        if page_number >=1:\n",
    "            product_reviews_link = get_product_reviews_url(item_id,product_name,page_number)\n",
    "            so = get_soup(product_reviews_link)\n",
    "\n",
    "        reviews_list = so.find_all('li', {'itemprop': 'review'})\n",
    "\n",
    "        if len(reviews_list) == 0:\n",
    "            break\n",
    "\n",
    "        for review in reviews_list:\n",
    "            body = review.find(attrs={'class':'ugc-list__review__display'}).text.strip()\n",
    "            rev_id = review.get('data-content-id')\n",
    "            try:\n",
    "                helpful = review.find(attrs={'data-ga-action':'like'}).text.strip()\n",
    "            except:\n",
    "                helpful = '0'\n",
    "\n",
    "\n",
    "            reviews.append({'id':rev_id, 'body': body, 'helpful_votes':helpful})\n",
    "\n",
    "\n",
    "    return reviews"
   ]
  },
  {
   "cell_type": "code",
   "execution_count": 1197,
   "metadata": {},
   "outputs": [
    {
     "name": "stdout",
     "output_type": "stream",
     "text": [
      "5\n",
      "1\n",
      "2\n",
      "3\n",
      "4\n",
      "5\n"
     ]
    }
   ],
   "source": [
    "revs = get_reviews(\"https://www.chewy.com/hills-science-diet-adult-sensitive/dp/34037\")"
   ]
  },
  {
   "cell_type": "code",
   "execution_count": 1198,
   "metadata": {},
   "outputs": [],
   "source": [
    "revs_df = pd.DataFrame(revs)"
   ]
  },
  {
   "cell_type": "code",
   "execution_count": 1199,
   "metadata": {},
   "outputs": [],
   "source": [
    "revs_df['process_review'] = revs_df['body'].apply(clean_text)"
   ]
  },
  {
   "cell_type": "code",
   "execution_count": 1200,
   "metadata": {},
   "outputs": [],
   "source": [
    "quality_rows, health_rows, product_rows = topic_dict(revs_df)"
   ]
  },
  {
   "cell_type": "code",
   "execution_count": 1201,
   "metadata": {},
   "outputs": [
    {
     "name": "stdout",
     "output_type": "stream",
     "text": [
      "28\n"
     ]
    }
   ],
   "source": [
    "import itertools\n",
    "total = itertools.chain(quality_rows,health_rows, product_rows)\n",
    "print(len(set(total)))\n",
    "\n",
    "revs_df['topic']='NaN'\n",
    "for i in range(len(revs_df)):\n",
    "    if i in health_rows:\n",
    "        revs_df.loc[revs_df.index==i, 'topic'] = 'health'\n",
    "    elif i in quality_rows:\n",
    "        revs_df.loc[revs_df.index==i, 'topic'] = 'quality'\n",
    "    elif i in product_rows:\n",
    "        revs_df.loc[revs_df.index == i,'topic'] = 'product'"
   ]
  },
  {
   "cell_type": "code",
   "execution_count": 3,
   "metadata": {},
   "outputs": [],
   "source": [
    "import time"
   ]
  },
  {
   "cell_type": "code",
   "execution_count": 1279,
   "metadata": {},
   "outputs": [],
   "source": [
    "def get_prediction(url_link):\n",
    "    tic = time.clock()\n",
    "    reviews_doc = get_reviews(url_link)\n",
    "    reviews = []\n",
    "    orig_reviews = []\n",
    "    ids = []\n",
    "    helpful = []\n",
    "    for i in range(len(reviews_doc)):\n",
    "        review = reviews_doc[i]['body']\n",
    "        orig_reviews.append(review)\n",
    "        rev_process = clean_text(review)\n",
    "        reviews.append(rev_process)\n",
    "        rev_id = reviews_doc[i]['id']\n",
    "        ids.append(rev_id)\n",
    "        rev_help = reviews_doc[i]['helpful_votes']\n",
    "        helpful.append(rev_help)\n",
    "        \n",
    "    helpful = [1 if el=='One' else el for el in helpful]\n",
    "    request_data = {'instances': reviews}\n",
    "    #request_json = request.get_json(silent=True)\n",
    "\n",
    "    # Authenticate and call CMLE prediction API\n",
    "    credentials = GoogleCredentials.get_application_default()\n",
    "    api = discovery.build('ml', 'v1', credentials=credentials,discoveryServiceUrl='https://storage.googleapis.com/cloud-ml/discovery/ml_v1_discovery.json')\n",
    "    parent = 'projects/%s/models/%s/versions/%s' % ('petfoodrecommend', 'insight_project_lstmII', 'v3')\n",
    "    response = api.projects().predict(body=request_data, name=parent).execute()\n",
    "\n",
    "    # Format response\n",
    "    reviews_class = []\n",
    "    for i in range(len(reviews)):\n",
    "        response_list = response['predictions'][i]['dense']\n",
    "        group = response_list.index(max(response_list))\n",
    "        reviews_class.append(group)\n",
    "    \n",
    "    dict_class = dict(zip(ids,reviews_class))\n",
    "    dict_help = dict(zip(ids,helpful))\n",
    "    dict_review = dict(zip(ids,orig_reviews))\n",
    "    \n",
    "    class_id = defaultdict(list) \n",
    "    for key, val in sorted(dict_class.items()): \n",
    "        class_id[val].append(key) \n",
    "        \n",
    "    max_help = 0\n",
    "    final_dict = {}\n",
    "    for key in class_id.keys():\n",
    "        for id_val in class_id[key]:\n",
    "            max_help_val = dict_help[id_val]\n",
    "            if int(max_help_val)>max_help:\n",
    "                max_help = int(max_help_val)\n",
    "                most_help_id = id_val\n",
    "        \n",
    "        final_dict[key] = most_help_id\n",
    "        max_help = 0\n",
    "        \n",
    "    class_0 = 100 * reviews_class.count(0)/len(reviews_class)\n",
    "    class_1 = 100 * reviews_class.count(1)/len(reviews_class)\n",
    "    class_2 = 100 * reviews_class.count(2)/len(reviews_class)\n",
    "#    results_dict = dict(zip(ids,reviews_class,helpful))\n",
    "\n",
    "    \n",
    "    result_dict = {}\n",
    "    inside_dict = {}\n",
    "    for key in final_dict:\n",
    "        if key==0:\n",
    "            inside_dict['percent'] = class_0\n",
    "        elif key==1:\n",
    "            inside_dict['percent'] = class_1\n",
    "        elif key==2:\n",
    "            inside_dict['percent'] = class_2\n",
    "            \n",
    "        inside_dict['helpful_id'] = final_dict[key]\n",
    "        inside_dict['helpful_rev'] = dict_review[final_dict[key]]\n",
    "        result_dict[key] = inside_dict\n",
    "        inside_dict = {}\n",
    "        \n",
    "        for i in range(3):\n",
    "            inside={}\n",
    "            if i not in list(result_dict.keys()):\n",
    "                inside['helpful_rev'] = 'There are no reviews in this category!'\n",
    "                inside['percent'] = 0\n",
    "                result_dict[i] = inside\n",
    "            \n",
    "    toc = time.clock()\n",
    "    print(\"Elapsed time: \", toc-tic )\n",
    "    return reviews_class, result_dict, len(reviews_class)"
   ]
  },
  {
   "cell_type": "code",
   "execution_count": 1282,
   "metadata": {},
   "outputs": [
    {
     "name": "stdout",
     "output_type": "stream",
     "text": [
      "5\n",
      "1\n",
      "2\n",
      "3\n",
      "4\n",
      "5\n",
      "Elapsed time:  0.5586510000011913\n"
     ]
    }
   ],
   "source": [
    "result_dict = get_prediction('https://www.chewy.com/hills-science-diet-adult-sensitive/dp/34037')"
   ]
  },
  {
   "cell_type": "code",
   "execution_count": 1212,
   "metadata": {},
   "outputs": [
    {
     "data": {
      "image/png": "[encoded data removed]",
      "text/plain": [
       "<Figure size 864x432 with 1 Axes>"
      ]
     },
     "metadata": {
      "needs_background": "light"
     },
     "output_type": "display_data"
    }
   ],
   "source": [
    "fig1 = plt.figure(figsize = (6,8))\n",
    "ax = fig1.add_subplot(111)\n",
    "ax.spines[\"top\"].set_visible(False)    \n",
    "ax.spines[\"bottom\"].set_visible(True)    \n",
    "ax.spines[\"right\"].set_visible(False)    \n",
    "ax.spines[\"left\"].set_visible(True)    \n",
    "\n",
    "\n",
    "groups = ['quality','health','product','other']\n",
    "\n",
    "plt.yticks(range(0, 25001, 5000), fontsize=12)  \n",
    "plt.xticks(fontsize=18)  \n",
    "plt.rc('font', family='serif')\n",
    "count = revs_df['topic'].value_counts()\n",
    "percent = 100*count/len(revs_df)\n",
    "ax = percent.plot(kind='bar',\n",
    "                                    figsize=(12,6),\n",
    "                                    title=\"Distribution of Topics Using Manual Labeling\",\n",
    "                                    color = 'steelblue')\n",
    "ax.set_ylabel(\"Percent of Reviews\")\n",
    "ax.set_xticklabels(['Not Labelled','Quality','Health','Service']) \n",
    "plt.yticks(range(0, 41, 10), fontsize=12)  \n",
    "plt.xticks(fontsize=20)  \n",
    "for label in ax.get_xticklabels():\n",
    "    label.set_rotation(0)\n",
    "plt.savefig('validation.png')"
   ]
  },
  {
   "cell_type": "code",
   "execution_count": 1213,
   "metadata": {},
   "outputs": [
    {
     "data": {
      "text/plain": [
       "0.3170731707317073"
      ]
     },
     "execution_count": 1213,
     "metadata": {},
     "output_type": "execute_result"
    }
   ],
   "source": [
    "len(revs_df[revs_df['topic']=='NaN'])/len(revs_df)"
   ]
  },
  {
   "cell_type": "markdown",
   "metadata": {},
   "source": [
    "We can see that using the naive approach of labeling the reviews using a dictionary of words fails to label about 30 percent of the reviews, whereas an RNN model can pick up more nuanced information from the structure of the sentence to do the same job."
   ]
  },
  {
   "cell_type": "code",
   "execution_count": null,
   "metadata": {},
   "outputs": [],
   "source": []
  }
 ],
 "metadata": {
  "kernelspec": {
   "display_name": "Python 3",
   "language": "python",
   "name": "python3"
  },
  "language_info": {
   "codemirror_mode": {
    "name": "ipython",
    "version": 3
   },
   "file_extension": ".py",
   "mimetype": "text/x-python",
   "name": "python",
   "nbconvert_exporter": "python",
   "pygments_lexer": "ipython3",
   "version": "3.5.3"
  }
 },
 "nbformat": 4,
 "nbformat_minor": 4
}
